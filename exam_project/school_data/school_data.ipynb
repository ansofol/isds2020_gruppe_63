{
 "metadata": {
  "language_info": {
   "codemirror_mode": {
    "name": "ipython",
    "version": 3
   },
   "file_extension": ".py",
   "mimetype": "text/x-python",
   "name": "python",
   "nbconvert_exporter": "python",
   "pygments_lexer": "ipython3",
   "version": "3.7.7-final"
  },
  "orig_nbformat": 2,
  "kernelspec": {
   "name": "python3",
   "display_name": "Python 3"
  }
 },
 "nbformat": 4,
 "nbformat_minor": 2,
 "cells": [
  {
   "cell_type": "code",
   "execution_count": 234,
   "metadata": {
    "tags": []
   },
   "outputs": [],
   "source": [
    "import pandas as pd\n",
    "import requests\n",
    "import json\n",
    "import time\n",
    "import numpy as np\n",
    "import os\n",
    "\n",
    "cwd = os.getcwd() # save current working directory"
   ]
  },
  {
   "cell_type": "markdown",
   "metadata": {},
   "source": [
    "## Location data"
   ]
  },
  {
   "cell_type": "code",
   "execution_count": 231,
   "metadata": {},
   "outputs": [],
   "source": [
    "# store llist of kommune codes in list\n",
    "kom_koder_raw = pd.read_excel(cwd+'/data_download/kom_koder.xls', usecols = 'G:H')\n",
    "kom_koder = list(kom_koder_raw.iloc[3:, 0])"
   ]
  },
  {
   "cell_type": "markdown",
   "metadata": {},
   "source": [
    "### Set up functions for school location data"
   ]
  },
  {
   "cell_type": "code",
   "execution_count": 221,
   "metadata": {},
   "outputs": [],
   "source": [
    "def get_school_data(kom_kode):\n",
    "    \"\"\"\n",
    "    Fetches data for schools by given kommune code and returns a json response.\n",
    "    \"\"\"\n",
    "    url = f'https://dingeologi.appspot.com/_ah/api/skoledistriktendpoint/v1/getSkoler?kommunenr={kom_kode}'\n",
    "    response = requests.get(url)\n",
    "    return response.json()\n"
   ]
  },
  {
   "cell_type": "code",
   "execution_count": 222,
   "metadata": {},
   "outputs": [],
   "source": [
    "def process_school_data(school_json):\n",
    "    \"\"\"\n",
    "    Takes a json response from get_school_data() as input and returns a dataframe.\n",
    "    \"\"\"\n",
    "    # set up dataframe\n",
    "    number_of_schools = len(school_json['items'])\n",
    "    columns = ['navn', 'urlfriendly', 'leder', 'adresse', 'postnr', 'postnrby', 'telefon', 'email', 'www', 'introtekst', 'cvrnr', 'beliggenhedskommune', 'beliggenhedskommunenr', 'administrativkommune', 'opdateret', 'lat', 'lon', 'institutionstype2', 'institutionstype3', 'maxklassetrin', 'ejerforhold', 'oprettet', 'elevtal1516', 'elevtal1415', 'elevtal1314', 'elevtal1213', 'elevtal1112', 'insertdate', 'image', 'active', 'institutionsnummer']\n",
    "    schools_df = pd.DataFrame(data = None, columns = columns, index = range(number_of_schools))\n",
    "\n",
    "    # add data\n",
    "    for i in range(number_of_schools):\n",
    "        active_school = school_json['items'][i]\n",
    "\n",
    "        for key, val in active_school.items():\n",
    "            schools_df.loc[i][key] = val\n",
    "\n",
    "    schools_df.institutionsnummer = schools_df.institutionsnummer.astype(str)\n",
    "\n",
    "    return schools_df"
   ]
  },
  {
   "cell_type": "markdown",
   "metadata": {},
   "source": [
    "### Fetch from API"
   ]
  },
  {
   "cell_type": "code",
   "execution_count": 223,
   "metadata": {},
   "outputs": [],
   "source": [
    "# MAIN DOWNLOADING PROCESS\n",
    "# Get json data, process to df and append to list\n",
    "school_data_list = []\n",
    "\n",
    "for kom in kom_koder: \n",
    "    raw_json = get_school_data(kom)\n",
    "    school_data_tidy = process_school_data(raw_json)\n",
    "    school_data_list.append(school_data_tidy)\n",
    "\n",
    "    time.sleep(0.5)\n",
    "\n",
    "# Format and save as csv\n",
    "cols = ['navn', 'postnr', 'beliggenhedskommune', 'beliggenhedskommunenr', 'lat', 'lon', 'institutionstype2', 'institutionstype3', 'institutionsnummer']\n",
    "all_schools = pd.concat(school_data_list)\\\n",
    "                .reset_index(drop = True)\\\n",
    "                .loc[:,cols]\n",
    "\n",
    "all_schools.to_csv('school_location.csv')"
   ]
  },
  {
   "cell_type": "markdown",
   "metadata": {},
   "source": [
    "## Student count and school grades\n",
    "### Set up functions for formatting"
   ]
  },
  {
   "cell_type": "code",
   "execution_count": 225,
   "metadata": {},
   "outputs": [],
   "source": [
    "def format_student_count(student_count_raw):\n",
    "    \"\"\"\n",
    "    Formats student count data for merge onto grade and location data. Returns formattedd dataframe.\n",
    "    \"\"\"\n",
    "\n",
    "    student_count = student_count_raw.iloc[:,2:]\\\n",
    "                            .rename(columns = {'Institutionsnummer': 'institutionsnummer'})\n",
    "\n",
    "    student_count = student_count[student_count['institutionsnummer'] != 'nan']\n",
    "    student_count.columns = student_count.columns.str.replace('/', '-')\n",
    "\n",
    "    return student_count\n",
    "\n"
   ]
  },
  {
   "cell_type": "code",
   "execution_count": 226,
   "metadata": {},
   "outputs": [],
   "source": [
    "def add_inst_list(raw_df):\n",
    "    \"\"\"\n",
    "    The raw data from excel contains a columns with both school \n",
    "    names and institution numbers. This function deletes this\n",
    "    column and adds a column with only the institution number.\n",
    "\n",
    "    \"\"\"\n",
    "\n",
    "    raw_df['is_inst_num'] = [val.isdecimal() for val in raw_df['Rækkenavne']]\n",
    "\n",
    "    schools_and_inst = list(raw_df['Rækkenavne'])\n",
    "    inst_count_dict = {}\n",
    "\n",
    "    for i in range(len(schools_and_inst)):\n",
    "        if schools_and_inst[i].isdecimal():\n",
    "            active_num = schools_and_inst[i]\n",
    "            count = 0\n",
    "        else:\n",
    "            count += 1\n",
    "            inst_count_dict[active_num] = count\n",
    "    \n",
    "    inst_nested = [[num]*count for num, count in inst_count_dict.items()]\n",
    "    inst_list = [num for inst_list in inst_nested for num in inst_list]\n",
    "\n",
    "    df_out = raw_df[raw_df.is_inst_num == False]\\\n",
    "             .drop(columns = 'is_inst_num')\n",
    "    df_out['institutionsnummer'] = inst_list\n",
    "\n",
    "    return df_out"
   ]
  },
  {
   "cell_type": "markdown",
   "metadata": {},
   "source": [
    "## Merge grades, location and student count"
   ]
  },
  {
   "cell_type": "code",
   "execution_count": 227,
   "metadata": {},
   "outputs": [],
   "source": [
    "def get_all_data(end_year, grades_raw, student_count_raw, school_loc_raw):\n",
    "    \"\"\"\n",
    "    This function loads raw grade data and formatted student count data for the\n",
    "    specified year as well as dirty school location data and merges into one\n",
    "    combined dataframe ready for datacleaning.\n",
    "    \"\"\"\n",
    "    year = str(end_year-1)+'-'+str(end_year)\n",
    "    grades = add_inst_list(grades_raw)\n",
    "    student_count = format_student_count(student_count_raw) \n",
    "\n",
    "    # prepare format for merge\n",
    "    for df in [grades, student_count, school_loc_raw]:\n",
    "        df.institutionsnummer = df.institutionsnummer.astype(str)\n",
    "\n",
    "    # merge graeds to student count\n",
    "    school_grade_count = pd.merge(left = grades, right = student_count[['institutionsnummer', year]], how = 'left', on = 'institutionsnummer')\\\n",
    "                            .rename(columns = {year: 'student_count'})\n",
    "    # merge to location data\n",
    "    school_grade_count_loc = pd.merge(left = school_grade_count, right = school_loc_raw, on = 'institutionsnummer', how = 'outer')\n",
    "\n",
    "    return school_grade_count_loc"
   ]
  },
  {
   "cell_type": "markdown",
   "metadata": {},
   "source": [
    "## Clean data"
   ]
  },
  {
   "cell_type": "code",
   "execution_count": 228,
   "metadata": {},
   "outputs": [],
   "source": [
    "def clean_school_data(dirty_df):\n",
    "    \"\"\"\n",
    "    Extracts overall grade point average (true value as well as the socioeconomic reference) for\n",
    "    schools in input dataframe. Reshapes dataframe to one school/location point pr. row. Saves\n",
    "    grade data, location data, student count as well as type of institution for further sorting.\n",
    "\n",
    "    \"\"\"\n",
    "\n",
    "    avg_df = dirty_df[dirty_df['Rækkenavne'] == 'Gennemsnit'] # might update later to extract grades                                                                   for all subjects\n",
    "    # Define variables of interest, split into text and numeric\n",
    "    num_vars = ['Karakter', 'Soc_ref', 'student_count', 'postnr', 'beliggenhedskommunenr', 'lat', 'lon']\n",
    "    text_vars = ['navn', 'institutionstype2', 'institutionstype3']\n",
    "    \n",
    "    # Extract and clean text variables\n",
    "    temp_text = avg_df.pivot(columns = 'institutionsnummer', values = text_vars)\\\n",
    "                        .transpose()\\\n",
    "                        .stack()\\\n",
    "                        .unstack(level = 0)\\\n",
    "                        .reset_index(col_level = -1)\n",
    "    temp_text.columns = ['institutionsnummer', 'level_1', 'navn', 'institutionstype2', 'institutionstype3']\n",
    "    text_df = temp_text.drop_duplicates('institutionsnummer')\\\n",
    "                        .drop('level_1', axis = 1)\n",
    "    \n",
    "    # Extract and clean numeric variables\n",
    "    num_df = pd.pivot_table(data = avg_df, index = 'institutionsnummer', values = num_vars)\\\n",
    "                .reset_index()\n",
    "    \n",
    "    \n",
    "    # Merge together and drop missing values\n",
    "    # OBS: for missing values we have only grade data, no location data.\n",
    "    tidy = pd.merge(left = num_df, right = text_df, on = 'institutionsnummer', how = 'left')\\\n",
    "            .dropna()\n",
    "\n",
    "    # Add geo coordinates and format for merge\n",
    "    tidy['coordinates'] = tuple(zip(tidy['lat'], tidy['lon']))\n",
    "    tidy.postnr = tidy.postnr.astype(int)\n",
    "    tidy.beliggenhedskommunenr = tidy.beliggenhedskommunenr.astype(int)\n",
    "\n",
    "    return tidy\n",
    "\n"
   ]
  },
  {
   "cell_type": "code",
   "execution_count": 229,
   "metadata": {},
   "outputs": [],
   "source": [
    "# MAIN DATA CLEANING PROCESS\n",
    "# Get data for school location, grades and student count, merge, clean and save to csv\n",
    "years = ['2009-2010', '2010-2011', '2012-2013', '2013-2014', '2014-2015', '2015-2016', '2016-2017', '2017-2018', '2018-2019']\n",
    "\n",
    "schools_clean = {} # save as dict if further processing is needed\n",
    "\n",
    "student_count = pd.read_excel(cwd+'/data_download/student_count.xls', header = 7)\n",
    "school_location = pd.read_csv('school_location_dirty.csv')\n",
    "\n",
    "for year in years:\n",
    "    grades = pd.read_excel(cwd+f'/data_download/grades_{year}.xls', header = 6)\n",
    "    end_year = int(year[-4:])\n",
    "\n",
    "    dirty = get_all_data(end_year, grades, student_count, school_location)\n",
    "    clean = clean_school_data(dirty)\n",
    "\n",
    "    schools_clean[year] = clean\n",
    "    clean.to_csv(f'school_clean_{year}.csv')"
   ]
  }
 ]
}