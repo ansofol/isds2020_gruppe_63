{
 "metadata": {
  "language_info": {
   "codemirror_mode": {
    "name": "ipython",
    "version": 3
   },
   "file_extension": ".py",
   "mimetype": "text/x-python",
   "name": "python",
   "nbconvert_exporter": "python",
   "pygments_lexer": "ipython3",
   "version": "3.7.7-final"
  },
  "orig_nbformat": 2,
  "kernelspec": {
   "name": "python3",
   "display_name": "Python 3"
  }
 },
 "nbformat": 4,
 "nbformat_minor": 2,
 "cells": [
  {
   "cell_type": "code",
   "execution_count": 113,
   "metadata": {
    "tags": []
   },
   "outputs": [],
   "source": [
    "import pandas as pd\n",
    "import requests\n",
    "import json\n",
    "import time\n",
    "import numpy as np\n",
    "import os\n",
    "\n",
    "cwd = os.getcwd() # save current working directory"
   ]
  },
  {
   "cell_type": "markdown",
   "metadata": {},
   "source": [
    "# Get school location data"
   ]
  },
  {
   "cell_type": "markdown",
   "metadata": {},
   "source": [
    "## Location data"
   ]
  },
  {
   "cell_type": "markdown",
   "metadata": {},
   "source": [
    "### kommunekoder"
   ]
  },
  {
   "cell_type": "code",
   "execution_count": 47,
   "metadata": {},
   "outputs": [],
   "source": [
    "kom_koder_raw = pd.read_excel(cwd+'/data_download/kom_koder.xls', usecols = 'G:H')\n",
    "kom_df = kom_koder_raw.iloc[3:]\\\n",
    "                        .reset_index(drop = True)\n",
    "kom_df.columns = ['kom_kode','kom_navn']\n",
    "kom_koder = list(kom_df.iloc[:,0])"
   ]
  },
  {
   "cell_type": "markdown",
   "metadata": {},
   "source": [
    "### School data"
   ]
  },
  {
   "cell_type": "code",
   "execution_count": 48,
   "metadata": {},
   "outputs": [],
   "source": [
    "def get_school_data(kom_kode):\n",
    "    \"\"\"\n",
    "    Fetches data for schools by given kommune code and returns a json response.\n",
    "    \"\"\"\n",
    "    url = f'https://dingeologi.appspot.com/_ah/api/skoledistriktendpoint/v1/getSkoler?kommunenr={kom_kode}'\n",
    "    response = requests.get(url)\n",
    "    return response.json()\n"
   ]
  },
  {
   "cell_type": "code",
   "execution_count": 49,
   "metadata": {},
   "outputs": [],
   "source": [
    "def process_school_data(school_json):\n",
    "    \"\"\"\n",
    "    Takes a json response as input and returns a dataframe.\n",
    "    \"\"\"\n",
    "    # set up dataframe\n",
    "    number_of_schools = len(school_json['items'])\n",
    "    columns = ['navn', 'urlfriendly', 'leder', 'adresse', 'postnr', 'postnrby', 'telefon', 'email', 'www', 'introtekst', 'cvrnr', 'beliggenhedskommune', 'beliggenhedskommunenr', 'administrativkommune', 'opdateret', 'lat', 'lon', 'institutionstype2', 'institutionstype3', 'maxklassetrin', 'ejerforhold', 'oprettet', 'elevtal1516', 'elevtal1415', 'elevtal1314', 'elevtal1213', 'elevtal1112', 'insertdate', 'image', 'active', 'institutionsnummer']\n",
    "    schools_df = pd.DataFrame(data = None, columns = columns, index = range(number_of_schools))\n",
    "\n",
    "    # add data\n",
    "    for i in range(number_of_schools):\n",
    "        active_school = school_json['items'][i]\n",
    "\n",
    "        for key, val in active_school.items():\n",
    "            schools_df.loc[i][key] = val\n",
    "\n",
    "    schools_df.institutionsnummer = schools_df.institutionsnummer.astype(str)\n",
    "\n",
    "    return schools_df"
   ]
  },
  {
   "cell_type": "markdown",
   "metadata": {},
   "source": [
    "### From API"
   ]
  },
  {
   "cell_type": "code",
   "execution_count": 50,
   "metadata": {},
   "outputs": [],
   "source": [
    "# MAIN DOWNLOADING PROCESS\n",
    "school_data_list = []\n",
    "for kom in kom_koder: \n",
    "    raw_json = get_school_data(kom)\n",
    "    school_data_tidy = process_school_data(raw_json)\n",
    "    school_data_list.append(school_data_tidy)\n",
    "\n",
    "    time.sleep(0.5)"
   ]
  },
  {
   "cell_type": "code",
   "execution_count": 51,
   "metadata": {},
   "outputs": [
    {
     "output_type": "execute_result",
     "data": {
      "text/plain": "0       101001\n1       101003\n2       101005\n3       101007\n4       101008\n         ...  \n2383    851110\n2384    851111\n2385    851112\n2386    851114\n2387    851221\nName: institutionsnummer, Length: 2388, dtype: object"
     },
     "metadata": {},
     "execution_count": 51
    }
   ],
   "source": [
    "cols = ['navn', 'postnr', 'beliggenhedskommune', 'beliggenhedskommunenr', 'lat', 'lon', 'institutionstype2', 'institutionstype3', 'institutionsnummer']\n",
    "\n",
    "all_schools = pd.concat(school_data_list)\\\n",
    "                .reset_index(drop = True)\\\n",
    "                .loc[:,cols]\n",
    "                \n",
    "all_schools.to_csv('school_location_dirty.csv')"
   ]
  },
  {
   "cell_type": "markdown",
   "metadata": {},
   "source": [
    "## School student count"
   ]
  },
  {
   "cell_type": "code",
   "execution_count": 136,
   "metadata": {},
   "outputs": [],
   "source": [
    "\"\"\"\n",
    "TODO: integrate formatting function into data cleaning process \n",
    "\"\"\"\n",
    "\n",
    "student_count_raw = pd.read_excel(cwd+'/data_download/student_count.xls', header = 7)\n",
    "\n",
    "def format_student_count(student_count_raw):\n",
    "    \"\"\"\n",
    "    Formats student count data for merge onto grade and location data. Returns formattedd dataframe.\n",
    "    \"\"\"\n",
    "\n",
    "    student_count = student_count_raw.iloc[:,2:]\\\n",
    "                            .rename(columns = {'Institutionsnummer': 'institutionsnummer'})\n",
    "\n",
    "    student_count.institutionsnummer = student_count.institutionsnummer.astype(str).str[:6].astype(str)\n",
    "\n",
    "    student_count = student_count[student_count['institutionsnummer'] != 'nan']\n",
    "    student_count.columns = student_count.columns.str.replace('/', '-')\n",
    "\n",
    "    return student_count\n",
    "\n"
   ]
  },
  {
   "cell_type": "code",
   "execution_count": 28,
   "metadata": {},
   "outputs": [],
   "source": [
    "\"\"\"student_count_raw = pd.read_excel(cwd+'/data_download/student_count.xls',header = 7)\n",
    "student_count = student_count_raw.iloc[:, 2:]\\\n",
    "    .rename(columns = {'Institutionsnummer': 'institutionsnummer'})\n",
    "\n",
    "student_count.institutionsnummer = student_count.institutionsnummer.astype(str).str[:6].astype(str)\n",
    "\n",
    "student_count = student_count[student_count['institutionsnummer'] != 'nan']\n",
    "student_count.columns = student_count.columns.str.replace('/','-')\n",
    "student_count.to_csv('student_count_formatted.csv')\"\"\""
   ]
  },
  {
   "cell_type": "code",
   "execution_count": 137,
   "metadata": {},
   "outputs": [],
   "source": [
    "student_count = format_student_count(student_count_raw)"
   ]
  },
  {
   "cell_type": "markdown",
   "metadata": {},
   "source": [
    "## School grades"
   ]
  },
  {
   "cell_type": "code",
   "execution_count": 30,
   "metadata": {},
   "outputs": [],
   "source": [
    "def add_inst_list(raw_df):\n",
    "    \"\"\"\n",
    "    The raw data from excel contains a columns with both school \n",
    "    names and institution numbers. This function deletes this\n",
    "    column and adds a column with only the institution number.\n",
    "\n",
    "    \"\"\"\n",
    "\n",
    "    raw_df['is_inst_num'] = [val.isdecimal() for val in raw_df['Rækkenavne']]\n",
    "\n",
    "    schools_and_inst = list(raw_df['Rækkenavne'])\n",
    "    inst_count_dict = {}\n",
    "\n",
    "    for i in range(len(schools_and_inst)):\n",
    "        if schools_and_inst[i].isdecimal():\n",
    "            active_num = schools_and_inst[i]\n",
    "            count = 0\n",
    "        else:\n",
    "            count += 1\n",
    "            inst_count_dict[active_num] = count\n",
    "    \n",
    "    inst_nested = [[num]*count for num, count in inst_count_dict.items()]\n",
    "    inst_list = [num for inst_list in inst_nested for num in inst_list]\n",
    "\n",
    "    df_out = raw_df[raw_df.is_inst_num == False]\\\n",
    "             .drop(columns = 'is_inst_num')\n",
    "    df_out['institutionsnummer'] = inst_list\n",
    "\n",
    "    return df_out"
   ]
  },
  {
   "cell_type": "markdown",
   "metadata": {},
   "source": [
    "# Merge and clean"
   ]
  },
  {
   "cell_type": "markdown",
   "metadata": {},
   "source": [
    "## Merge grades, location and student count"
   ]
  },
  {
   "cell_type": "code",
   "execution_count": 44,
   "metadata": {},
   "outputs": [],
   "source": [
    "# MERGE ALL DATA\n",
    "\n",
    "\n",
    "def get_all_data(year):\n",
    "    \"\"\"\n",
    "    This function loads raw grade data and formatted student count data for the\n",
    "    specified year as well as dirty school location data and merges into one\n",
    "    combined dataframe ready for datacleaning.\n",
    "\n",
    "    TODO: Update, so function is not dependend on global variables.\n",
    "    \"\"\"\n",
    "\n",
    "    grades_raw = pd.read_excel(cwd+f'/data_download/grades_{year}.xls', header = 6)\n",
    "    grades = add_inst_list(grades_raw)\n",
    "    \n",
    "    student_count = pd.read_csv('student_count_formatted.csv') # maybe create nested formatting function\n",
    "    school_loc = pd.read_csv('school_location_dirty.csv') # maybe nest data fetching function here\n",
    "\n",
    "    # prepare format for merge\n",
    "    for df in [grades, student_count, school_loc]:\n",
    "        df.institutionsnummer = df.institutionsnummer.astype(str)\n",
    "\n",
    "    # merge graeds to student count\n",
    "    school_grade_count = pd.merge(left = grades, right = student_count[['institutionsnummer', year]], how = 'left', on = 'institutionsnummer')\\\n",
    "                            .rename(columns = {year: 'student_count'})\n",
    "    # merge to location data\n",
    "    school_grade_count_loc = pd.merge(left = school_grade_count, right = school_loc, on = 'institutionsnummer', how = 'outer')\n",
    "\n",
    "    return school_grade_count_loc"
   ]
  },
  {
   "cell_type": "code",
   "execution_count": 32,
   "metadata": {},
   "outputs": [],
   "source": [
    "\"\"\"years = ['2009-2010', '2010-2011', '2012-2013', '2013-2014', '2014-2015', '2015-2016', '2016-2017', '2017-2018', '2018-2019']\n",
    "\n",
    "schools_dirty = {}\n",
    "for year in years:\n",
    "    schools_data = get_all_data(year)\n",
    "    schools_dirty[year] = schools_data\"\"\""
   ]
  },
  {
   "cell_type": "markdown",
   "metadata": {},
   "source": [
    "## Clean data"
   ]
  },
  {
   "cell_type": "code",
   "execution_count": 126,
   "metadata": {},
   "outputs": [],
   "source": [
    "def clean_school_data(dirty_df):\n",
    "    \"\"\"\n",
    "    Extracts overall grade point average (true value as well as the socioeconomic reference) for\n",
    "    schools in input dataframe. Reshapes dataframe to one school/location point pr. row. Saves\n",
    "    grade data, location data, student count as well as type of institution for further sorting.\n",
    "\n",
    "    \"\"\"\n",
    "\n",
    "    avg_df = dirty_df[dirty_df['Rækkenavne'] == 'Gennemsnit'] # might update later to extract grades                                                                   for all subjects\n",
    "    # Define variables of interest, split into text and numeric\n",
    "    num_vars = ['Karakter', 'Soc_ref', 'student_count', 'postnr', 'beliggenhedskommunenr', 'lat', 'lon']\n",
    "    text_vars = ['navn', 'institutionstype2', 'institutionstype3']\n",
    "    \n",
    "    # Extract and clean text variables\n",
    "    temp_text = avg_df.pivot(columns = 'institutionsnummer', values = text_vars)\\\n",
    "                        .transpose()\\\n",
    "                        .stack()\\\n",
    "                        .unstack(level = 0)\\\n",
    "                        .reset_index(col_level = -1)\n",
    "    temp_text.columns = ['institutionsnummer', 'level_1', 'navn', 'institutionstype2', 'institutionstype3']\n",
    "    text_df = temp_text.drop_duplicates('institutionsnummer')\\\n",
    "                        .drop('level_1', axis = 1)\n",
    "    \n",
    "    # Extract and clean numeric variables\n",
    "    num_df = pd.pivot_table(data = avg_df, index = 'institutionsnummer', values = num_vars)\\\n",
    "                .reset_index()\n",
    "    \n",
    "    \n",
    "    # Merge together and drop missing values\n",
    "    # OBS: for missing values we have only grade data, no location data.\n",
    "    tidy = pd.merge(left = num_df, right = text_df, on = 'institutionsnummer', how = 'left')\\\n",
    "            .dropna()\n",
    "\n",
    "    # Add geo coordinates and format for merge\n",
    "    tidy['coordinates'] = tuple(zip(tidy['lat'], tidy['lon']))\n",
    "    tidy.postnr = tidy.postnr.astype(int)\n",
    "    tidy.beliggenhedskommunenr = tidy.beliggenhedskommunenr.astype(int)\n",
    "\n",
    "    return tidy\n",
    "\n"
   ]
  },
  {
   "cell_type": "code",
   "execution_count": 138,
   "metadata": {},
   "outputs": [],
   "source": [
    "#Process and save as dict and csv\n",
    "years = ['2009-2010', '2010-2011', '2012-2013', '2013-2014', '2014-2015', '2015-2016', '2016-2017', '2017-2018', '2018-2019']\n",
    "\n",
    "schools_clean = {}\n",
    "for year in years:\n",
    "    dirty = get_all_data(year)\n",
    "    clean = clean_school_data(dirty)\n",
    "\n",
    "    schools_clean[year] = clean\n",
    "    clean.to_csv(f'school_clean_{year}.csv')"
   ]
  },
  {
   "cell_type": "markdown",
   "metadata": {},
   "source": [
    "## Code for inspecting data etc - to be deleted"
   ]
  },
  {
   "cell_type": "code",
   "execution_count": 35,
   "metadata": {},
   "outputs": [],
   "source": [
    "test_df = schools_dirty['2009-2010']\n",
    "test_df_avg = test_df[test_df['Rækkenavne'] == 'Gennemsnit']"
   ]
  },
  {
   "cell_type": "code",
   "execution_count": 36,
   "metadata": {},
   "outputs": [],
   "source": [
    "num_vars = ['Soc_ref', 'Karakter',  'student_count', 'postnr', 'beliggenhedskommunenr', 'lat', 'lon',]\n",
    "text_vars = [ 'institutionstype2', 'institutionstype3', 'navn']\n",
    "num_vars_df = pd.pivot_table(data = test_df_avg, index = ['institutionsnummer'], values = num_vars)\\\n",
    "    .reset_index()"
   ]
  },
  {
   "cell_type": "code",
   "execution_count": 37,
   "metadata": {},
   "outputs": [],
   "source": [
    "#pivot_transpose = test_df.pivot(columns = 'institutionsnummer', values = text_vars).transpose()"
   ]
  },
  {
   "cell_type": "code",
   "execution_count": 38,
   "metadata": {},
   "outputs": [],
   "source": [
    "#pivot_transpose_stack = pd.DataFrame(pivot_transpose.stack())"
   ]
  },
  {
   "cell_type": "code",
   "execution_count": 39,
   "metadata": {},
   "outputs": [],
   "source": [
    "temp = test_df_avg.pivot(columns = 'institutionsnummer', values = text_vars)\\\n",
    "                .transpose()\\\n",
    "                .stack()\\\n",
    "                .unstack(level = 0)\\\n",
    "                .reset_index(col_level = -1)\n",
    "\"\"\"pivot_transpose_stack\\.unstack(level=0)\\.reset_index(col_level = -1)\"\"\"\n",
    "\n",
    "temp.columns = ['institutionsnummer', 'level_1', 'institutionstype2', 'institutionstype3', 'navn']\n",
    "text_df = temp.drop_duplicates('institutionsnummer')\\\n",
    "            .drop('level_1', axis = 1)"
   ]
  },
  {
   "cell_type": "code",
   "execution_count": 40,
   "metadata": {},
   "outputs": [
    {
     "output_type": "execute_result",
     "data": {
      "text/plain": "\"\\ntext_nums = list(text_df.institutionsnummer)\\nnum_nums = list(num_vars_df.institutionsnummer)\\n\\nlen(text_nums), len(num_nums)\\n\\ncheck_list = [num in num_nums for num in text_nums]\\ncheck_list\\n\\ntext_df['in_nums'] = check_list\\n\""
     },
     "metadata": {},
     "execution_count": 40
    }
   ],
   "source": [
    "# why do i have so many institution numbers?\n",
    "\"\"\"\n",
    "text_nums = list(text_df.institutionsnummer)\n",
    "num_nums = list(num_vars_df.institutionsnummer)\n",
    "\n",
    "len(text_nums), len(num_nums)\n",
    "\n",
    "check_list = [num in num_nums for num in text_nums]\n",
    "check_list\n",
    "\n",
    "text_df['in_nums'] = check_list\n",
    "\"\"\""
   ]
  },
  {
   "cell_type": "code",
   "execution_count": 41,
   "metadata": {},
   "outputs": [],
   "source": [
    "# not_in_num_df = text_df[text_df['in_nums'] == False].reset_index(drop = True)"
   ]
  },
  {
   "cell_type": "code",
   "execution_count": 42,
   "metadata": {},
   "outputs": [
    {
     "output_type": "execute_result",
     "data": {
      "text/plain": "\"\\ntest_num = not_in_num_df.reset_index()    .loc[800, 'institutionsnummer']\\n\\nnot_in_num_df # har ikke data på karaktersnit eller lukket \\n\""
     },
     "metadata": {},
     "execution_count": 42
    }
   ],
   "source": [
    "\"\"\"\n",
    "test_num = not_in_num_df.reset_index()\\\n",
    "    .loc[800, 'institutionsnummer']\n",
    "\n",
    "not_in_num_df # har ikke data på karaktersnit eller lukket \n",
    "\"\"\""
   ]
  },
  {
   "cell_type": "code",
   "execution_count": 43,
   "metadata": {},
   "outputs": [],
   "source": [
    "tidy = pd.merge(left = num_vars_df, right = text_df, on = 'institutionsnummer', how = 'left')\n",
    "\n",
    "tidy['coordinates'] = tuple(zip(tidy['lat'], tidy['lon']))"
   ]
  },
  {
   "cell_type": "code",
   "execution_count": 97,
   "metadata": {},
   "outputs": [],
   "source": [
    "test_dirty = get_all_data('2018-2019')\n",
    "test_clean = clean_school_data(test_dirty)"
   ]
  },
  {
   "cell_type": "code",
   "execution_count": 98,
   "metadata": {},
   "outputs": [
    {
     "output_type": "execute_result",
     "data": {
      "text/plain": "0       1552\n1       1350\n2       1307\n3       2200\n4       2200\n        ... \n1285    9600\n1286    9600\n1287    9600\n1288    9600\n1289    9600\nName: postnr, Length: 1241, dtype: int32"
     },
     "metadata": {},
     "execution_count": 98
    }
   ],
   "source": [
    "test_clean.postnr.astype(int)"
   ]
  }
 ]
}