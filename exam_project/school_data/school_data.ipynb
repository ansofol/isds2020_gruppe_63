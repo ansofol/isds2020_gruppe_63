{
 "metadata": {
  "language_info": {
   "codemirror_mode": {
    "name": "ipython",
    "version": 3
   },
   "file_extension": ".py",
   "mimetype": "text/x-python",
   "name": "python",
   "nbconvert_exporter": "python",
   "pygments_lexer": "ipython3",
   "version": "3.7.7-final"
  },
  "orig_nbformat": 2,
  "kernelspec": {
   "name": "python3",
   "display_name": "Python 3"
  }
 },
 "nbformat": 4,
 "nbformat_minor": 2,
 "cells": [
  {
   "cell_type": "code",
   "execution_count": 24,
   "metadata": {
    "tags": []
   },
   "outputs": [],
   "source": [
    "import pandas as pd\n",
    "import requests\n",
    "import json\n",
    "import time\n",
    "import numpy as np\n",
    "import os\n",
    "\n",
    "import scraping_class\n",
    "logfile = 'schoollog.txt' # name your log file.\n",
    "connector = scraping_class.Connector(logfile)\n",
    "\n",
    "cwd = os.getcwd() # save current working directory"
   ]
  },
  {
   "cell_type": "markdown",
   "metadata": {},
   "source": [
    "## Location data"
   ]
  },
  {
   "cell_type": "code",
   "execution_count": 28,
   "metadata": {},
   "outputs": [
    {
     "output_type": "execute_result",
     "data": {
      "text/plain": "dskommune': 'Københavns Kommune',\n   'beliggenhedskommunenr': 101,\n   'administrativkommune': 'Københavns Kommune',\n   'opdateret': '29-07-2010 11:20:26',\n   'lat': 55.6962565102863,\n   'lon': 12.5061324468203,\n   'institutionstype2': 'Dagbehandlingstilbud og behandlingshjem',\n   'institutionstype3': 'Dagbehandlingstilbud og behandlingshjem',\n   'maxklassetrin': '9',\n   'ejerforhold': '2: Kommunale',\n   'oprettet': '190908',\n   'elevtal1516': 34,\n   'elevtal1415': 40,\n   'elevtal1314': 39,\n   'elevtal1213': 32,\n   'elevtal1112': 42,\n   'insertdate': '2017-08-16T00:00:00.000Z',\n   'image': False,\n   'active': True,\n   'institutionsnummer': 101910},\n  {'navn': 'Solbakken Afdeling Emdrup',\n   'urlfriendly': 'solbakken-afdeling-emdrup',\n   'leder': 'Helle Eggers Poulsen',\n   'adresse': 'Emdrupvej 138',\n   'postnr': '2400',\n   'postnrby': 'København NV',\n   'telefon': '3967 1133',\n   'email': 'xk62@sof.kk.dk',\n   'www': 'http://',\n   'cvrnr': '64942212',\n   'beliggenhedskommune': 'Københavns Kommune',\n   'beliggenhedskommunenr': 101,\n   'administrativkommune': 'Københavns Kommune',\n   'opdateret': '28-09-2016 14:51:46',\n   'lat': 55.7232506131443,\n   'lon': 12.5299211773884,\n   'institutionstype2': 'Dagbehandlingstilbud og behandlingshjem',\n   'institutionstype3': 'Dagbehandlingstilbud og behandlingshjem',\n   'maxklassetrin': '10',\n   'ejerforhold': '2: Kommunale',\n   'oprettet': '193712',\n   'elevtal1516': 20,\n   'elevtal1415': 27,\n   'elevtal1314': 30,\n   'elevtal1213': 27,\n   'elevtal1112': 25,\n   'insertdate': '2017-08-16T00:00:00.000Z',\n   'image': False,\n   'active': True,\n   'institutionsnummer': 101911},\n  {'navn': 'Copenhagen International School',\n   'urlfriendly': 'copenhagen-international-school',\n   'leder': 'Jennifer Weyburn',\n   'adresse': 'Levantkaj 8',\n   'postnr': '2150',\n   'postnrby': 'Nordhavn',\n   'telefon': '3946 3300',\n   'email': 'cis@cis.dk',\n   'www': 'http://www.cis.dk',\n   'cvrnr': '53060811',\n   'beliggenhedskommune': 'Københavns Kommune',\n   'beliggenhedskommunenr': 101,\n   'administrativkommune': '',\n   'opdateret': '07-03-2017 14:32:36',\n   'lat': 55.7120913766365,\n   'lon': 12.5984763756641,\n   'institutionstype2': 'Grundskoler',\n   'institutionstype3': 'Friskoler og private grundskoler',\n   'maxklassetrin': '10',\n   'ejerforhold': '5: Selvejende, private',\n   'oprettet': '197309',\n   'elevtal1516': 626,\n   'elevtal1415': 644,\n   'elevtal1314': 625,\n   'elevtal1213': 609,\n   'elevtal1112': 550,\n   'insertdate': '2017-08-16T00:00:00.000Z',\n   'image': False,\n   'active': True,\n   'institutionsnummer': 157041},\n  {'navn': 'Ørestad Skole',\n   'urlfriendly': 'oerestad-skole',\n   'leder': 'Mette Nicolaisen',\n   'adresse': 'Arne Jacobsens Allé 21',\n   'postnr': '2300',\n   'postnrby': 'København S',\n   'telefon': '3530 2310',\n   'email': 'oerestadskole@buf.kk.dk',\n   'www': 'http://www.oer.kk.dk',\n   'cvrnr': '64942212',\n   'beliggenhedskommune': 'Københavns Kommune',\n   'beliggenhedskommunenr': 101,\n   'administrativkommune': 'Københavns Kommune',\n   'opdateret': '25-08-2016 11:27:30',\n   'lat': 55.6312367858568,\n   'lon': 12.5810236879328,\n   'institutionstype2': 'Grundskoler',\n   'institutionstype3': 'Folkeskoler',\n   'maxklassetrin': '9',\n   'ejerforhold': '2: Kommunale',\n   'oprettet': '201008',\n   'elevtal1516': 662,\n   'elevtal1415': 553,\n   'elevtal1314': 446,\n   'elevtal1213': 317,\n   'elevtal1112': 185,\n   'insertdate': '2017-08-16T00:00:00.000Z',\n   'image': False,\n   'active': True,\n   'institutionsnummer': 280047},\n  {'navn': 'Sønderbro - Den Sikrede Institution',\n   'urlfriendly': 'soenderbro---den-sikrede-institution',\n   'leder': 'Hamid Vazin',\n   'adresse': 'Sundholmsvej 42',\n   'postnr': '2300',\n   'postnrby': 'København S',\n   'telefon': '3264 3140',\n   'email': 'soenderbro@sof.kk.dk',\n   'www': 'http://www.sonderbro.kk.dk',\n   'cvrnr': '64942212',\n   'beliggenhedskommune': 'Københavns Kommune',\n   'beliggenhedskommunenr': 101,\n   'administrativkommune': 'Københavns Kommune',\n   'opdateret': '09-02-2017 13:13:05',\n   'lat': 55.6602431226515,\n   'lon': 12.5944230623974,\n   'institutionstype2': 'Dagbehandlingstilbud og behandlingshjem',\n   'institutionstype3': 'Dagbehandlingstilbud og behandlingshjem',\n   'maxklassetrin': '9',\n   'ejerforhold': '2: Kommunale',\n   'oprettet': '201008',\n   'elevtal1516': 6,\n   'elevtal1415': 19,\n   'elevtal1314': 20,\n   'elevtal1213': 11,\n   'elevtal1112': 8,\n   'insertdate': '2017-08-16T00:00:00.000Z',\n   'image': False,\n   'active': True,\n   'institutionsnummer': 280066},\n  {'navn': 'Skolen i Sydhavnen',\n   'urlfriendly': 'skolen-i-sydhavnen',\n   'leder': 'Morten Biering',\n   'adresse': 'Støberigade 3',\n   'postnr': '2450',\n   'postnrby': 'København SV',\n   'telefon': '8232 5010',\n   'email': 'skolenisydhavnen@buf.kk.dk',\n   'www': 'http://www.sis.kk.dk/',\n   'cvrnr': '64942212',\n   'beliggenhedskommune': 'Københavns Kommune',\n   'beliggenhedskommunenr': 101,\n   'administrativkommune': 'Københavns Kommune',\n   'opdateret': '08-10-2013 11:38:51',\n   'lat': 55.6501244626565,\n   'lon': 12.5524224222155,\n   'institutionstype2': 'Grundskoler',\n   'institutionstype3': 'Folkeskoler',\n   'maxklassetrin': '9',\n   'ejerforhold': '2: Kommunale',\n   'oprettet': '201102',\n   'elevtal1516': 303,\n   'elevtal1415': 214,\n   'elevtal1314': 150,\n   'elevtal1213': 72,\n   'elevtal1112': 0,\n   'insertdate': '2017-08-16T00:00:00.000Z',\n   'image': False,\n   'active': True,\n   'institutionsnummer': 280129},\n  {'navn': 'Skolen på Strandboulevarden',\n   'urlfriendly': 'skolen-paa-strandboulevarden',\n   'leder': 'Lars Aaberg',\n   'adresse': 'Strandboulevarden 47',\n   'postnr': '2100',\n   'postnrby': 'København Ø',\n   'telefon': '3542 4697',\n   'email': 'laaabe@buf.kk.dk',\n   'www': 'http://www.sps.kk.dk',\n   'cvrnr': '64942212',\n   'beliggenhedskommune': 'Københavns Kommune',\n   'beliggenhedskommunenr': 101,\n   'administrativkommune': 'Københavns Kommune',\n   'opdateret': '23-06-2017 15:45:37',\n   'lat': 55.7024169964476,\n   'lon': 12.5879168566962,\n   'institutionstype2': 'Grundskoler',\n   'institutionstype3': 'Folkeskoler',\n   'maxklassetrin': '9',\n   'ejerforhold': '2: Kommunale',\n   'oprettet': '201308',\n   'elevtal1516': 135,\n   'elevtal1415': 85,\n   'elevtal1314': 37,\n   'elevtal1213': 0,\n   'elevtal1112': 0,\n   'insertdate': '2017-08-16T00:00:00.000Z',\n   'image': False,\n   'active': True,\n   'institutionsnummer': 280425},\n  {'navn': 'SOPU, 10. klasse - København',\n   'urlfriendly': 'sopu,-10.-klasse---koebenhavn',\n   'leder': 'Inger Margrethe Jensen',\n   'adresse': 'Skelbækgade 1',\n   'postnr': '1717',\n   'postnrby': 'København V',\n   'telefon': '3528 3528',\n   'email': 'sopu@sopu.dk',\n   'www': 'http://www.sopu.dk',\n   'cvrnr': '33284101',\n   'beliggenhedskommune': 'Københavns Kommune',\n   'beliggenhedskommunenr': 101,\n   'administrativkommune': '',\n   'opdateret': '03-05-2016 16:03:41',\n   'lat': 55.6674314021856,\n   'lon': 12.5569239643571,\n   'institutionstype2': 'Grundskoler',\n   'institutionstype3': 'Folkeskoler',\n   'maxklassetrin': '10',\n   'ejerforhold': '4: Selvejende, statslige',\n   'oprettet': '201212',\n   'elevtal1516': 13,\n   'elevtal1415': 0,\n   'elevtal1314': 0,\n   'elevtal1213': 0,\n   'elevtal1112': 0,\n   'insertdate': '2017-08-16T00:00:00.000Z',\n   'image': False,\n   'active': True,\n   'institutionsnummer': 280435},\n  {'navn': 'Københavns Kommunes Ungdomsskole Nye Veje',\n   'urlfriendly': 'koebenhavns-kommunes-ungdomsskole-nye-veje',\n   'leder': 'JÃ¸rgen Roed Jensen',\n   'adresse': 'Gammel Kalkbrænderi Vej 13',\n   'postnr': '2100',\n   'postnrby': 'København Ø',\n   'telefon': '3536 5104',\n   'email': 'nyeveje@ungdomsskolen.kk.dk',\n   'www': 'http://www.ungdomsskolen.kk.dk',\n   'cvrnr': '64942212',\n   'beliggenhedskommune': 'Københavns Kommune',\n   'beliggenhedskommunenr': 101,\n   'administrativkommune': 'Københavns Kommune',\n   'opdateret': '27-04-2016 10:30:35',\n   'lat': 55.7041924732027,\n   'lon': 12.5836759394803,\n   'institutionstype2': 'Kommunale ungdomsskoler',\n   'institutionstype3': 'Kommunale ungdomsskoler og ungdomskostskoler',\n   'maxklassetrin': '10',\n   'ejerforhold': '2: Kommunale',\n   'oprettet': '201309',\n   'elevtal1516': 35,\n   'elevtal1415': 40,\n   'elevtal1314': 50,\n   'elevtal1213': 14,\n   'elevtal1112': 0,\n   'insertdate': '2017-08-16T00:00:00.000Z',\n   'image': False,\n   'active': True,\n   'institutionsnummer': 280487},\n  {'navn': 'Kalvebod Fælled Skole',\n   'urlfriendly': 'kalvebod-faelled-skole',\n   'leder': 'Maria BÃ¦lum',\n   'adresse': 'Gang 4, Remisevej 16',\n   'postnr': '2300',\n   'postnrby': 'København S',\n   'telefon': '8256 6990',\n   'email': 'kfs@buf.kk.dk',\n   'www': 'http://www.kfs.kk.dk',\n   'cvrnr': '64942212',\n   'beliggenhedskommune': 'Københavns Kommune',\n   'beliggenhedskommunenr': 101,\n   'administrativkommune': 'Københavns Kommune',\n   'opdateret': '22-09-2016 11:25:17',\n   'lat': 55.648553628958,\n   'lon': 12.5954324999214,\n   'institutionstype2': 'Grundskoler',\n   'institutionstype3': 'Folkeskoler',\n   'maxklassetrin': '1',\n   'ejerforhold': '2: Kommunale',\n   'oprettet': '201408',\n   'elevtal1516': 61,\n   'elevtal1415': 25,\n   'elevtal1314': 0,\n   'elevtal1213': 0,\n   'elevtal1112': 0,\n   'insertdate': '2017-08-16T00:00:00.000Z',\n   'image': False,\n   'active': True,\n   'institutionsnummer': 280491},\n  {'navn': 'Søstjerneskolen',\n   'urlfriendly': 'soestjerneskolen',\n   'leder': 'Kirsten Callesen',\n   'adresse': 'Trondhjems Plads 3, 2.',\n   'postnr': '2100',\n   'postnrby': 'København Ø',\n   'telefon': '2680 3300',\n   'email': 'kontor@soestjerneskolen.dk',\n   'www': 'http://www.sÃ¸stjerneskolen.dk',\n   'cvrnr': '28968191',\n   'beliggenhedskommune': 'Københavns Kommune',\n   'beliggenhedskommunenr': 101,\n   'administrativkommune': '',\n   'opdateret': '11-08-2015 09:41:27',\n   'lat': 55.6941053319383,\n   'lon': 12.5880975511198,\n   'institutionstype2': 'Dagbehandlingstilbud og behandlingshjem',\n   'institutionstype3': 'Dagbehandlingstilbud og behandlingshjem',\n   'maxklassetrin': '10',\n   'ejerforhold': '6: Selvejende, kommunale',\n   'oprettet': '201404',\n   'elevtal1516': 12,\n   'elevtal1415': 0,\n   'elevtal1314': 0,\n   'elevtal1213': 0,\n   'elevtal1112': 0,\n   'insertdate': '2017-08-16T00:00:00.000Z',\n   'image': False,\n   'active': True,\n   'institutionsnummer': 280530},\n  {'navn': 'Den dansk-franske Skole af 2014',\n   'urlfriendly': 'den-dansk-franske-skole-af-2014',\n   'leder': 'Nicolas Guilbert',\n   'adresse': 'Tagensvej 188, 1.',\n   'postnr': '2400',\n   'postnrby': 'København NV',\n   'telefon': '4141 8228',\n   'email': 'ecolefrancodanoise@gmail.com',\n   'www': 'http://www.ecolefrancodanoise.dk',\n   'cvrnr': '35767754',\n   'beliggenhedskommune': 'Københavns Kommune',\n   'beliggenhedskommunenr': 101,\n   'administrativkommune': '',\n   'opdateret': '06-03-2017 13:09:23',\n   'lat': 55.7097118577099,\n   'lon': 12.5391995227966,\n   'institutionstype2': 'Grundskoler',\n   'institutionstype3': 'Friskoler og private grundskoler',\n   'maxklassetrin': '9',\n   'ejerforhold': '5: Selvejende, private',\n   'oprettet': '201408',\n   'elevtal1516': 24,\n   'elevtal1415': 14,\n   'elevtal1314': 0,\n   'elevtal1213': 0,\n   'elevtal1112': 0,\n   'insertdate': '2017-08-16T00:00:00.000Z',\n   'image': False,\n   'active': True,\n   'institutionsnummer': 280545},\n  {'navn': 'Københavns Skole & Idrætsakademi',\n   'urlfriendly': 'koebenhavns-skole-&-idraetsakademi',\n   'leder': 'Johnny Wetterstein',\n   'adresse': 'Gartnerivej 9',\n   'postnr': '2100',\n   'postnrby': 'København Ø',\n   'telefon': '5050 8793',\n   'email': 'kbh.akademiet@gmail.com',\n   'www': 'http://www.kbhakademiet.dk',\n   'cvrnr': '35782699',\n   'beliggenhedskommune': 'Københavns Kommune',\n   'beliggenhedskommunenr': 101,\n   'administrativkommune': '',\n   'opdateret': '10-10-2016 16:00:34',\n   'lat': 55.7214424732194,\n   'lon': 12.5590671166609,\n   'institutionstype2': 'Grundskoler',\n   'institutionstype3': 'Friskoler og private grundskoler',\n   'maxklassetrin': '8',\n   'ejerforhold': '5: Selvejende, private',\n   'oprettet': '201408',\n   'elevtal1516': 124,\n   'elevtal1415': 93,\n   'elevtal1314': 0,\n   'elevtal1213': 0,\n   'elevtal1112': 0,\n   'insertdate': '2017-08-16T00:00:00.000Z',\n   'image': False,\n   'active': True,\n   'institutionsnummer': 280551},\n  {'navn': 'Østerbro Privatskole',\n   'urlfriendly': 'oesterbro-privatskole',\n   'leder': 'CÃ¶mert Kucukakin',\n   'adresse': 'Rønnegade 5',\n   'postnr': '2100',\n   'postnrby': 'København Ø',\n   'telefon': '2617 5305',\n   'email': 'info@npskole.dk',\n   'www': 'http://www.oepskole.dk',\n   'cvrnr': '35689605',\n   'beliggenhedskommune': 'Københavns Kommune',\n   'beliggenhedskommunenr': 101,\n   'administrativkommune': '',\n   'opdateret': '21-06-2017 12:24:11',\n   'lat': 55.70779144,\n   'lon': 12.55799806,\n   'institutionstype2': 'Grundskoler',\n   'institutionstype3': 'Friskoler og private grundskoler',\n   'maxklassetrin': '7',\n   'ejerforhold': '5: Selvejende, private',\n   'oprettet': '201408',\n   'elevtal1516': 98,\n   'elevtal1415': 67,\n   'elevtal1314': 5,\n   'elevtal1213': 0,\n   'elevtal1112': 0,\n   'insertdate': '2017-08-16T00:00:00.000Z',\n   'image': False,\n   'active': True,\n   'institutionsnummer': 280552},\n  {'navn': 'Den Grønne Friskole',\n   'urlfriendly': 'den-groenne-friskole',\n   'leder': 'Nadja Raphael Rathje',\n   'adresse': 'Strandlodsvej 38',\n   'postnr': '2300',\n   'postnrby': 'København S',\n   'telefon': '2567 8553',\n   'email': 'info@dengroennefriskole.dk',\n   'www': 'http://www.dengroennefriskole.dk',\n   'cvrnr': '35491538',\n   'beliggenhedskommune': 'Københavns Kommune',\n   'beliggenhedskommunenr': 101,\n   'administrativkommune': '',\n   'opdateret': '10-11-2015 15:22:08',\n   'lat': 55.6647934962694,\n   'lon': 12.6218606135595,\n   'institutionstype2': 'Grundskoler',\n   'institutionstype3': 'Friskoler og private grundskoler',\n   'maxklassetrin': '7',\n   'ejerforhold': '5: Selvejende, private',\n   'oprettet': '201408',\n   'elevtal1516': 69,\n   'elevtal1415': 42,\n   'elevtal1314': 0,\n   'elevtal1213': 0,\n   'elevtal1112': 0,\n   'insertdate': '2017-08-16T00:00:00.000Z',\n   'image': False,\n   'active': True,\n   'institutionsnummer': 280553},\n  {'navn': 'Barometeret',\n   'urlfriendly': 'barometeret',\n   'leder': 'Tau Stig Stokholm',\n   'adresse': 'Ved Amagerbanen 33',\n   'postnr': '2300',\n   'postnrby': 'København S',\n   'telefon': '6012 3263',\n   'email': 'tau@behandlingsskolerne.dk',\n   'www': 'http://www.behandlingsskolerne.dk',\n   'cvrnr': '36028823',\n   'beliggenhedskommune': 'Københavns Kommune',\n   'beliggenhedskommunenr': 101,\n   'administrativkommune': '',\n   'opdateret': '03-02-2016 14:49:34',\n   'lat': 55.6657709173933,\n   'lon': 12.6274992763507,\n   'institutionstype2': 'Dagbehandlingstilbud og behandlingshjem',\n   'institutionstype3': 'Dagbehandlingstilbud og behandlingshjem',\n   'maxklassetrin': '7',\n   'ejerforhold': '6: Selvejende, kommunale',\n   'oprettet': '',\n   'elevtal1516': 21,\n   'elevtal1415': 0,\n   'elevtal1314': 0,\n   'elevtal1213': 0,\n   'elevtal1112': 0,\n   'insertdate': '2017-08-16T00:00:00.000Z',\n   'image': False,\n   'active': True,\n   'institutionsnummer': 280567},\n  {'navn': 'Behandlingsskolen Pilen ApS',\n   'urlfriendly': 'behandlingsskolen-pilen-aps',\n   'leder': 'Jacob Carlsen',\n   'adresse': 'Leifsgade 33, 1.',\n   'postnr': '2300',\n   'postnrby': 'København S',\n   'telefon': '2157 7181',\n   'email': 'jacobc@behandlingsskolerne.dk',\n   'www': 'http://www.behandlingsskolerne.dk',\n   'cvrnr': '36434295',\n   'beliggenhedskommune': 'Københavns Kommune',\n   'beliggenhedskommunenr': 101,\n   'administrativkommune': '',\n   'opdateret': '10-02-2017 11:09:57',\n   'lat': 55.6628811762832,\n   'lon': 12.5777616356661,\n   'institutionstype2': 'Dagbehandlingstilbud og behandlingshjem',\n   'institutionstype3': 'Dagbehandlingstilbud og behandlingshjem',\n   'maxklassetrin': '10',\n   'ejerforhold': '6: Selvejende, kommunale',\n   'oprettet': '201501',\n   'elevtal1516': 17,\n   'elevtal1415': 0,\n   'elevtal1314': 0,\n   'elevtal1213': 0,\n   'elevtal1112': 0,\n   'insertdate': '2017-08-16T00:00:00.000Z',\n   'image': False,\n   'active': True,\n   'institutionsnummer': 280608},\n  {'navn': 'Københavns Kommunes Ungdomsskole Ø 10',\n   'urlfriendly': 'koebenhavns-kommunes-ungdomsskole-oe-10',\n   'leder': 'Gunver Moll Biering',\n   'adresse': 'Bellmansgade 5',\n   'postnr': '2100',\n   'postnrby': 'København Ø',\n   'telefon': '3336 4476',\n   'email': '10.klasse@Ungdomsskolen.kk.dk',\n   'www': 'http://ungdomsskolen.kk.dk',\n   'cvrnr': '64942212',\n   'beliggenhedskommune': 'Københavns Kommune',\n   'beliggenhedskommunenr': 101,\n   'administrativkommune': 'Københavns Kommune',\n   'opdateret': '17-03-2017 14:50:46',\n   'institutionstype2': 'Grundskoler',\n   'institutionstype3': 'Folkeskoler',\n   'maxklassetrin': '10',\n   'ejerforhold': '2: Kommunale',\n   'oprettet': '201508',\n   'elevtal1516': 116,\n   'elevtal1415': 0,\n   'elevtal1314': 0,\n   'elevtal1213': 0,\n   'elevtal1112': 0,\n   'insertdate': '2017-08-16T00:00:00.000Z',\n   'image': False,\n   'active': True,\n   'institutionsnummer': 280665},\n  {'navn': 'Københavns Kommunes Ungdomsskole V 10',\n   'urlfriendly': 'koebenhavns-kommunes-ungdomsskole-v-10',\n   'leder': 'Lars Kurt Petersen',\n   'adresse': 'Natalie Zahles Vej 9',\n   'postnr': '2450',\n   'postnrby': 'København SV',\n   'telefon': '3336 4470',\n   'email': 'Ungdomsskolen@Ungdomsskolen.kk.dk',\n   'www': 'http://ungdomsskolen.kk.dk',\n   'cvrnr': '64942212',\n   'beliggenhedskommune': 'Københavns Kommune',\n   'beliggenhedskommunenr': 101,\n   'administrativkommune': 'Københavns Kommune',\n   'opdateret': '28-02-2017 10:35:12',\n   'lat': 55.6578958843648,\n   'lon': 12.5356497283789,\n   'institutionstype2': 'Grundskoler',\n   'institutionstype3': 'Folkeskoler',\n   'maxklassetrin': '10',\n   'ejerforhold': '2: Kommunale',\n   'oprettet': '201508',\n   'elevtal1516': 84,\n   'elevtal1415': 7,\n   'elevtal1314': 0,\n   'elevtal1213': 0,\n   'elevtal1112': 0,\n   'insertdate': '2017-08-16T00:00:00.000Z',\n   'image': False,\n   'active': True,\n   'institutionsnummer': 280666},\n  {'navn': 'Københavns Kommunes Ungdomsskole 10. vest',\n   'urlfriendly': 'koebenhavns-kommunes-ungdomsskole-10.-vest',\n   'leder': 'Jens Lindberg RÃ¸dgaard',\n   'adresse': 'Slesvigsgade 6',\n   'postnr': '1762',\n   'postnrby': 'København V',\n   'telefon': '3336 4476',\n   'email': '10.klasse@ungdomsskolen.kk.dk',\n   'www': 'http://ungdomsskolen.kk.dk',\n   'cvrnr': '64942212',\n   'beliggenhedskommune': 'Københavns Kommune',\n   'beliggenhedskommunenr': 101,\n   'administrativkommune': 'Københavns Kommune',\n   'opdateret': '17-03-2017 14:47:39',\n   'lat': 55.6653550506196,\n   'lon': 12.5405775644203,\n   'institutionstype2': 'Grundskoler',\n   'institutionstype3': 'Folkeskoler',\n   'maxklassetrin': '10',\n   'ejerforhold': '2: Kommunale',\n   'oprettet': '201508',\n   'elevtal1516': 116,\n   'elevtal1415': 24,\n   'elevtal1314': 8,\n   'elevtal1213': 0,\n   'elevtal1112': 0,\n   'insertdate': '2017-08-16T00:00:00.000Z',\n   'image': False,\n   'active': True,\n   'institutionsnummer': 280667},\n  {'navn': 'Københavns Kommunes Ungdomsskole Amager 10',\n   'urlfriendly': 'koebenhavns-kommunes-ungdomsskole-amager-10',\n   'leder': 'Jens Lindberg RÃ¸dgaard',\n   'adresse': 'Jemtelandsgade 3',\n   'postnr': '2300',\n   'postnrby': 'København S',\n   'telefon': '3336 4476',\n   'email': '10.klasse@Ungdomsskolen.kk.dk',\n   'www': 'http://ungdomsskolen.kk.dk',\n   'cvrnr': '64942212',\n   'beliggenhedskommune': 'Københavns Kommune',\n   'beliggenhedskommunenr': 101,\n   'administrativkommune': 'Københavns Kommune',\n   'opdateret': '17-03-2017 14:47:05',\n   'lat': 55.6652036448008,\n   'lon': 12.6039364879814,\n   'institutionstype2': 'Grundskoler',\n   'institutionstype3': 'Folkeskoler',\n   'maxklassetrin': '10',\n   'ejerforhold': '2: Kommunale',\n   'oprettet': '201508',\n   'elevtal1516': 102,\n   'elevtal1415': 6,\n   'elevtal1314': 0,\n   'elevtal1213': 0,\n   'elevtal1112': 0,\n   'insertdate': '2017-08-16T00:00:00.000Z',\n   'image': False,\n   'active': True,\n   'institutionsnummer': 280668}]}"
     },
     "metadata": {},
     "execution_count": 28
    }
   ],
   "source": [
    "url = 'https://dingeologi.appspot.com/_ah/api/skoledistriktendpoint/v1/getSkoler?kommunenr=101'\n",
    "project = 'log_test'\n",
    "response = connector.get(url, project)\n",
    "response[0].json()"
   ]
  },
  {
   "cell_type": "code",
   "execution_count": 22,
   "metadata": {},
   "outputs": [],
   "source": [
    "# store llist of kommune codes in list\n",
    "kom_koder_raw = pd.read_excel(cwd+'/data_download/kom_koder.xls', usecols = 'G:H')\n",
    "kom_koder = list(kom_koder_raw.iloc[3:, 0])"
   ]
  },
  {
   "cell_type": "markdown",
   "metadata": {},
   "source": [
    "### Set up functions for school location data"
   ]
  },
  {
   "cell_type": "code",
   "execution_count": 30,
   "metadata": {},
   "outputs": [],
   "source": [
    "def get_school_data(kom_kode):\n",
    "    \"\"\"\n",
    "    Fetches data for schools by given kommune code and returns a json response.\n",
    "    \"\"\"\n",
    "    url = f'https://dingeologi.appspot.com/_ah/api/skoledistriktendpoint/v1/getSkoler?kommunenr={kom_kode}'\n",
    "    project = 'collect_school_locs'\n",
    "    response = connector.get(url, project)\n",
    "    return response[0].json()\n"
   ]
  },
  {
   "cell_type": "code",
   "execution_count": 31,
   "metadata": {},
   "outputs": [],
   "source": [
    "def process_school_data(school_json):\n",
    "    \"\"\"\n",
    "    Takes a json response from get_school_data() as input and returns a dataframe.\n",
    "    \"\"\"\n",
    "    # set up dataframe\n",
    "    number_of_schools = len(school_json['items'])\n",
    "    columns = ['navn', 'urlfriendly', 'leder', 'adresse', 'postnr', 'postnrby', 'telefon', 'email', 'www', 'introtekst', 'cvrnr', 'beliggenhedskommune', 'beliggenhedskommunenr', 'administrativkommune', 'opdateret', 'lat', 'lon', 'institutionstype2', 'institutionstype3', 'maxklassetrin', 'ejerforhold', 'oprettet', 'elevtal1516', 'elevtal1415', 'elevtal1314', 'elevtal1213', 'elevtal1112', 'insertdate', 'image', 'active', 'institutionsnummer']\n",
    "    schools_df = pd.DataFrame(data = None, columns = columns, index = range(number_of_schools))\n",
    "\n",
    "    # add data\n",
    "    for i in range(number_of_schools):\n",
    "        active_school = school_json['items'][i]\n",
    "\n",
    "        for key, val in active_school.items():\n",
    "            schools_df.loc[i][key] = val\n",
    "\n",
    "    schools_df.institutionsnummer = schools_df.institutionsnummer.astype(str)\n",
    "\n",
    "    return schools_df"
   ]
  },
  {
   "cell_type": "markdown",
   "metadata": {},
   "source": [
    "### Fetch from API"
   ]
  },
  {
   "cell_type": "code",
   "execution_count": 32,
   "metadata": {},
   "outputs": [],
   "source": [
    "# MAIN DOWNLOADING PROCESS\n",
    "# Get json data, process to df and append to list\n",
    "school_data_list = []\n",
    "\n",
    "for kom in kom_koder: \n",
    "    raw_json = get_school_data(kom)\n",
    "    school_data_tidy = process_school_data(raw_json)\n",
    "    school_data_list.append(school_data_tidy)\n",
    "\n",
    "    time.sleep(0.5)\n",
    "\n",
    "# Format and save as csv\n",
    "cols = ['navn', 'postnr', 'beliggenhedskommune', 'beliggenhedskommunenr', 'lat', 'lon', 'institutionstype2', 'institutionstype3', 'institutionsnummer']\n",
    "all_schools = pd.concat(school_data_list)\\\n",
    "                .reset_index(drop = True)\\\n",
    "                .loc[:,cols]\n",
    "\n",
    "all_schools.to_csv('school_location.csv')"
   ]
  },
  {
   "cell_type": "markdown",
   "metadata": {},
   "source": [
    "## Student count and school grades\n",
    "### Set up functions for formatting"
   ]
  },
  {
   "cell_type": "code",
   "execution_count": 6,
   "metadata": {},
   "outputs": [],
   "source": [
    "def format_student_count(student_count_raw):\n",
    "    \"\"\"\n",
    "    Formats student count data for merge onto grade and location data. Returns formattedd dataframe.\n",
    "    \"\"\"\n",
    "\n",
    "    student_count = student_count_raw.iloc[:,2:]\\\n",
    "                            .rename(columns = {'Institutionsnummer': 'institutionsnummer'})\n",
    "\n",
    "    student_count = student_count[student_count['institutionsnummer'] != 'nan']\n",
    "    student_count.columns = student_count.columns.str.replace('/', '-')\n",
    "\n",
    "    return student_count\n",
    "\n"
   ]
  },
  {
   "cell_type": "code",
   "execution_count": 7,
   "metadata": {},
   "outputs": [],
   "source": [
    "def add_inst_list(raw_df):\n",
    "    \"\"\"\n",
    "    The raw data from excel contains a columns with both school \n",
    "    names and institution numbers. This function deletes this\n",
    "    column and adds a column with only the institution number.\n",
    "\n",
    "    \"\"\"\n",
    "\n",
    "    raw_df['is_inst_num'] = [val.isdecimal() for val in raw_df['Rækkenavne']]\n",
    "\n",
    "    schools_and_inst = list(raw_df['Rækkenavne'])\n",
    "    inst_count_dict = {}\n",
    "\n",
    "    for i in range(len(schools_and_inst)):\n",
    "        if schools_and_inst[i].isdecimal():\n",
    "            active_num = schools_and_inst[i]\n",
    "            count = 0\n",
    "        else:\n",
    "            count += 1\n",
    "            inst_count_dict[active_num] = count\n",
    "    \n",
    "    inst_nested = [[num]*count for num, count in inst_count_dict.items()]\n",
    "    inst_list = [num for inst_list in inst_nested for num in inst_list]\n",
    "\n",
    "    df_out = raw_df[raw_df.is_inst_num == False]\\\n",
    "             .drop(columns = 'is_inst_num')\n",
    "    df_out['institutionsnummer'] = inst_list\n",
    "\n",
    "    return df_out"
   ]
  },
  {
   "cell_type": "markdown",
   "metadata": {},
   "source": [
    "## Merge grades, location and student count"
   ]
  },
  {
   "cell_type": "code",
   "execution_count": 8,
   "metadata": {},
   "outputs": [],
   "source": [
    "def get_all_data(end_year, grades_raw, student_count_raw, school_loc_raw):\n",
    "    \"\"\"\n",
    "    This function loads raw grade data and formatted student count data for the\n",
    "    specified year as well as dirty school location data and merges into one\n",
    "    combined dataframe ready for datacleaning.\n",
    "    \"\"\"\n",
    "    year = str(end_year-1)+'-'+str(end_year)\n",
    "    grades = add_inst_list(grades_raw)\n",
    "    student_count = format_student_count(student_count_raw) \n",
    "\n",
    "    # prepare format for merge\n",
    "    for df in [grades, student_count, school_loc_raw]:\n",
    "        df.institutionsnummer = df.institutionsnummer.astype(str)\n",
    "\n",
    "    # merge graeds to student count\n",
    "    school_grade_count = pd.merge(left = grades, right = student_count[['institutionsnummer', year]], how = 'left', on = 'institutionsnummer')\\\n",
    "                            .rename(columns = {year: 'student_count'})\n",
    "    # merge to location data\n",
    "    school_grade_count_loc = pd.merge(left = school_grade_count, right = school_loc_raw, on = 'institutionsnummer', how = 'outer')\n",
    "\n",
    "    return school_grade_count_loc"
   ]
  },
  {
   "cell_type": "markdown",
   "metadata": {},
   "source": [
    "## Clean data"
   ]
  },
  {
   "cell_type": "code",
   "execution_count": 33,
   "metadata": {},
   "outputs": [],
   "source": [
    "def clean_school_data(dirty_df):\n",
    "    \"\"\"\n",
    "    Extracts overall grade point average (true value as well as the socioeconomic reference) for\n",
    "    schools in input dataframe. Reshapes dataframe to one school/location point pr. row. Saves\n",
    "    grade data, location data, student count as well as type of institution for further sorting.\n",
    "\n",
    "    \"\"\"\n",
    "\n",
    "    avg_df = dirty_df[dirty_df['Rækkenavne'] == 'Gennemsnit'] # might update later to extract grades                                                                   for all subjects\n",
    "    # Define variables of interest, split into text and numeric\n",
    "    num_vars = ['Karakter', 'Soc_ref', 'student_count', 'postnr', 'beliggenhedskommunenr', 'lat', 'lon']\n",
    "    text_vars = ['navn', 'institutionstype2', 'institutionstype3']\n",
    "    \n",
    "    # Extract and clean text variables\n",
    "    temp_text = avg_df.pivot(columns = 'institutionsnummer', values = text_vars)\\\n",
    "                        .transpose()\\\n",
    "                        .stack()\\\n",
    "                        .unstack(level = 0)\\\n",
    "                        .reset_index(col_level = -1)\n",
    "    temp_text.columns = ['institutionsnummer', 'level_1', 'navn', 'institutionstype2', 'institutionstype3']\n",
    "    text_df = temp_text.drop_duplicates('institutionsnummer')\\\n",
    "                        .drop('level_1', axis = 1)\n",
    "    \n",
    "    # Extract and clean numeric variables\n",
    "    num_df = pd.pivot_table(data = avg_df, index = 'institutionsnummer', values = num_vars)\\\n",
    "                .reset_index()\n",
    "    \n",
    "    \n",
    "    # Merge together and drop missing values\n",
    "    # OBS: for missing values we have only grade data, no location data.\n",
    "    tidy = pd.merge(left = num_df, right = text_df, on = 'institutionsnummer', how = 'left')\\\n",
    "            .dropna()\n",
    "\n",
    "    # Add geo coordinates and format for merge\n",
    "    tidy['coordinates'] = tuple(zip(tidy['lat'], tidy['lon']))\n",
    "    tidy.postnr = tidy.postnr.astype(int)\n",
    "    tidy.beliggenhedskommunenr = tidy.beliggenhedskommunenr.astype(int)\n",
    "\n",
    "    return tidy\n",
    "\n"
   ]
  },
  {
   "cell_type": "code",
   "execution_count": 34,
   "metadata": {},
   "outputs": [],
   "source": [
    "# MAIN DATA CLEANING PROCESS\n",
    "# Get data for school location, grades and student count, merge, clean and save to csv\n",
    "years = ['2010-2011', '2014-2015', '2018-2019']\n",
    "\n",
    "schools_clean = {} # save as dict if further processing is needed\n",
    "\n",
    "student_count = pd.read_excel(cwd+'/data_download/student_count.xls', header = 7)\n",
    "school_location = pd.read_csv('school_location_dirty.csv')\n",
    "\n",
    "for year in years:\n",
    "    grades = pd.read_excel(cwd+f'/data_download/grades_{year}.xls', header = 6)\n",
    "    end_year = int(year[-4:])\n",
    "\n",
    "    dirty = get_all_data(end_year, grades, student_count, school_location)\n",
    "    clean = clean_school_data(dirty)\n",
    "\n",
    "    schools_clean[year] = clean\n",
    "    clean.to_csv(f'school_clean_{year}.csv')"
   ]
  }
 ]
}