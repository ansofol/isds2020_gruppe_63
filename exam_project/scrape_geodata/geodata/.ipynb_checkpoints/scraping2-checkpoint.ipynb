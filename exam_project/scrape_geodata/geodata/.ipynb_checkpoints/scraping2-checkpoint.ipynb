{
 "cells": [
  {
   "cell_type": "code",
   "execution_count": 2,
   "metadata": {},
   "outputs": [],
   "source": [
    "import pandas as pd\n",
    "from bs4 import BeautifulSoup\n",
    "from tqdm import trange, tqdm\n",
    "import requests\n",
    "import copy\n",
    "import re\n",
    "import time\n",
    "import geopandas as gpd\n",
    "import descartes"
   ]
  },
  {
   "cell_type": "code",
   "execution_count": 42,
   "metadata": {
    "scrolled": true
   },
   "outputs": [],
   "source": [
    "gdf = gpd.read_file('C:/Users/Gustav/Desktop/Social Data Science/Projekt/geodata/dagi_10m_nohist_l1.afstemningsomraade/afstemningsomraade.shp')"
   ]
  },
  {
   "cell_type": "code",
   "execution_count": 40,
   "metadata": {
    "scrolled": true
   },
   "outputs": [],
   "source": [
    "gdf[['objectid', 'id_lokalid','afstemni00', 'kommunekod']].to_csv('mapping_geodata.csv', encoding='utf-8-sig')"
   ]
  },
  {
   "cell_type": "code",
   "execution_count": 23,
   "metadata": {},
   "outputs": [],
   "source": [
    "gdf2 = gdf.dissolve(by='KommuneNav')\n",
    "gdf2.plot()"
   ]
  },
  {
   "cell_type": "code",
   "execution_count": 18,
   "metadata": {},
   "outputs": [],
   "source": [
    "gdf[['AfstemKod', 'AfstemNav', 'KommuneNum', 'KommuneNav']].to_csv('mapping_test.csv', encoding='utf-8-sig')"
   ]
  },
  {
   "cell_type": "code",
   "execution_count": 56,
   "metadata": {},
   "outputs": [
    {
     "data": {
      "text/html": [
       "<div>\n",
       "<style scoped>\n",
       "    .dataframe tbody tr th:only-of-type {\n",
       "        vertical-align: middle;\n",
       "    }\n",
       "\n",
       "    .dataframe tbody tr th {\n",
       "        vertical-align: top;\n",
       "    }\n",
       "\n",
       "    .dataframe thead th {\n",
       "        text-align: right;\n",
       "    }\n",
       "</style>\n",
       "<table border=\"1\" class=\"dataframe\">\n",
       "  <thead>\n",
       "    <tr style=\"text-align: right;\">\n",
       "      <th></th>\n",
       "      <th>objectid</th>\n",
       "      <th>id_lokalid</th>\n",
       "      <th>id_namespa</th>\n",
       "      <th>status</th>\n",
       "      <th>geometrist</th>\n",
       "      <th>virkningfr</th>\n",
       "      <th>virkningti</th>\n",
       "      <th>virkningsa</th>\n",
       "      <th>forretning</th>\n",
       "      <th>registreri</th>\n",
       "      <th>...</th>\n",
       "      <th>afstemning</th>\n",
       "      <th>afstemni00</th>\n",
       "      <th>afstemni01</th>\n",
       "      <th>kommunekod</th>\n",
       "      <th>kommunelok</th>\n",
       "      <th>opstilling</th>\n",
       "      <th>opstilli00</th>\n",
       "      <th>udtraeksda</th>\n",
       "      <th>gmlid</th>\n",
       "      <th>geometry</th>\n",
       "    </tr>\n",
       "  </thead>\n",
       "  <tbody>\n",
       "    <tr>\n",
       "      <th>0</th>\n",
       "      <td>1285591</td>\n",
       "      <td>711178</td>\n",
       "      <td>http://data.gov.dk/dagi</td>\n",
       "      <td>vedtaget</td>\n",
       "      <td>endelig</td>\n",
       "      <td>20181127000000</td>\n",
       "      <td>None</td>\n",
       "      <td>Andet</td>\n",
       "      <td>systemetablering</td>\n",
       "      <td>20181127115950.448</td>\n",
       "      <td>...</td>\n",
       "      <td>03</td>\n",
       "      <td>Alt-i-et-Huset, Aktivitetstorvet</td>\n",
       "      <td>0A3F5092-3B74-32B8-E044-0003BA298018</td>\n",
       "      <td>0665</td>\n",
       "      <td>389183</td>\n",
       "      <td>73</td>\n",
       "      <td>403588</td>\n",
       "      <td>2020-08-19</td>\n",
       "      <td>dagi.711178</td>\n",
       "      <td>MULTIPOLYGON Z (((456759.440 6269326.060 0.000...</td>\n",
       "    </tr>\n",
       "    <tr>\n",
       "      <th>1</th>\n",
       "      <td>1295999</td>\n",
       "      <td>706714</td>\n",
       "      <td>http://data.gov.dk/dagi</td>\n",
       "      <td>vedtaget</td>\n",
       "      <td>endelig</td>\n",
       "      <td>20190429000000</td>\n",
       "      <td>None</td>\n",
       "      <td>Andet</td>\n",
       "      <td>systemetablering</td>\n",
       "      <td>20190429145414.863</td>\n",
       "      <td>...</td>\n",
       "      <td>01</td>\n",
       "      <td>Vestre Skole - Multisalen</td>\n",
       "      <td>0A3F5088-AE52-32B8-E044-0003BA298018</td>\n",
       "      <td>0410</td>\n",
       "      <td>389156</td>\n",
       "      <td>45</td>\n",
       "      <td>403613</td>\n",
       "      <td>2020-08-19</td>\n",
       "      <td>dagi.706714</td>\n",
       "      <td>MULTIPOLYGON Z (((545858.940 6150025.530 0.000...</td>\n",
       "    </tr>\n",
       "    <tr>\n",
       "      <th>2</th>\n",
       "      <td>1285601</td>\n",
       "      <td>701882</td>\n",
       "      <td>http://data.gov.dk/dagi</td>\n",
       "      <td>vedtaget</td>\n",
       "      <td>endelig</td>\n",
       "      <td>20181127000000</td>\n",
       "      <td>None</td>\n",
       "      <td>Andet</td>\n",
       "      <td>systemetablering</td>\n",
       "      <td>20181127115950.448</td>\n",
       "      <td>...</td>\n",
       "      <td>08</td>\n",
       "      <td>Harboøre Centeret</td>\n",
       "      <td>0A3F5092-AF81-32B8-E044-0003BA298018</td>\n",
       "      <td>0665</td>\n",
       "      <td>389183</td>\n",
       "      <td>73</td>\n",
       "      <td>403588</td>\n",
       "      <td>2020-08-19</td>\n",
       "      <td>dagi.701882</td>\n",
       "      <td>MULTIPOLYGON Z (((452428.420 6275466.130 0.000...</td>\n",
       "    </tr>\n",
       "    <tr>\n",
       "      <th>3</th>\n",
       "      <td>1285615</td>\n",
       "      <td>712242</td>\n",
       "      <td>http://data.gov.dk/dagi</td>\n",
       "      <td>vedtaget</td>\n",
       "      <td>endelig</td>\n",
       "      <td>20181127000000</td>\n",
       "      <td>None</td>\n",
       "      <td>Andet</td>\n",
       "      <td>systemetablering</td>\n",
       "      <td>20181127115950.448</td>\n",
       "      <td>...</td>\n",
       "      <td>05</td>\n",
       "      <td>Bøvling Friskole, Gymnastiksalen</td>\n",
       "      <td>0A3F5092-346A-32B8-E044-0003BA298018</td>\n",
       "      <td>0665</td>\n",
       "      <td>389183</td>\n",
       "      <td>73</td>\n",
       "      <td>403588</td>\n",
       "      <td>2020-08-19</td>\n",
       "      <td>dagi.712242</td>\n",
       "      <td>MULTIPOLYGON Z (((449043.530 6250292.870 0.000...</td>\n",
       "    </tr>\n",
       "    <tr>\n",
       "      <th>4</th>\n",
       "      <td>1285617</td>\n",
       "      <td>711198</td>\n",
       "      <td>http://data.gov.dk/dagi</td>\n",
       "      <td>vedtaget</td>\n",
       "      <td>endelig</td>\n",
       "      <td>20181127000000</td>\n",
       "      <td>None</td>\n",
       "      <td>Andet</td>\n",
       "      <td>systemetablering</td>\n",
       "      <td>20181127115950.448</td>\n",
       "      <td>...</td>\n",
       "      <td>06</td>\n",
       "      <td>Tangsø Centret, Mødelokalet</td>\n",
       "      <td>0A3F5092-42F6-32B8-E044-0003BA298018</td>\n",
       "      <td>0665</td>\n",
       "      <td>389183</td>\n",
       "      <td>73</td>\n",
       "      <td>403588</td>\n",
       "      <td>2020-08-19</td>\n",
       "      <td>dagi.711198</td>\n",
       "      <td>POLYGON Z ((466126.570 6254639.180 0.000, 4661...</td>\n",
       "    </tr>\n",
       "  </tbody>\n",
       "</table>\n",
       "<p>5 rows × 30 columns</p>\n",
       "</div>"
      ],
      "text/plain": [
       "  objectid id_lokalid               id_namespa    status geometrist  \\\n",
       "0  1285591     711178  http://data.gov.dk/dagi  vedtaget    endelig   \n",
       "1  1295999     706714  http://data.gov.dk/dagi  vedtaget    endelig   \n",
       "2  1285601     701882  http://data.gov.dk/dagi  vedtaget    endelig   \n",
       "3  1285615     712242  http://data.gov.dk/dagi  vedtaget    endelig   \n",
       "4  1285617     711198  http://data.gov.dk/dagi  vedtaget    endelig   \n",
       "\n",
       "       virkningfr virkningti virkningsa        forretning          registreri  \\\n",
       "0  20181127000000       None      Andet  systemetablering  20181127115950.448   \n",
       "1  20190429000000       None      Andet  systemetablering  20190429145414.863   \n",
       "2  20181127000000       None      Andet  systemetablering  20181127115950.448   \n",
       "3  20181127000000       None      Andet  systemetablering  20181127115950.448   \n",
       "4  20181127000000       None      Andet  systemetablering  20181127115950.448   \n",
       "\n",
       "   ... afstemning                        afstemni00  \\\n",
       "0  ...         03  Alt-i-et-Huset, Aktivitetstorvet   \n",
       "1  ...         01         Vestre Skole - Multisalen   \n",
       "2  ...         08                 Harboøre Centeret   \n",
       "3  ...         05  Bøvling Friskole, Gymnastiksalen   \n",
       "4  ...         06       Tangsø Centret, Mødelokalet   \n",
       "\n",
       "                             afstemni01 kommunekod kommunelok opstilling  \\\n",
       "0  0A3F5092-3B74-32B8-E044-0003BA298018       0665     389183         73   \n",
       "1  0A3F5088-AE52-32B8-E044-0003BA298018       0410     389156         45   \n",
       "2  0A3F5092-AF81-32B8-E044-0003BA298018       0665     389183         73   \n",
       "3  0A3F5092-346A-32B8-E044-0003BA298018       0665     389183         73   \n",
       "4  0A3F5092-42F6-32B8-E044-0003BA298018       0665     389183         73   \n",
       "\n",
       "  opstilli00  udtraeksda        gmlid  \\\n",
       "0     403588  2020-08-19  dagi.711178   \n",
       "1     403613  2020-08-19  dagi.706714   \n",
       "2     403588  2020-08-19  dagi.701882   \n",
       "3     403588  2020-08-19  dagi.712242   \n",
       "4     403588  2020-08-19  dagi.711198   \n",
       "\n",
       "                                            geometry  \n",
       "0  MULTIPOLYGON Z (((456759.440 6269326.060 0.000...  \n",
       "1  MULTIPOLYGON Z (((545858.940 6150025.530 0.000...  \n",
       "2  MULTIPOLYGON Z (((452428.420 6275466.130 0.000...  \n",
       "3  MULTIPOLYGON Z (((449043.530 6250292.870 0.000...  \n",
       "4  POLYGON Z ((466126.570 6254639.180 0.000, 4661...  \n",
       "\n",
       "[5 rows x 30 columns]"
      ]
     },
     "execution_count": 56,
     "metadata": {},
     "output_type": "execute_result"
    }
   ],
   "source": [
    "gdf.head()"
   ]
  },
  {
   "cell_type": "code",
   "execution_count": 61,
   "metadata": {},
   "outputs": [
    {
     "data": {
      "text/plain": [
       "<matplotlib.axes._subplots.AxesSubplot at 0x1b771c65dd8>"
      ]
     },
     "execution_count": 61,
     "metadata": {},
     "output_type": "execute_result"
    },
    {
     "data": {
      "image/png": "[encoded data removed]",
      "text/plain": [
       "<Figure size 432x288 with 1 Axes>"
      ]
     },
     "metadata": {
      "needs_background": "light"
     },
     "output_type": "display_data"
    }
   ],
   "source": [
    "gdf[(gdf['kommunekod'] == '0840')& (gdf['id_lokalid'] == '706392')].plot()"
   ]
  },
  {
   "cell_type": "code",
   "execution_count": 63,
   "metadata": {},
   "outputs": [
    {
     "data": {
      "text/plain": [
       "<matplotlib.axes._subplots.AxesSubplot at 0x1b7772e6c18>"
      ]
     },
     "execution_count": 63,
     "metadata": {},
     "output_type": "execute_result"
    },
    {
     "data": {
      "image/png": "[encoded data removed]",
      "text/plain": [
       "<Figure size 432x288 with 1 Axes>"
      ]
     },
     "metadata": {
      "needs_background": "light"
     },
     "output_type": "display_data"
    }
   ],
   "source": [
    "gdf[(gdf['kommunekod'] == '0840')& (gdf['id_lokalid'] == '701822')].plot()"
   ]
  }
 ],
 "metadata": {
  "kernelspec": {
   "display_name": "Python 3",
   "language": "python",
   "name": "python3"
  },
  "language_info": {
   "codemirror_mode": {
    "name": "ipython",
    "version": 3
   },
   "file_extension": ".py",
   "mimetype": "text/x-python",
   "name": "python",
   "nbconvert_exporter": "python",
   "pygments_lexer": "ipython3",
   "version": "3.7.3"
  }
 },
 "nbformat": 4,
 "nbformat_minor": 4
}
