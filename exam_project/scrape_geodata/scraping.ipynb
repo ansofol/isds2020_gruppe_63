{
 "cells": [
  {
   "cell_type": "markdown",
   "metadata": {},
   "source": [
    "## Import packages and define functions"
   ]
  },
  {
   "cell_type": "code",
   "execution_count": 1,
   "metadata": {},
   "outputs": [],
   "source": [
    "import pandas as pd\n",
    "from bs4 import BeautifulSoup\n",
    "from tqdm import trange, tqdm\n",
    "import requests\n",
    "import copy\n",
    "import re\n",
    "import time"
   ]
  },
  {
   "cell_type": "code",
   "execution_count": 2,
   "metadata": {},
   "outputs": [],
   "source": [
    "def get_soup(url):\n",
    "    #System sleep:\n",
    "    time.sleep(0.2)\n",
    "    \n",
    "    #Get html:\n",
    "    file = requests.get(url)\n",
    "    file.encoding = \"utf-8\" # Make Danish letters Æ, Ø Å understandable\n",
    "    html = file.text\n",
    "    soup = BeautifulSoup(html, 'html')\n",
    "    return soup\n",
    "\n",
    "def collect_links(url_list, name_list, baselink, search_item = ('a'), re_pattern = 'F[0-9]+\\.htm'):\n",
    "    #Creating empty lists:\n",
    "    refs, names, links, name_orig = ([] for i in range(4))\n",
    "    \n",
    "    #Converts url to a one-element list, if only one url was inputted:\n",
    "    if isinstance(url_list, str):\n",
    "        url_list = [url_list]\n",
    "    if isinstance(name_list, str):\n",
    "        name_list = [name_list]\n",
    "    \n",
    "    #Collects area-references, area-names and constructs links to each area:\n",
    "    for i, url in enumerate(url_list):\n",
    "\n",
    "        soup = get_soup(url)\n",
    "        items = soup.find_all(search_item)\n",
    "        \n",
    "        #Removes any tags not in the format \"F{digits}.htm\"\n",
    "        pattern = re.compile(re_pattern)\n",
    "        for item in items:\n",
    "            if item.has_attr('href'):\n",
    "                if pattern.search(item['href']):\n",
    "                    refs.append(pattern.search(item['href']).group())\n",
    "                    names.append(item.text.strip())\n",
    "                    #links.append(baselink+pattern.search(item['href']).group())\n",
    "                    name_orig.append(name_list[i])\n",
    "          \n",
    "    #Outputs results as dataframe:\n",
    "    out_df = pd.DataFrame([names, refs, name_orig]).T.rename(columns={0:'names', 1:'refs', 2:'name_orig'})\n",
    "    out_df['links'] = baselink + out_df['refs']\n",
    "    return out_df\n",
    "\n",
    "def get_data_voting_area(url):\n",
    "    soup = get_soup(url)\n",
    "\n",
    "    general = soup.find_all('td', {'class':'text-right'})\n",
    "    eligible_count = general[0].text\n",
    "    time_stamp = general[2].text\n",
    "    address = general[3].text\n",
    "    blank = general[6].text\n",
    "    invalid = general[8].text\n",
    "    total_valid = general[10].text\n",
    "    total_casted = general[12].text\n",
    "\n",
    "    #Party votes:\n",
    "    table = soup.find_all('div', {'class':'row table-like-row'})\n",
    "    party, vote_count = [], []\n",
    "    for row in range(1, len(table)):\n",
    "        row_data = table[row]\n",
    "        party_letter = row_data.find('span', {'class':'parti-letter'}).text\n",
    "        if (len(party_letter)==1):\n",
    "            party.append(row_data.find('a').text)\n",
    "        else:\n",
    "            party.append(row_data.find('div', {'class':'table-like-cell col-xs-7 col-sm-6 col-md-4'}).text[len(party_letter):])\n",
    "        vote_count.append(row_data.find('div', {'class':'table-like-cell col-xs-3 col-sm-4 col-md-2 text-right roboto-bold'}).text)\n",
    "    #Creates dataframe in long format:\n",
    "    out_df = pd.DataFrame([party, vote_count]).T.rename(columns={0:'party', 1:'votes'})\n",
    "\n",
    "    out_df['eligible_count'] = eligible_count\n",
    "    out_df['blank'] = blank\n",
    "    out_df['invalid'] = invalid\n",
    "    out_df['total_valid'] = total_valid\n",
    "    out_df['total_casted'] = total_casted\n",
    "\n",
    "    out_df['time_stamp'] = time_stamp\n",
    "    out_df['address'] = address\n",
    "\n",
    "    return out_df\n",
    "\n",
    "def get_data_election(year, get_data_method = get_data_voting_area):\n",
    "    url = get_url(year)\n",
    "    baselink = f'https://www.kmdvalg.dk/fv/{year}/'\n",
    "\n",
    "    data1 = collect_links(url, 'FV',baselink = baselink)\n",
    "    data2 = collect_links(list(data1['links']), list(data1['names']), baselink)\n",
    "    data3 = collect_links(list(data2[data2['refs'].str.len()<13]['links']), list(data2[data2['refs'].str.len()<13]['name_orig']), baselink)\n",
    "    data4 = pd.concat([data3, data2])\n",
    "    data4 = data4[data4['refs'].str.len()>=13].reset_index(drop=True)\n",
    "\n",
    "    df_list = []\n",
    "    for i in trange(len(data4)):\n",
    "        df = get_data_method(data4['links'][i])\n",
    "        df['names'] = data4['names'][i]\n",
    "        df['constituency'] = data4['name_orig'][i]\n",
    "        df['refs'] = data4['refs'][i]\n",
    "        df['links'] = data4['links'][i]\n",
    "        df_list.append(df)\n",
    "    out_df = pd.concat(df_list)\n",
    "    out_df['year'] = year\n",
    "    return out_df\n",
    "\n",
    "def get_data_voting_area_2011(url):\n",
    "    soup = get_soup(url)\n",
    "\n",
    "    dfs = []\n",
    "    data = soup.find_all('tr', {'class':['tableRowPrimary', 'tableRowSecondary']})\n",
    "    data2 = soup.find_all('td', {'class':'statusText'})\n",
    "\n",
    "    for data_sub in data[:-5]:\n",
    "        party = data_sub.find_all('td')[1].text\n",
    "        vote = data_sub.find_all('td')[2].text\n",
    "        dfs.append([party, vote])\n",
    "\n",
    "    eligible_count = data2[1].text\n",
    "    time_stamp = data2[4].text\n",
    "    address = data2[5].text\n",
    "    municipality = soup.find_all('tr')[2].find_all('td')[0].find_all('td')[1].text\n",
    "\n",
    "    general = data[-5:]\n",
    "    blank = general[2].find_all('td')[2].text\n",
    "    invalid = general[3].find_all('td')[2].text\n",
    "    total_valid = general[1].find_all('td')[2].text\n",
    "    total_casted = general[4].find_all('td')[2].text\n",
    "\n",
    "    out_df = pd.DataFrame(dfs, columns=['party', 'votes'])\n",
    "\n",
    "    out_df['eligible_count'] = eligible_count\n",
    "    out_df['blank'] = blank\n",
    "    out_df['invalid'] = invalid\n",
    "    out_df['total_valid'] = total_valid\n",
    "    out_df['total_casted'] = total_casted\n",
    "\n",
    "    out_df['time_stamp'] = time_stamp\n",
    "    out_df['address'] = address\n",
    "    \n",
    "    out_df['municipality'] = municipality\n",
    "\n",
    "    return out_df\n",
    "\n",
    "def get_url(year):\n",
    "    if year==2011:\n",
    "        url ='https://www.kmdvalg.dk/fv/2011/'\n",
    "    else:\n",
    "        url = f'https://www.kmdvalg.dk/fv/{year}/KMDValgFV.html'\n",
    "    return url\n",
    "\n",
    "def fix_count_columns(df_, columns = ['votes', 'eligible_count', 'blank', 'invalid', 'total_valid', 'total_casted']):\n",
    "    for col in columns:\n",
    "        #Removes \".\" from count variables and converts to integers:\n",
    "        df_[col] = df_.apply(lambda x: x[col].replace(\".\", \"\"), axis=1).astype('int64')\n",
    "    return df_"
   ]
  },
  {
   "cell_type": "markdown",
   "metadata": {},
   "source": [
    "## Scraping data for election 2011, 2015 and 2019"
   ]
  },
  {
   "cell_type": "code",
   "execution_count": 43,
   "metadata": {
    "scrolled": false
   },
   "outputs": [
    {
     "name": "stderr",
     "output_type": "stream",
     "text": [
      "100%|██████████████████████████████████████████████████████████████████████████████| 1389/1389 [07:20<00:00,  3.18it/s]\n",
      "100%|██████████████████████████████████████████████████████████████████████████████| 1450/1450 [07:42<00:00,  1.38it/s]\n"
     ]
    }
   ],
   "source": [
    "data_2019 = get_data_election(2019)\n",
    "data_2015 = get_data_election(2015)\n",
    "data_2011 = get_data_election(2011, get_data_method = get_data_voting_area_2011)"
   ]
  },
  {
   "cell_type": "code",
   "execution_count": 44,
   "metadata": {},
   "outputs": [],
   "source": [
    "data_2019 = fix_count_columns(data_2019)\n",
    "data_2015 = fix_count_columns(data_2015)\n",
    "data_2011 = fix_count_columns(data_2011)"
   ]
  },
  {
   "cell_type": "markdown",
   "metadata": {},
   "source": [
    "## Mapping municipalities"
   ]
  },
  {
   "cell_type": "code",
   "execution_count": 48,
   "metadata": {},
   "outputs": [],
   "source": [
    "df1 = data_2011.copy()\n",
    "df1 = df1[['refs', 'names', 'municipality']]\n",
    "df1 = df1.rename(columns={'names':'voting_area'})\n",
    "\n",
    "url = 'https://www.kmdvalg.dk/kv/2017/KMDValgKV.html'\n",
    "basislink = 'https://www.kmdvalg.dk/kv/2017/'\n",
    "links1 = collect_links(url_list=url, name_list = 'KV', baselink = basislink, search_item = ('a'), re_pattern = 'K[0-9]+\\.htm')\n",
    "df_list = []\n",
    "for i in range(len(links1)):\n",
    "    df2 = collect_links(url_list=links1['links'][i], name_list =links1['names'][i], baselink = basislink, search_item = ('a'), re_pattern = 'K[0-9]+\\.htm')\n",
    "    df2['voting_area'] = df2['names']\n",
    "    df2 = df2[['refs', 'voting_area', 'name_orig']]\n",
    "    df_list.append(df2)\n",
    "df2 = pd.concat(df_list)\n",
    "df2['refs'] = [string.replace('K', 'F') for string in df2['refs']]\n",
    "df2 = df2.rename(columns={'name_orig':'municipality'})\n",
    "df2['municipality'] = df2['municipality']+' Kommune'\n",
    "\n",
    "mapping = pd.concat([df1, df2]).drop_duplicates(subset='refs')"
   ]
  },
  {
   "cell_type": "markdown",
   "metadata": {},
   "source": [
    "## Export data"
   ]
  },
  {
   "cell_type": "code",
   "execution_count": 49,
   "metadata": {},
   "outputs": [],
   "source": [
    "data_2019 =data_2019.merge(mapping, on='refs', how='left')\n",
    "data_2015 =data_2015.merge(mapping, on='refs', how='left')\n",
    "data_2011 =data_2011.merge(mapping, on='refs', how='left')"
   ]
  },
  {
   "cell_type": "code",
   "execution_count": 51,
   "metadata": {},
   "outputs": [],
   "source": [
    "data_2011.to_csv('data2011.csv', encoding= 'utf-8-sig')\n",
    "data_2015.to_csv('data2015.csv', encoding= 'utf-8-sig')\n",
    "data_2019.to_csv('data2019.csv', encoding= 'utf-8-sig')\n",
    "# mapping.to_csv('mapping.csv')"
   ]
  }
 ],
 "metadata": {
  "kernelspec": {
   "display_name": "Python 3",
   "language": "python",
   "name": "python3"
  },
  "language_info": {
   "codemirror_mode": {
    "name": "ipython",
    "version": 3
   },
   "file_extension": ".py",
   "mimetype": "text/x-python",
   "name": "python",
   "nbconvert_exporter": "python",
   "pygments_lexer": "ipython3",
   "version": "3.7.3"
  }
 },
 "nbformat": 4,
 "nbformat_minor": 4
}
