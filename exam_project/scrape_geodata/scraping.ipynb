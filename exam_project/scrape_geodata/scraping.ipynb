{
 "cells": [
  {
   "cell_type": "markdown",
   "metadata": {},
   "source": [
    "## Import packages and define functions"
   ]
  },
  {
   "cell_type": "code",
   "execution_count": 6,
   "metadata": {},
   "outputs": [],
   "source": [
    "import pandas as pd\n",
    "from bs4 import BeautifulSoup\n",
    "from tqdm import trange, tqdm\n",
    "import requests\n",
    "import copy\n",
    "import re\n",
    "import time\n",
    "\n",
    "import scraping_class\n",
    "logfile = 'kmd_scrapelog2.txt' # name your log file.\n",
    "connector = scraping_class.Connector(logfile)"
   ]
  },
  {
   "cell_type": "code",
   "execution_count": 7,
   "metadata": {},
   "outputs": [],
   "source": [
    "def get_soup(url, project_name):\n",
    "    #System sleep:\n",
    "    time.sleep(0.2)\n",
    "    \n",
    "    #Get html:\n",
    "    file = connector.get(url, project_name)[0] \n",
    "    file.encoding = \"utf-8\" # Make Danish letters Æ, Ø Å understandable\n",
    "    html = file.text\n",
    "    soup = BeautifulSoup(html, 'html')\n",
    "    return soup\n",
    "\n",
    "def collect_links(url_list, name_list, baselink, search_item = ('a'), re_pattern = 'F[0-9]+\\.htm'):\n",
    "    #Creating empty lists:\n",
    "    refs, names, links, name_orig = ([] for i in range(4))\n",
    "    \n",
    "    #Converts url to a one-element list, if only one url was inputted:\n",
    "    if isinstance(url_list, str):\n",
    "        url_list = [url_list]\n",
    "    if isinstance(name_list, str):\n",
    "        name_list = [name_list]\n",
    "    \n",
    "    #Collects area-references, area-names and constructs links to each area:\n",
    "    for i, url in enumerate(url_list):\n",
    "\n",
    "        soup = get_soup(url, 'collect_links')\n",
    "        items = soup.find_all(search_item)\n",
    "        \n",
    "        #Removes any tags not in the format \"F{digits}.htm\"\n",
    "        pattern = re.compile(re_pattern)\n",
    "        for item in items:\n",
    "            if item.has_attr('href'):\n",
    "                if pattern.search(item['href']):\n",
    "                    refs.append(pattern.search(item['href']).group())\n",
    "                    names.append(item.text.strip())\n",
    "                    #links.append(baselink+pattern.search(item['href']).group())\n",
    "                    name_orig.append(name_list[i])\n",
    "          \n",
    "    #Outputs results as dataframe:\n",
    "    out_df = pd.DataFrame([names, refs, name_orig]).T.rename(columns={0:'names', 1:'refs', 2:'name_orig'})\n",
    "    out_df['links'] = baselink + out_df['refs']\n",
    "    return out_df\n",
    "\n",
    "def get_data_voting_area(url):\n",
    "    soup = get_soup(url, 'get_data_voting_area')\n",
    "\n",
    "    general = soup.find_all('td', {'class':'text-right'})\n",
    "    eligible_count = general[0].text\n",
    "    time_stamp = general[2].text\n",
    "    address = general[3].text\n",
    "    blank = general[6].text\n",
    "    invalid = general[8].text\n",
    "    total_valid = general[10].text\n",
    "    total_casted = general[12].text\n",
    "\n",
    "    #Party votes:\n",
    "    table = soup.find_all('div', {'class':'row table-like-row'})\n",
    "    party, vote_count = [], []\n",
    "    for row in range(1, len(table)):\n",
    "        row_data = table[row]\n",
    "        party_letter = row_data.find('span', {'class':'parti-letter'}).text\n",
    "        if (len(party_letter)==1):\n",
    "            party.append(row_data.find('a').text)\n",
    "        else:\n",
    "            party.append(row_data.find('div', {'class':'table-like-cell col-xs-7 col-sm-6 col-md-4'}).text[len(party_letter):])\n",
    "        vote_count.append(row_data.find('div', {'class':'table-like-cell col-xs-3 col-sm-4 col-md-2 text-right roboto-bold'}).text)\n",
    "    #Creates dataframe in long format:\n",
    "    out_df = pd.DataFrame([party, vote_count]).T.rename(columns={0:'party', 1:'votes'})\n",
    "\n",
    "    out_df['eligible_count'] = eligible_count\n",
    "    out_df['blank'] = blank\n",
    "    out_df['invalid'] = invalid\n",
    "    out_df['total_valid'] = total_valid\n",
    "    out_df['total_casted'] = total_casted\n",
    "\n",
    "    out_df['time_stamp'] = time_stamp\n",
    "    out_df['address'] = address\n",
    "\n",
    "    return out_df\n",
    "\n",
    "def get_data_election(year, get_data_method = get_data_voting_area):\n",
    "    url = get_url(year)\n",
    "    baselink = f'https://www.kmdvalg.dk/fv/{year}/'\n",
    "\n",
    "    data1 = collect_links(url, 'FV',baselink = baselink)\n",
    "    data2 = collect_links(list(data1['links']), list(data1['names']), baselink)\n",
    "    data3 = collect_links(list(data2[data2['refs'].str.len()<13]['links']), list(data2[data2['refs'].str.len()<13]['name_orig']), baselink)\n",
    "    data4 = pd.concat([data3, data2])\n",
    "    data4 = data4[data4['refs'].str.len()>=13].reset_index(drop=True)\n",
    "\n",
    "    df_list = []\n",
    "    for i in trange(len(data4)):\n",
    "        df = get_data_method(data4['links'][i])\n",
    "        df['names'] = data4['names'][i]\n",
    "        df['constituency'] = data4['name_orig'][i]\n",
    "        df['refs'] = data4['refs'][i]\n",
    "        df['links'] = data4['links'][i]\n",
    "        df_list.append(df)\n",
    "    out_df = pd.concat(df_list)\n",
    "    out_df['year'] = year\n",
    "    return out_df\n",
    "\n",
    "def get_data_voting_area_2011(url):\n",
    "    soup = get_soup(url, 'get_data_voting_area_2011')\n",
    "\n",
    "    dfs = []\n",
    "    data = soup.find_all('tr', {'class':['tableRowPrimary', 'tableRowSecondary']})\n",
    "    data2 = soup.find_all('td', {'class':'statusText'})\n",
    "\n",
    "    for data_sub in data[:-5]:\n",
    "        party = data_sub.find_all('td')[1].text\n",
    "        vote = data_sub.find_all('td')[2].text\n",
    "        dfs.append([party, vote])\n",
    "\n",
    "    eligible_count = data2[1].text\n",
    "    time_stamp = data2[4].text\n",
    "    address = data2[5].text\n",
    "    municipality = soup.find_all('tr')[2].find_all('td')[0].find_all('td')[1].text\n",
    "\n",
    "    general = data[-5:]\n",
    "    blank = general[2].find_all('td')[2].text\n",
    "    invalid = general[3].find_all('td')[2].text\n",
    "    total_valid = general[1].find_all('td')[2].text\n",
    "    total_casted = general[4].find_all('td')[2].text\n",
    "\n",
    "    out_df = pd.DataFrame(dfs, columns=['party', 'votes'])\n",
    "\n",
    "    out_df['eligible_count'] = eligible_count\n",
    "    out_df['blank'] = blank\n",
    "    out_df['invalid'] = invalid\n",
    "    out_df['total_valid'] = total_valid\n",
    "    out_df['total_casted'] = total_casted\n",
    "\n",
    "    out_df['time_stamp'] = time_stamp\n",
    "    out_df['address'] = address\n",
    "    \n",
    "    out_df['municipality'] = municipality\n",
    "\n",
    "    return out_df\n",
    "\n",
    "def get_url(year):\n",
    "    if year==2011:\n",
    "        url ='https://www.kmdvalg.dk/fv/2011/'\n",
    "    else:\n",
    "        url = f'https://www.kmdvalg.dk/fv/{year}/KMDValgFV.html'\n",
    "    return url\n",
    "\n",
    "def fix_count_columns(df_, columns = ['votes', 'eligible_count', 'blank', 'invalid', 'total_valid', 'total_casted']):\n",
    "    for col in columns:\n",
    "        #Removes \".\" from count variables and converts to integers:\n",
    "        df_[col] = df_.apply(lambda x: x[col].replace(\".\", \"\"), axis=1).astype('int64')\n",
    "    return df_"
   ]
  },
  {
   "cell_type": "markdown",
   "metadata": {},
   "source": [
    "## Scraping data for election 2011, 2015 and 2019"
   ]
  },
  {
   "cell_type": "code",
   "execution_count": 8,
   "metadata": {
    "scrolled": false,
    "tags": []
   },
   "outputs": [
    {
     "output_type": "stream",
     "name": "stderr",
     "text": "100%|██████████| 1384/1384 [21:10<00:00,  1.09it/s]\n 53%|█████▎    | 740/1389 [10:50<09:30,  1.14it/s]\n"
    },
    {
     "output_type": "error",
     "ename": "OSError",
     "evalue": "[Errno 22] Invalid argument",
     "traceback": [
      "\u001b[1;31m---------------------------------------------------------------------------\u001b[0m",
      "\u001b[1;31mOSError\u001b[0m                                   Traceback (most recent call last)",
      "\u001b[1;31mOSError\u001b[0m: [Errno 22] Invalid argument",
      "\nDuring handling of the above exception, another exception occurred:\n",
      "\u001b[1;31mOSError\u001b[0m                                   Traceback (most recent call last)",
      "\u001b[1;32m~\\anaconda3\\lib\\site-packages\\scraping_class\\scraping_class.py\u001b[0m in \u001b[0;36mget\u001b[1;34m(self, url, project_name, params)\u001b[0m\n\u001b[0;32m    349\u001b[0m                     ]\n\u001b[1;32m--> 350\u001b[1;33m                     \u001b[0mself\u001b[0m\u001b[1;33m.\u001b[0m\u001b[0mlog\u001b[0m\u001b[1;33m.\u001b[0m\u001b[0mwrite\u001b[0m\u001b[1;33m(\u001b[0m\u001b[1;34m\"\\n\"\u001b[0m \u001b[1;33m+\u001b[0m \u001b[1;34m\";\"\u001b[0m\u001b[1;33m.\u001b[0m\u001b[0mjoin\u001b[0m\u001b[1;33m(\u001b[0m\u001b[0mmap\u001b[0m\u001b[1;33m(\u001b[0m\u001b[0mstr\u001b[0m\u001b[1;33m,\u001b[0m \u001b[0mrow\u001b[0m\u001b[1;33m)\u001b[0m\u001b[1;33m)\u001b[0m\u001b[1;33m)\u001b[0m  \u001b[1;31m# write log.\u001b[0m\u001b[1;33m\u001b[0m\u001b[1;33m\u001b[0m\u001b[0m\n\u001b[0m\u001b[0;32m    351\u001b[0m                     \u001b[1;31m# return response and unique identifier.\u001b[0m\u001b[1;33m\u001b[0m\u001b[1;33m\u001b[0m\u001b[1;33m\u001b[0m\u001b[0m\n",
      "\u001b[1;32m~\\anaconda3\\lib\\site-packages\\scraping_class\\scraping_class.py\u001b[0m in \u001b[0;36mwrite\u001b[1;34m(self, content)\u001b[0m\n\u001b[0;32m    183\u001b[0m         \u001b[1;32mwith\u001b[0m \u001b[0mopen\u001b[0m\u001b[1;33m(\u001b[0m\u001b[0mself\u001b[0m\u001b[1;33m.\u001b[0m\u001b[0mfile\u001b[0m\u001b[1;33m,\u001b[0m \u001b[0mself\u001b[0m\u001b[1;33m.\u001b[0m\u001b[0mmode\u001b[0m\u001b[1;33m)\u001b[0m \u001b[1;32mas\u001b[0m \u001b[0mf\u001b[0m\u001b[1;33m:\u001b[0m\u001b[1;33m\u001b[0m\u001b[1;33m\u001b[0m\u001b[0m\n\u001b[1;32m--> 184\u001b[1;33m             \u001b[0mf\u001b[0m\u001b[1;33m.\u001b[0m\u001b[0mwrite\u001b[0m\u001b[1;33m(\u001b[0m\u001b[0mcontent\u001b[0m\u001b[1;33m)\u001b[0m\u001b[1;33m\u001b[0m\u001b[1;33m\u001b[0m\u001b[0m\n\u001b[0m\u001b[0;32m    185\u001b[0m \u001b[1;33m\u001b[0m\u001b[0m\n",
      "\u001b[1;31mOSError\u001b[0m: [Errno 22] Invalid argument",
      "\nDuring handling of the above exception, another exception occurred:\n",
      "\u001b[1;31mOSError\u001b[0m                                   Traceback (most recent call last)",
      "\u001b[1;31mOSError\u001b[0m: [Errno 22] Invalid argument",
      "\nDuring handling of the above exception, another exception occurred:\n",
      "\u001b[1;31mOSError\u001b[0m                                   Traceback (most recent call last)",
      "\u001b[1;32m<ipython-input-8-af90c760688f>\u001b[0m in \u001b[0;36m<module>\u001b[1;34m\u001b[0m\n\u001b[0;32m      1\u001b[0m \u001b[0mdata_2019\u001b[0m \u001b[1;33m=\u001b[0m \u001b[0mget_data_election\u001b[0m\u001b[1;33m(\u001b[0m\u001b[1;36m2019\u001b[0m\u001b[1;33m)\u001b[0m\u001b[1;33m\u001b[0m\u001b[1;33m\u001b[0m\u001b[0m\n\u001b[1;32m----> 2\u001b[1;33m \u001b[0mdata_2015\u001b[0m \u001b[1;33m=\u001b[0m \u001b[0mget_data_election\u001b[0m\u001b[1;33m(\u001b[0m\u001b[1;36m2015\u001b[0m\u001b[1;33m)\u001b[0m\u001b[1;33m\u001b[0m\u001b[1;33m\u001b[0m\u001b[0m\n\u001b[0m\u001b[0;32m      3\u001b[0m \u001b[0mdata_2011\u001b[0m \u001b[1;33m=\u001b[0m \u001b[0mget_data_election\u001b[0m\u001b[1;33m(\u001b[0m\u001b[1;36m2011\u001b[0m\u001b[1;33m,\u001b[0m \u001b[0mget_data_method\u001b[0m \u001b[1;33m=\u001b[0m \u001b[0mget_data_voting_area_2011\u001b[0m\u001b[1;33m)\u001b[0m\u001b[1;33m\u001b[0m\u001b[1;33m\u001b[0m\u001b[0m\n",
      "\u001b[1;32m<ipython-input-7-a801b31a98a1>\u001b[0m in \u001b[0;36mget_data_election\u001b[1;34m(year, get_data_method)\u001b[0m\n\u001b[0;32m     90\u001b[0m     \u001b[0mdf_list\u001b[0m \u001b[1;33m=\u001b[0m \u001b[1;33m[\u001b[0m\u001b[1;33m]\u001b[0m\u001b[1;33m\u001b[0m\u001b[1;33m\u001b[0m\u001b[0m\n\u001b[0;32m     91\u001b[0m     \u001b[1;32mfor\u001b[0m \u001b[0mi\u001b[0m \u001b[1;32min\u001b[0m \u001b[0mtrange\u001b[0m\u001b[1;33m(\u001b[0m\u001b[0mlen\u001b[0m\u001b[1;33m(\u001b[0m\u001b[0mdata4\u001b[0m\u001b[1;33m)\u001b[0m\u001b[1;33m)\u001b[0m\u001b[1;33m:\u001b[0m\u001b[1;33m\u001b[0m\u001b[1;33m\u001b[0m\u001b[0m\n\u001b[1;32m---> 92\u001b[1;33m         \u001b[0mdf\u001b[0m \u001b[1;33m=\u001b[0m \u001b[0mget_data_method\u001b[0m\u001b[1;33m(\u001b[0m\u001b[0mdata4\u001b[0m\u001b[1;33m[\u001b[0m\u001b[1;34m'links'\u001b[0m\u001b[1;33m]\u001b[0m\u001b[1;33m[\u001b[0m\u001b[0mi\u001b[0m\u001b[1;33m]\u001b[0m\u001b[1;33m)\u001b[0m\u001b[1;33m\u001b[0m\u001b[1;33m\u001b[0m\u001b[0m\n\u001b[0m\u001b[0;32m     93\u001b[0m         \u001b[0mdf\u001b[0m\u001b[1;33m[\u001b[0m\u001b[1;34m'names'\u001b[0m\u001b[1;33m]\u001b[0m \u001b[1;33m=\u001b[0m \u001b[0mdata4\u001b[0m\u001b[1;33m[\u001b[0m\u001b[1;34m'names'\u001b[0m\u001b[1;33m]\u001b[0m\u001b[1;33m[\u001b[0m\u001b[0mi\u001b[0m\u001b[1;33m]\u001b[0m\u001b[1;33m\u001b[0m\u001b[1;33m\u001b[0m\u001b[0m\n\u001b[0;32m     94\u001b[0m         \u001b[0mdf\u001b[0m\u001b[1;33m[\u001b[0m\u001b[1;34m'constituency'\u001b[0m\u001b[1;33m]\u001b[0m \u001b[1;33m=\u001b[0m \u001b[0mdata4\u001b[0m\u001b[1;33m[\u001b[0m\u001b[1;34m'name_orig'\u001b[0m\u001b[1;33m]\u001b[0m\u001b[1;33m[\u001b[0m\u001b[0mi\u001b[0m\u001b[1;33m]\u001b[0m\u001b[1;33m\u001b[0m\u001b[1;33m\u001b[0m\u001b[0m\n",
      "\u001b[1;32m<ipython-input-7-a801b31a98a1>\u001b[0m in \u001b[0;36mget_data_voting_area\u001b[1;34m(url)\u001b[0m\n\u001b[0;32m     42\u001b[0m \u001b[1;33m\u001b[0m\u001b[0m\n\u001b[0;32m     43\u001b[0m \u001b[1;32mdef\u001b[0m \u001b[0mget_data_voting_area\u001b[0m\u001b[1;33m(\u001b[0m\u001b[0murl\u001b[0m\u001b[1;33m)\u001b[0m\u001b[1;33m:\u001b[0m\u001b[1;33m\u001b[0m\u001b[1;33m\u001b[0m\u001b[0m\n\u001b[1;32m---> 44\u001b[1;33m     \u001b[0msoup\u001b[0m \u001b[1;33m=\u001b[0m \u001b[0mget_soup\u001b[0m\u001b[1;33m(\u001b[0m\u001b[0murl\u001b[0m\u001b[1;33m,\u001b[0m \u001b[1;34m'get_data_voting_area'\u001b[0m\u001b[1;33m)\u001b[0m\u001b[1;33m\u001b[0m\u001b[1;33m\u001b[0m\u001b[0m\n\u001b[0m\u001b[0;32m     45\u001b[0m \u001b[1;33m\u001b[0m\u001b[0m\n\u001b[0;32m     46\u001b[0m     \u001b[0mgeneral\u001b[0m \u001b[1;33m=\u001b[0m \u001b[0msoup\u001b[0m\u001b[1;33m.\u001b[0m\u001b[0mfind_all\u001b[0m\u001b[1;33m(\u001b[0m\u001b[1;34m'td'\u001b[0m\u001b[1;33m,\u001b[0m \u001b[1;33m{\u001b[0m\u001b[1;34m'class'\u001b[0m\u001b[1;33m:\u001b[0m\u001b[1;34m'text-right'\u001b[0m\u001b[1;33m}\u001b[0m\u001b[1;33m)\u001b[0m\u001b[1;33m\u001b[0m\u001b[1;33m\u001b[0m\u001b[0m\n",
      "\u001b[1;32m<ipython-input-7-a801b31a98a1>\u001b[0m in \u001b[0;36mget_soup\u001b[1;34m(url, project_name)\u001b[0m\n\u001b[0;32m      4\u001b[0m \u001b[1;33m\u001b[0m\u001b[0m\n\u001b[0;32m      5\u001b[0m     \u001b[1;31m#Get html:\u001b[0m\u001b[1;33m\u001b[0m\u001b[1;33m\u001b[0m\u001b[1;33m\u001b[0m\u001b[0m\n\u001b[1;32m----> 6\u001b[1;33m     \u001b[0mfile\u001b[0m \u001b[1;33m=\u001b[0m \u001b[0mconnector\u001b[0m\u001b[1;33m.\u001b[0m\u001b[0mget\u001b[0m\u001b[1;33m(\u001b[0m\u001b[0murl\u001b[0m\u001b[1;33m,\u001b[0m \u001b[0mproject_name\u001b[0m\u001b[1;33m)\u001b[0m\u001b[1;33m[\u001b[0m\u001b[1;36m0\u001b[0m\u001b[1;33m]\u001b[0m\u001b[1;33m\u001b[0m\u001b[1;33m\u001b[0m\u001b[0m\n\u001b[0m\u001b[0;32m      7\u001b[0m     \u001b[0mfile\u001b[0m\u001b[1;33m.\u001b[0m\u001b[0mencoding\u001b[0m \u001b[1;33m=\u001b[0m \u001b[1;34m\"utf-8\"\u001b[0m \u001b[1;31m# Make Danish letters Æ, Ø Å understandable\u001b[0m\u001b[1;33m\u001b[0m\u001b[1;33m\u001b[0m\u001b[0m\n\u001b[0;32m      8\u001b[0m     \u001b[0mhtml\u001b[0m \u001b[1;33m=\u001b[0m \u001b[0mfile\u001b[0m\u001b[1;33m.\u001b[0m\u001b[0mtext\u001b[0m\u001b[1;33m\u001b[0m\u001b[1;33m\u001b[0m\u001b[0m\n",
      "\u001b[1;32m~\\anaconda3\\lib\\site-packages\\scraping_class\\scraping_class.py\u001b[0m in \u001b[0;36mget\u001b[1;34m(self, url, project_name, params)\u001b[0m\n\u001b[0;32m    378\u001b[0m                     ]  # define row\n\u001b[0;32m    379\u001b[0m                     \u001b[1;31m# write row to log.\u001b[0m\u001b[1;33m\u001b[0m\u001b[1;33m\u001b[0m\u001b[1;33m\u001b[0m\u001b[0m\n\u001b[1;32m--> 380\u001b[1;33m                     \u001b[0mself\u001b[0m\u001b[1;33m.\u001b[0m\u001b[0mlog\u001b[0m\u001b[1;33m.\u001b[0m\u001b[0mwrite\u001b[0m\u001b[1;33m(\u001b[0m\u001b[1;34m\"\\n\"\u001b[0m \u001b[1;33m+\u001b[0m \u001b[1;34m\";\"\u001b[0m\u001b[1;33m.\u001b[0m\u001b[0mjoin\u001b[0m\u001b[1;33m(\u001b[0m\u001b[0mmap\u001b[0m\u001b[1;33m(\u001b[0m\u001b[0mstr\u001b[0m\u001b[1;33m,\u001b[0m \u001b[0mrow\u001b[0m\u001b[1;33m)\u001b[0m\u001b[1;33m)\u001b[0m\u001b[1;33m)\u001b[0m\u001b[1;33m\u001b[0m\u001b[1;33m\u001b[0m\u001b[0m\n\u001b[0m\u001b[0;32m    381\u001b[0m         \u001b[1;32melse\u001b[0m\u001b[1;33m:\u001b[0m\u001b[1;33m\u001b[0m\u001b[1;33m\u001b[0m\u001b[0m\n\u001b[0;32m    382\u001b[0m             \u001b[0mt\u001b[0m \u001b[1;33m=\u001b[0m \u001b[0mtime\u001b[0m\u001b[1;33m.\u001b[0m\u001b[0mtime\u001b[0m\u001b[1;33m(\u001b[0m\u001b[1;33m)\u001b[0m\u001b[1;33m\u001b[0m\u001b[1;33m\u001b[0m\u001b[0m\n",
      "\u001b[1;32m~\\anaconda3\\lib\\site-packages\\scraping_class\\scraping_class.py\u001b[0m in \u001b[0;36mwrite\u001b[1;34m(self, content)\u001b[0m\n\u001b[0;32m    182\u001b[0m     \u001b[1;32mdef\u001b[0m \u001b[0mwrite\u001b[0m\u001b[1;33m(\u001b[0m\u001b[0mself\u001b[0m\u001b[1;33m,\u001b[0m \u001b[0mcontent\u001b[0m\u001b[1;33m)\u001b[0m\u001b[1;33m:\u001b[0m\u001b[1;33m\u001b[0m\u001b[1;33m\u001b[0m\u001b[0m\n\u001b[0;32m    183\u001b[0m         \u001b[1;32mwith\u001b[0m \u001b[0mopen\u001b[0m\u001b[1;33m(\u001b[0m\u001b[0mself\u001b[0m\u001b[1;33m.\u001b[0m\u001b[0mfile\u001b[0m\u001b[1;33m,\u001b[0m \u001b[0mself\u001b[0m\u001b[1;33m.\u001b[0m\u001b[0mmode\u001b[0m\u001b[1;33m)\u001b[0m \u001b[1;32mas\u001b[0m \u001b[0mf\u001b[0m\u001b[1;33m:\u001b[0m\u001b[1;33m\u001b[0m\u001b[1;33m\u001b[0m\u001b[0m\n\u001b[1;32m--> 184\u001b[1;33m             \u001b[0mf\u001b[0m\u001b[1;33m.\u001b[0m\u001b[0mwrite\u001b[0m\u001b[1;33m(\u001b[0m\u001b[0mcontent\u001b[0m\u001b[1;33m)\u001b[0m\u001b[1;33m\u001b[0m\u001b[1;33m\u001b[0m\u001b[0m\n\u001b[0m\u001b[0;32m    185\u001b[0m \u001b[1;33m\u001b[0m\u001b[0m\n\u001b[0;32m    186\u001b[0m     \u001b[1;32mdef\u001b[0m \u001b[0mread\u001b[0m\u001b[1;33m(\u001b[0m\u001b[0mself\u001b[0m\u001b[1;33m)\u001b[0m\u001b[1;33m:\u001b[0m\u001b[1;33m\u001b[0m\u001b[1;33m\u001b[0m\u001b[0m\n",
      "\u001b[1;31mOSError\u001b[0m: [Errno 22] Invalid argument"
     ]
    }
   ],
   "source": [
    "#data_2019 = get_data_election(2019)\n",
    "data_2015 = get_data_election(2015)\n",
    "data_2011 = get_data_election(2011, get_data_method = get_data_voting_area_2011)"
   ]
  },
  {
   "cell_type": "code",
   "execution_count": 9,
   "metadata": {},
   "outputs": [],
   "source": [
    "data_2019 = fix_count_columns(data_2019)\n",
    "#data_2015 = fix_count_columns(data_2015)\n",
    "#data_2011 = fix_count_columns(data_2011)"
   ]
  },
  {
   "cell_type": "markdown",
   "metadata": {},
   "source": [
    "## Mapping municipalities"
   ]
  },
  {
   "cell_type": "code",
   "execution_count": 10,
   "metadata": {},
   "outputs": [
    {
     "output_type": "error",
     "ename": "NameError",
     "evalue": "name 'data_2011' is not defined",
     "traceback": [
      "\u001b[1;31m---------------------------------------------------------------------------\u001b[0m",
      "\u001b[1;31mNameError\u001b[0m                                 Traceback (most recent call last)",
      "\u001b[1;32m<ipython-input-10-d93869d77da3>\u001b[0m in \u001b[0;36m<module>\u001b[1;34m\u001b[0m\n\u001b[1;32m----> 1\u001b[1;33m \u001b[0mdf1\u001b[0m \u001b[1;33m=\u001b[0m \u001b[0mdata_2011\u001b[0m\u001b[1;33m.\u001b[0m\u001b[0mcopy\u001b[0m\u001b[1;33m(\u001b[0m\u001b[1;33m)\u001b[0m\u001b[1;33m\u001b[0m\u001b[1;33m\u001b[0m\u001b[0m\n\u001b[0m\u001b[0;32m      2\u001b[0m \u001b[0mdf1\u001b[0m \u001b[1;33m=\u001b[0m \u001b[0mdf1\u001b[0m\u001b[1;33m[\u001b[0m\u001b[1;33m[\u001b[0m\u001b[1;34m'refs'\u001b[0m\u001b[1;33m,\u001b[0m \u001b[1;34m'names'\u001b[0m\u001b[1;33m,\u001b[0m \u001b[1;34m'municipality'\u001b[0m\u001b[1;33m]\u001b[0m\u001b[1;33m]\u001b[0m\u001b[1;33m\u001b[0m\u001b[1;33m\u001b[0m\u001b[0m\n\u001b[0;32m      3\u001b[0m \u001b[0mdf1\u001b[0m \u001b[1;33m=\u001b[0m \u001b[0mdf1\u001b[0m\u001b[1;33m.\u001b[0m\u001b[0mrename\u001b[0m\u001b[1;33m(\u001b[0m\u001b[0mcolumns\u001b[0m\u001b[1;33m=\u001b[0m\u001b[1;33m{\u001b[0m\u001b[1;34m'names'\u001b[0m\u001b[1;33m:\u001b[0m\u001b[1;34m'voting_area'\u001b[0m\u001b[1;33m}\u001b[0m\u001b[1;33m)\u001b[0m\u001b[1;33m\u001b[0m\u001b[1;33m\u001b[0m\u001b[0m\n\u001b[0;32m      4\u001b[0m \u001b[1;33m\u001b[0m\u001b[0m\n\u001b[0;32m      5\u001b[0m \u001b[0murl\u001b[0m \u001b[1;33m=\u001b[0m \u001b[1;34m'https://www.kmdvalg.dk/kv/2017/KMDValgKV.html'\u001b[0m\u001b[1;33m\u001b[0m\u001b[1;33m\u001b[0m\u001b[0m\n",
      "\u001b[1;31mNameError\u001b[0m: name 'data_2011' is not defined"
     ]
    }
   ],
   "source": [
    "df1 = data_2011.copy()\n",
    "df1 = df1[['refs', 'names', 'municipality']]\n",
    "df1 = df1.rename(columns={'names':'voting_area'})\n",
    "\n",
    "url = 'https://www.kmdvalg.dk/kv/2017/KMDValgKV.html'\n",
    "basislink = 'https://www.kmdvalg.dk/kv/2017/'\n",
    "links1 = collect_links(url_list=url, name_list = 'KV', baselink = basislink, search_item = ('a'), re_pattern = 'K[0-9]+\\.htm')\n",
    "df_list = []\n",
    "for i in range(len(links1)):\n",
    "    df2 = collect_links(url_list=links1['links'][i], name_list =links1['names'][i], baselink = basislink, search_item = ('a'), re_pattern = 'K[0-9]+\\.htm')\n",
    "    df2['voting_area'] = df2['names']\n",
    "    df2 = df2[['refs', 'voting_area', 'name_orig']]\n",
    "    df_list.append(df2)\n",
    "df2 = pd.concat(df_list)\n",
    "df2['refs'] = [string.replace('K', 'F') for string in df2['refs']]\n",
    "df2 = df2.rename(columns={'name_orig':'municipality'})\n",
    "df2['municipality'] = df2['municipality']+' Kommune'\n",
    "\n",
    "mapping = pd.concat([df1, df2]).drop_duplicates(subset='refs')"
   ]
  },
  {
   "cell_type": "markdown",
   "metadata": {},
   "source": [
    "## Export data"
   ]
  },
  {
   "cell_type": "code",
   "execution_count": 49,
   "metadata": {},
   "outputs": [],
   "source": [
    "data_2019 =data_2019.merge(mapping, on='refs', how='left')\n",
    "data_2015 =data_2015.merge(mapping, on='refs', how='left')\n",
    "data_2011 =data_2011.merge(mapping, on='refs', how='left')"
   ]
  },
  {
   "cell_type": "code",
   "execution_count": 51,
   "metadata": {},
   "outputs": [],
   "source": [
    "data_2011.to_csv('data2011.csv', encoding= 'utf-8-sig')\n",
    "data_2015.to_csv('data2015.csv', encoding= 'utf-8-sig')\n",
    "data_2019.to_csv('data2019.csv', encoding= 'utf-8-sig')\n",
    "# mapping.to_csv('mapping.csv')"
   ]
  }
 ],
 "metadata": {
  "kernelspec": {
   "display_name": "Python 3",
   "language": "python",
   "name": "python3"
  },
  "language_info": {
   "codemirror_mode": {
    "name": "ipython",
    "version": 3
   },
   "file_extension": ".py",
   "mimetype": "text/x-python",
   "name": "python",
   "nbconvert_exporter": "python",
   "pygments_lexer": "ipython3",
   "version": "3.7.7-final"
  }
 },
 "nbformat": 4,
 "nbformat_minor": 4
}