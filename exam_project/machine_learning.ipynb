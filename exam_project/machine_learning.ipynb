{
 "cells": [
  {
   "cell_type": "code",
   "execution_count": 20,
   "metadata": {
    "tags": []
   },
   "outputs": [],
   "source": [
    "import pandas as pd\n",
    "import numpy as np\n",
    "import os\n",
    "from shapely.geometry import Point, Polygon\n",
    "import geopandas as gpd\n",
    "from shapely.ops import nearest_points\n",
    "import pyproj\n",
    "\n",
    "\n",
    "cwd =os.getcwd()"
   ]
  },
  {
   "cell_type": "markdown",
   "metadata": {},
   "source": [
    "### Structure socioeconomic data by year"
   ]
  },
  {
   "cell_type": "code",
   "execution_count": 21,
   "metadata": {},
   "outputs": [],
   "source": [
    "socioeco_df = pd.read_excel(cwd+'/socioeconomic_data/socioeco_data.xlsx', sheet_name = 'Samlet')\n",
    "\n",
    "postnr_columns =['POSTNR', 'YEAR', 'KOMKODE', 'SALGSPRIS']\n",
    "kom_columns = ['KOMKODE', 'YEAR', 'DISINDK', 'KRIMINELITET', 'LAVINDK', 'SKILSMISSER', 'ANDEL_INDV']\n",
    "\n",
    "post_df = socioeco_df[postnr_columns]\n",
    "kom_df = socioeco_df[kom_columns]\n",
    "\n",
    "years = [2011, 2015, 2019]\n",
    "post_split = [post_df[post_df['YEAR'] == year] for year in years]\n",
    "kom_split = [kom_df[kom_df['YEAR'] == year] for year in years]"
   ]
  },
  {
   "cell_type": "markdown",
   "metadata": {},
   "source": [
    "### Merge school data and socioeconomic data by postal code and municipality"
   ]
  },
  {
   "cell_type": "code",
   "execution_count": 22,
   "metadata": {},
   "outputs": [],
   "source": [
    "#school_data[school_data['beliggenhedskommunenr'] == 217]"
   ]
  },
  {
   "cell_type": "code",
   "execution_count": 23,
   "metadata": {},
   "outputs": [],
   "source": [
    "df_list = []\n",
    "for data, year in zip(post_split, [2011, 2015, 2019]):\n",
    "    # load data\n",
    "    soc_data = data\n",
    "    school_data = pd.read_csv(cwd+f'/school_data/school_clean_{year-1}-{year}.csv', index_col=0)\n",
    "\n",
    "    # merge data\n",
    "    merged = pd.merge(left = school_data, right = soc_data, left_on = ['beliggenhedskommunenr', 'postnr'], right_on = ['KOMKODE', 'POSTNR'])\n",
    "\n",
    "    # format\n",
    "    merged.columns = merged.columns.str.lower()\n",
    "    merged = merged.T.drop_duplicates().T\n",
    "\n",
    "    merged.to_csv(f'postnr_background_vars{year}.csv')\n",
    "\n",
    "    df_list.append(merged)\n",
    "\n",
    "for data, year in zip(kom_split, [2011, 2015, 2019]):\n",
    "    data.drop_duplicates()\\\n",
    "        .to_csv(f'kom_background_vars{year}.csv')"
   ]
  },
  {
   "cell_type": "markdown",
   "metadata": {},
   "source": [
    "### Merge to closest school within same municipality (2019)"
   ]
  },
  {
   "cell_type": "code",
   "execution_count": 24,
   "metadata": {},
   "outputs": [
    {
     "name": "stderr",
     "output_type": "stream",
     "text": [
      "C:\\Users\\Gustav\\Anaconda3\\lib\\site-packages\\pyproj\\crs\\crs.py:53: FutureWarning: '+init=<authority>:<code>' syntax is deprecated. '<authority>:<code>' is the preferred initialization method. When making the change, be mindful of axis order changes: https://pyproj4.github.io/pyproj/stable/gotchas.html#axis-order-changes-in-proj-6\n",
      "  return _prepare_from_string(\" \".join(pjargs))\n"
     ]
    }
   ],
   "source": [
    "# Project geographical background variales from lat-lon to utm\n",
    "df = pd.read_csv('postnr_background_vars2019.csv', index_col=0)\n",
    "c = [Point(x, y) for x, y in zip(df['lon'], df['lat'])]\n",
    "gdf = gpd.GeoDataFrame(df, geometry = c)\n",
    "\n",
    "gdf.crs = {'init': 'epsg:4326'}\n",
    "gdf_utm = gdf.to_crs(epsg = 32632)\n",
    "\n",
    "# Narrow down to primary schools only\n",
    "gdf_utm = gdf_utm[gdf_utm['institutionstype2'] == 'Grundskoler']"
   ]
  },
  {
   "cell_type": "code",
   "execution_count": 25,
   "metadata": {},
   "outputs": [],
   "source": [
    "# Load election data and find centroid for every district\n",
    "valg_distrikt = gpd.read_file(cwd+'\\scrape_geodata\\geodata\\dagi_10m_nohist_l1.afstemningsomraade\\\\afstemningsomraade.shp', driver = 'ESRI Shapefile')\n",
    "valg_distrikt['centroid']=valg_distrikt['geometry'].centroid\n",
    "valg_geo = valg_distrikt.set_geometry('centroid')"
   ]
  },
  {
   "cell_type": "code",
   "execution_count": 26,
   "metadata": {},
   "outputs": [],
   "source": [
    "# Load municipality codes\n",
    "kom_koder = list(pd.read_excel(cwd+'/school_data/data_download/kom_koder.xls', usecols = 'G:H', header = 3).iloc[:,0])\n",
    "kom_koder.remove(411) # delete Christiansø"
   ]
  },
  {
   "cell_type": "code",
   "execution_count": 27,
   "metadata": {},
   "outputs": [],
   "source": [
    "# Split into list of backgrounddata and election data by municipality code\n",
    "kommune_split = [[gdf_utm[gdf_utm['beliggenhedskommunenr'] == kom_kode], valg_geo[valg_geo['kommunekod'].astype(int) == kom_kode]] for kom_kode in kom_koder]\n",
    "\n",
    "# For each municipality, find closest school to each polling place.\n",
    "def near(point, pts):\n",
    "    \"\"\"\n",
    "    Finds closest among pts to point and saves the relevant institutionsnr\n",
    "    \"\"\"\n",
    "    nearest = gdf_utm.geometry == nearest_points(point, pts)[1]\n",
    "    return gdf_utm[nearest]['institutionsnummer'].values[0]\n",
    "\n",
    "for gdf, valg_geo in kommune_split:\n",
    "    pts = gdf.geometry.unary_union\n",
    "    valg_geo['institutionsnummer'] = valg_geo.apply(lambda row: near(row.geometry, pts), axis = 1)\n",
    "\n",
    "# concat school data\n",
    "gdf_utm = pd.concat([kommune_split[i][0] for i in range(len(kommune_split))])\n",
    "\n",
    "# concat election data\n",
    "valg_geo = pd.concat([kommune_split[i][1] for i in range(len(kommune_split))])\n",
    "\n",
    "# merge election to school in 'intitutionsnummer\n",
    "merge1 = pd.merge(left=valg_geo, right = gdf_utm, on = 'institutionsnummer')"
   ]
  },
  {
   "cell_type": "code",
   "execution_count": 28,
   "metadata": {},
   "outputs": [],
   "source": [
    "# merge merge1 to mapping on 'objectid'\n",
    "mapping = pd.read_excel(cwd+'/scrape_geodata/mapping2019.xlsx')\n",
    "mapping.objectid = mapping.objectid.astype(str)\n",
    "merge2 = pd.merge(left = merge1, right = mapping[['objectid', 'refs']], on = 'objectid')"
   ]
  },
  {
   "cell_type": "code",
   "execution_count": 29,
   "metadata": {},
   "outputs": [],
   "source": [
    "# merge to election results\n",
    "election_result = pd.read_csv(cwd+'/scrape_geodata/data2019.csv')\n",
    "\n",
    "merge3 = pd.merge(left = merge2, right = election_result, on = 'refs')\n",
    "merge3.kommunekod = merge3.kommunekod.astype(int).astype(str)"
   ]
  },
  {
   "cell_type": "code",
   "execution_count": 30,
   "metadata": {},
   "outputs": [],
   "source": [
    "# merge to background vars on kommune level\n",
    "background = pd.read_csv('kom_background_vars2019.csv', index_col = 0)\n",
    "\n",
    "background.KOMKODE = background.KOMKODE.astype(str)\n",
    "background\n",
    "\n",
    "all_2019 = pd.merge(left = merge3, right = background, left_on = 'kommunekod', right_on = 'KOMKODE')\n",
    "\n",
    "# Not necessary, and the file is very big, but can be used as checkpoint\n",
    "# all_2019.to_csv('all_2019.csv')\n"
   ]
  },
  {
   "cell_type": "code",
   "execution_count": 31,
   "metadata": {},
   "outputs": [],
   "source": [
    "all_2019.columns = all_2019.columns.str.lower()\n",
    "col_vars = ['objectid','navn_x', 'afstemni00','kommunekod', 'institutionsnummer', 'karakter', 'soc_ref', 'postnr', 'navn_y', 'institutionstype2', 'institutionstype3', 'year_x', 'salgspris', 'party', 'votes', 'eligible_count', 'blank', 'invalid', 'total_valid', 'total_casted', 'time_stamp', 'names', 'constituency', 'voting_area', 'municipality', 'disindk', 'kriminelitet', 'lavindk', 'skilsmisser', 'andel_indv', 'geometry_x']\n",
    "\n",
    "temp_2019 = all_2019[col_vars]"
   ]
  },
  {
   "cell_type": "markdown",
   "metadata": {},
   "source": [
    "### Create variables for voting counts"
   ]
  },
  {
   "cell_type": "code",
   "execution_count": 32,
   "metadata": {},
   "outputs": [
    {
     "name": "stderr",
     "output_type": "stream",
     "text": [
      "C:\\Users\\Gustav\\Anaconda3\\lib\\site-packages\\ipykernel_launcher.py:8: SettingWithCopyWarning: \n",
      "A value is trying to be set on a copy of a slice from a DataFrame.\n",
      "Try using .loc[row_indexer,col_indexer] = value instead\n",
      "\n",
      "See the caveats in the documentation: https://pandas.pydata.org/pandas-docs/stable/user_guide/indexing.html#returning-a-view-versus-a-copy\n",
      "  \n",
      "C:\\Users\\Gustav\\Anaconda3\\lib\\site-packages\\ipykernel_launcher.py:10: SettingWithCopyWarning: \n",
      "A value is trying to be set on a copy of a slice from a DataFrame.\n",
      "Try using .loc[row_indexer,col_indexer] = value instead\n",
      "\n",
      "See the caveats in the documentation: https://pandas.pydata.org/pandas-docs/stable/user_guide/indexing.html#returning-a-view-versus-a-copy\n",
      "  # Remove the CWD from sys.path while we load stuff.\n"
     ]
    }
   ],
   "source": [
    "left_parties = ['Socialdemokratiet', 'Radikale Venstre', 'SF - Socialistisk Folkeparti', 'Enhedslisten - De Rød-Grønne', 'Alternativet']\n",
    "right_parties = ['Det Konservative Folkeparti', 'Nye Borgerlige', 'Klaus Riskær Pedersen', 'Liberal Alliance', 'Kristendemokraterne', 'Dansk Folkeparti', 'Stram Kurs', 'Venstre, Danmarks Liberale Parti']\n",
    "\n",
    "left_dummy = [int(party in left_parties) for party in temp_2019['party']]\n",
    "right_dummy = [int(party in right_parties) for party in temp_2019['party']]\n",
    "independent_dummy = [int(party not in left_parties+right_parties) for party in temp_2019['party']]\n",
    "\n",
    "temp_2019['left_dummy'], temp_2019['right_dummy'], temp_2019['independent_dummy'] = left_dummy, right_dummy, independent_dummy\n",
    "\n",
    "temp_2019['left_votes'], temp_2019['right_votes'], temp_2019['independent_votes'] = left_dummy*temp_2019['votes'], right_dummy*temp_2019['votes'], independent_dummy*temp_2019['votes']\n",
    "\n",
    "votes_df = temp_2019[['objectid', 'votes', 'left_votes', 'right_votes', 'independent_votes']].groupby(by = 'objectid').sum()\n",
    "\n",
    "pre_merge = temp_2019.drop(['votes','left_votes', 'right_votes', 'independent_votes', 'left_dummy', 'right_dummy', 'independent_dummy', 'party'], axis = 1)\n",
    "finalish_df = pd.merge(left = pre_merge, right = votes_df, on = 'objectid')\\\n",
    "            .drop_duplicates(subset = 'objectid')\\\n",
    "            .reset_index(drop = True)\n",
    "\n",
    "finalish_df['left_share'] = finalish_df['left_votes']/finalish_df['total_valid']\n",
    "finalish_df['right_share'] = finalish_df['right_votes']/finalish_df['total_valid']\n",
    "finalish_df['independent_share'] = finalish_df['independent_votes']/finalish_df['total_valid']"
   ]
  },
  {
   "cell_type": "code",
   "execution_count": 33,
   "metadata": {},
   "outputs": [],
   "source": [
    "final_gdf = gpd.GeoDataFrame(finalish_df[['objectid', 'afstemni00','navn_x', 'kommunekod', 'municipality', 'constituency','postnr', 'time_stamp', 'votes', 'eligible_count', 'total_casted', 'total_valid', 'left_votes', 'right_votes', 'independent_votes', 'blank', 'invalid', 'left_share', 'right_share', 'independent_share', 'institutionsnummer', 'navn_y', 'institutionstype2', 'institutionstype3', 'karakter', 'soc_ref', 'salgspris', 'disindk', 'kriminelitet', 'lavindk','skilsmisser', 'andel_indv', 'geometry_x']])\n",
    "\n",
    "final_gdf = final_gdf.rename(columns = {'navn_x': 'afstem_navn2', 'afstemni00': 'afstem_navn1', 'soc_ref': 'karakter_soc_ref', 'navn_y': 'skole_navn', 'blank': 'blank_votes', 'invalid': 'invalid_votes', 'votes': 'votes', 'municipality': 'kommunenavn', 'constituency': 'opst_kreds', 'geometry_x':'geometry'})\n",
    "\n",
    "final_gdf['area'] = final_gdf.geometry.area\n",
    "final_gdf['pop_density'] = final_gdf['eligible_count']/final_gdf['area']\n",
    "\n",
    "final_gdf.to_csv('final_data2019.csv', encoding = 'utf-8-sig')"
   ]
  },
  {
   "cell_type": "code",
   "execution_count": 34,
   "metadata": {},
   "outputs": [
    {
     "name": "stdout",
     "output_type": "stream",
     "text": [
      "('polynomialfeatures', PolynomialFeatures())\n",
      "('standardscaler', StandardScaler())\n"
     ]
    }
   ],
   "source": [
    "from sklearn.model_selection import train_test_split\n",
    "from sklearn.pipeline import make_pipeline\n",
    "from sklearn.preprocessing import PolynomialFeatures, StandardScaler\n",
    "\n",
    "pipe_preproc = make_pipeline(PolynomialFeatures(), \n",
    "                             StandardScaler())\n",
    "\n",
    "print(pipe_preproc.steps[0])\n",
    "print(pipe_preproc.steps[1])"
   ]
  },
  {
   "cell_type": "code",
   "execution_count": 35,
   "metadata": {},
   "outputs": [
    {
     "data": {
      "text/plain": [
       "0       0.679018\n",
       "1       0.682424\n",
       "2       0.654014\n",
       "3       0.687382\n",
       "4       0.755921\n",
       "          ...   \n",
       "1378    0.549085\n",
       "1379    0.493011\n",
       "1380    0.612910\n",
       "1381    0.613554\n",
       "1382    0.508466\n",
       "Name: left_share_norm, Length: 1383, dtype: float64"
      ]
     },
     "execution_count": 35,
     "metadata": {},
     "output_type": "execute_result"
    }
   ],
   "source": [
    "final_gdf['left_share_norm']=final_gdf['left_share']/(final_gdf['left_share']+final_gdf['right_share'])\n",
    "final_gdf['left_share_norm']"
   ]
  },
  {
   "cell_type": "code",
   "execution_count": 36,
   "metadata": {},
   "outputs": [
    {
     "data": {
      "text/plain": [
       "Index(['objectid', 'afstem_navn1', 'afstem_navn2', 'kommunekod', 'kommunenavn',\n",
       "       'opst_kreds', 'postnr', 'time_stamp', 'votes', 'eligible_count',\n",
       "       'total_casted', 'total_valid', 'left_votes', 'right_votes',\n",
       "       'independent_votes', 'blank_votes', 'invalid_votes', 'left_share',\n",
       "       'right_share', 'independent_share', 'institutionsnummer', 'skole_navn',\n",
       "       'institutionstype2', 'institutionstype3', 'karakter',\n",
       "       'karakter_soc_ref', 'salgspris', 'disindk', 'kriminelitet', 'lavindk',\n",
       "       'skilsmisser', 'andel_indv', 'geometry', 'area', 'pop_density',\n",
       "       'left_share_norm'],\n",
       "      dtype='object')"
      ]
     },
     "execution_count": 36,
     "metadata": {},
     "output_type": "execute_result"
    }
   ],
   "source": [
    "final_gdf.columns"
   ]
  },
  {
   "cell_type": "code",
   "execution_count": 51,
   "metadata": {},
   "outputs": [
    {
     "data": {
      "text/plain": [
       "1383"
      ]
     },
     "execution_count": 51,
     "metadata": {},
     "output_type": "execute_result"
    }
   ],
   "source": [
    "len(final_gdf['left_share_norm'].values)"
   ]
  },
  {
   "cell_type": "code",
   "execution_count": 245,
   "metadata": {},
   "outputs": [],
   "source": [
    "X = final_gdf[['karakter', 'karakter_soc_ref', 'salgspris', 'disindk', 'kriminelitet', 'lavindk',\n",
    "       'skilsmisser', 'andel_indv', 'pop_density']]\n",
    "y = final_gdf['left_share_norm']"
   ]
  },
  {
   "cell_type": "code",
   "execution_count": 294,
   "metadata": {},
   "outputs": [],
   "source": [
    "# splitting into development (2/3) and test data (1/3)\n",
    "X_dev, X_test, y_dev, y_test = train_test_split(X, y, test_size=1/3, random_state=1)\n",
    "\n",
    "# splitting development into train (1/3) and validation (1/3)\n",
    "X_train, X_val, y_train, y_val = train_test_split(X_dev, y_dev, test_size=1/2, random_state=1)"
   ]
  },
  {
   "cell_type": "code",
   "execution_count": 249,
   "metadata": {},
   "outputs": [
    {
     "data": {
      "text/plain": [
       "Pipeline(steps=[('polynomialfeatures',\n",
       "                 PolynomialFeatures(interaction_only=True)),\n",
       "                ('standardscaler', StandardScaler()),\n",
       "                ('linearregression', LinearRegression())])"
      ]
     },
     "execution_count": 249,
     "metadata": {},
     "output_type": "execute_result"
    }
   ],
   "source": [
    "from sklearn.linear_model import Lasso, Ridge, LinearRegression\n",
    "pipe_lr = make_pipeline(PolynomialFeatures(interaction_only=True, degree=2, include_bias=True), \n",
    "                        StandardScaler(),\n",
    "                        LinearRegression())\n",
    "\n",
    "pipe_lr.fit(X_dev, y_dev)"
   ]
  },
  {
   "cell_type": "code",
   "execution_count": 250,
   "metadata": {},
   "outputs": [
    {
     "data": {
      "text/plain": [
       "0.004901480683898845"
      ]
     },
     "execution_count": 250,
     "metadata": {},
     "output_type": "execute_result"
    }
   ],
   "source": [
    "((pipe_lr.predict(X_test)- y_test)**2).mean()"
   ]
  },
  {
   "cell_type": "markdown",
   "metadata": {},
   "source": [
    "## Lasso:"
   ]
  },
  {
   "cell_type": "code",
   "execution_count": 254,
   "metadata": {},
   "outputs": [
    {
     "name": "stderr",
     "output_type": "stream",
     "text": [
      "C:\\Users\\Gustav\\Anaconda3\\lib\\site-packages\\sklearn\\linear_model\\_coordinate_descent.py:531: ConvergenceWarning: Objective did not converge. You might want to increase the number of iterations. Duality gap: 0.0939716447262009, tolerance: 0.0005527937217527237\n",
      "  positive)\n",
      "C:\\Users\\Gustav\\Anaconda3\\lib\\site-packages\\sklearn\\linear_model\\_coordinate_descent.py:531: ConvergenceWarning: Objective did not converge. You might want to increase the number of iterations. Duality gap: 0.07807740010019981, tolerance: 0.0005527937217527237\n",
      "  positive)\n",
      "C:\\Users\\Gustav\\Anaconda3\\lib\\site-packages\\sklearn\\linear_model\\_coordinate_descent.py:531: ConvergenceWarning: Objective did not converge. You might want to increase the number of iterations. Duality gap: 0.060583777519856774, tolerance: 0.0005527937217527237\n",
      "  positive)\n"
     ]
    },
    {
     "name": "stdout",
     "output_type": "stream",
     "text": [
      "Optimal lambda: 0.0001\n",
      "Validation MSE: 0.005\n"
     ]
    }
   ],
   "source": [
    "from sklearn.metrics import mean_squared_error as mse\n",
    "\n",
    "perform = []\n",
    "lambdas = np.logspace(-4, 4, 33)\n",
    "for lambda_ in lambdas:\n",
    "    pipe_lasso = make_pipeline(PolynomialFeatures(include_bias=True), \n",
    "                               StandardScaler(),\n",
    "                               Lasso(alpha=lambda_, random_state=1))\n",
    "    pipe_lasso.fit(X_train, y_train)\n",
    "    y_pred = pipe_lasso.predict(X_val)\n",
    "    perform.append(mse(y_pred, y_val))\n",
    "    \n",
    "hyperparam_perform = pd.Series(perform,index=lambdas)\n",
    "optimal = hyperparam_perform.nsmallest(1)    \n",
    "print('Optimal lambda:', optimal.index[0])\n",
    "print('Validation MSE: %.3f' % optimal.values[0])\n",
    "\n"
   ]
  },
  {
   "cell_type": "markdown",
   "metadata": {},
   "source": [
    "## Ridge:"
   ]
  },
  {
   "cell_type": "code",
   "execution_count": 255,
   "metadata": {},
   "outputs": [
    {
     "name": "stdout",
     "output_type": "stream",
     "text": [
      "Optimal lambda: 1.0\n",
      "Validation MSE: 0.005\n"
     ]
    }
   ],
   "source": [
    "from sklearn.metrics import mean_squared_error as mse\n",
    "\n",
    "perform = []\n",
    "lambdas = np.logspace(-4, 4, 33)\n",
    "for lambda_ in lambdas:\n",
    "    pipe_ridge = make_pipeline(PolynomialFeatures(include_bias=True), \n",
    "                               StandardScaler(),\n",
    "                               Ridge(alpha=lambda_, random_state=1))\n",
    "    pipe_ridge.fit(X_train, y_train)\n",
    "    y_pred = pipe_ridge.predict(X_val)\n",
    "    perform.append(mse(y_pred, y_val))\n",
    "    \n",
    "hyperparam_perform = pd.Series(perform,index=lambdas)\n",
    "optimal = hyperparam_perform.nsmallest(1)    \n",
    "print('Optimal lambda:', optimal.index[0])\n",
    "print('Validation MSE: %.3f' % optimal.values[0])\n",
    "\n"
   ]
  },
  {
   "cell_type": "code",
   "execution_count": 288,
   "metadata": {},
   "outputs": [
    {
     "data": {
      "text/plain": [
       "<AxesSubplot:>"
      ]
     },
     "execution_count": 288,
     "metadata": {},
     "output_type": "execute_result"
    },
    {
     "data": {
      "image/png": "[encoded data removed]",
      "text/plain": [
       "<Figure size 432x288 with 2 Axes>"
      ]
     },
     "metadata": {
      "needs_background": "light"
     },
     "output_type": "display_data"
    }
   ],
   "source": [
    "errors = pipe_ridge.predict(X_test)-y_test\n",
    "error_gdf = final_gdf.merge(pd.DataFrame(errors), left_index=True, right_index=True, how='left')\n",
    "error_gdf.plot(column='left_share_norm_y', legend=True)"
   ]
  },
  {
   "cell_type": "code",
   "execution_count": 237,
   "metadata": {},
   "outputs": [
    {
     "data": {
      "text/plain": [
       "<AxesSubplot:xlabel='x_axis', ylabel='0'>"
      ]
     },
     "execution_count": 237,
     "metadata": {},
     "output_type": "execute_result"
    },
    {
     "data": {
      "image/png": "[encoded data removed]",
      "text/plain": [
       "<Figure size 432x288 with 1 Axes>"
      ]
     },
     "metadata": {
      "needs_background": "light"
     },
     "output_type": "display_data"
    }
   ],
   "source": [
    "plot_df = pd.DataFrame(hyperparam_perform).reset_index()\n",
    "plot_df['index'] = np.log(plot_df['index'])\n",
    "plot_df['x_axis'] = plot_df['index']\n",
    "import seaborn as sns\n",
    "sns.lineplot(data=plot_df, x='x_axis', y=0)"
   ]
  },
  {
   "cell_type": "code",
   "execution_count": 307,
   "metadata": {},
   "outputs": [],
   "source": [
    "from sklearn.model_selection import KFold, LeaveOneOut\n",
    "kfolds = KFold(n_splits=10)\n",
    "folds = list(kfolds.split(X_dev, y_dev))\n",
    "# outer loop: lambdas\n",
    "mseCV = []\n",
    "lambdas = np.logspace(-4, 4, 33)\n",
    "for lambda_ in lambdas:    \n",
    "    # inner loop: folds\n",
    "    mseCV_ = []    \n",
    "    for train_idx, val_idx in folds:        \n",
    "        # train model and compute MSE on test fold\n",
    "        pipe_ridgeCV = make_pipeline(PolynomialFeatures(degree=2, include_bias=True),\n",
    "                                     StandardScaler(),\n",
    "                                     Ridge(alpha=lambda_, random_state=1))            \n",
    "        X_train, y_train = X_dev.values[train_idx], y_dev.values[train_idx]\n",
    "        X_val, y_val = X_dev.values[val_idx], y_dev.values[val_idx] \n",
    "        pipe_ridgeCV.fit(X_train, y_train)        \n",
    "        mseCV_.append(mse(pipe_ridgeCV.predict(X_val), y_val))    \n",
    "        \n",
    "    # store result    \n",
    "    mseCV.append(mseCV_) \n",
    "    \n",
    "# convert to DataFrame\n",
    "lambdaCV = pd.DataFrame(mseCV, index=lambdas)"
   ]
  },
  {
   "cell_type": "code",
   "execution_count": 308,
   "metadata": {},
   "outputs": [
    {
     "data": {
      "text/plain": [
       "<AxesSubplot:>"
      ]
     },
     "execution_count": 308,
     "metadata": {},
     "output_type": "execute_result"
    },
    {
     "data": {
      "image/png": "[encoded data removed]",
      "text/plain": [
       "<Figure size 432x288 with 2 Axes>"
      ]
     },
     "metadata": {
      "needs_background": "light"
     },
     "output_type": "display_data"
    }
   ],
   "source": [
    "errors = pipe_ridgeCV.predict(X_test)-y_test\n",
    "error_gdf = final_gdf.merge(pd.DataFrame(errors), left_index=True, right_index=True, how='left')\n",
    "error_gdf.plot(column='left_share_norm_y', legend=True)"
   ]
  },
  {
   "cell_type": "code",
   "execution_count": 242,
   "metadata": {
    "scrolled": true
   },
   "outputs": [
    {
     "data": {
      "text/plain": [
       "<AxesSubplot:xlabel='x_axis', ylabel='0'>"
      ]
     },
     "execution_count": 242,
     "metadata": {},
     "output_type": "execute_result"
    },
    {
     "data": {
      "image/png": "[encoded data removed]",
      "text/plain": [
       "<Figure size 432x288 with 1 Axes>"
      ]
     },
     "metadata": {
      "needs_background": "light"
     },
     "output_type": "display_data"
    }
   ],
   "source": [
    "plot_df = pd.DataFrame(lambdaCV.mean(axis=1)).reset_index()\n",
    "plot_df['index'] = np.log(plot_df['index'])\n",
    "plot_df['x_axis'] = plot_df['index']\n",
    "import seaborn as sns\n",
    "sns.lineplot(data=plot_df, x='x_axis', y=0)"
   ]
  },
  {
   "cell_type": "code",
   "execution_count": 243,
   "metadata": {},
   "outputs": [
    {
     "data": {
      "text/plain": [
       "0.000100        0.005145\n",
       "0.000178        0.005145\n",
       "0.000316        0.005144\n",
       "0.000562        0.005144\n",
       "0.001000        0.005143\n",
       "0.001778        0.005142\n",
       "0.003162        0.005140\n",
       "0.005623        0.005136\n",
       "0.010000        0.005131\n",
       "0.017783        0.005124\n",
       "0.031623        0.005115\n",
       "0.056234        0.005105\n",
       "0.100000        0.005095\n",
       "0.177828        0.005088\n",
       "0.316228        0.005085\n",
       "0.562341        0.005088\n",
       "1.000000        0.005099\n",
       "1.778279        0.005120\n",
       "3.162278        0.005156\n",
       "5.623413        0.005210\n",
       "10.000000       0.005291\n",
       "17.782794       0.005414\n",
       "31.622777       0.005587\n",
       "56.234133       0.005797\n",
       "100.000000      0.006010\n",
       "177.827941      0.006199\n",
       "316.227766      0.006356\n",
       "562.341325      0.006494\n",
       "1000.000000     0.006632\n",
       "1778.279410     0.006788\n",
       "3162.277660     0.006987\n",
       "5623.413252     0.007272\n",
       "10000.000000    0.007707\n",
       "dtype: float64"
      ]
     },
     "execution_count": 243,
     "metadata": {},
     "output_type": "execute_result"
    }
   ],
   "source": [
    "lambdaCV.mean(axis=1)\n",
    "errors = pipe_ridge.predict(X_test)-y_test\n",
    "error_gdf = final_gdf.merge(pd.DataFrame(errors), left_index=True, right_index=True, how='left')\n",
    "error_gdf.plot(column='left_share_norm_y', legend=True)"
   ]
  },
  {
   "cell_type": "code",
   "execution_count": 309,
   "metadata": {
    "scrolled": false
   },
   "outputs": [],
   "source": [
    "from sklearn.model_selection import KFold, LeaveOneOut\n",
    "kfolds = LeaveOneOut()\n",
    "folds = list(kfolds.split(X_dev, y_dev))\n",
    "# outer loop: lambdas\n",
    "mseCV = []\n",
    "lambdas = np.logspace(-4, 4, 33)\n",
    "for lambda_ in lambdas:    \n",
    "    # inner loop: folds\n",
    "    mseCV_ = []    \n",
    "    for train_idx, val_idx in folds:        \n",
    "        # train model and compute MSE on test fold\n",
    "        pipe_ridgeCV = make_pipeline(PolynomialFeatures(degree=2, include_bias=True),\n",
    "                                     StandardScaler(),\n",
    "                                     Ridge(alpha=lambda_, random_state=1))            \n",
    "        X_train, y_train = X_dev.values[train_idx], y_dev.values[train_idx]\n",
    "        X_val, y_val = X_dev.values[val_idx], y_dev.values[val_idx] \n",
    "        pipe_ridgeCV.fit(X_train, y_train)        \n",
    "        mseCV_.append(mse(pipe_ridgeCV.predict(X_val), y_val))    \n",
    "        \n",
    "    # store result    \n",
    "    mseCV.append(mseCV_) \n",
    "    \n",
    "# convert to DataFrame\n",
    "lambdaCV = pd.DataFrame(mseCV, index=lambdas)"
   ]
  },
  {
   "cell_type": "code",
   "execution_count": 320,
   "metadata": {},
   "outputs": [
    {
     "data": {
      "text/html": [
       "<div>\n",
       "<style scoped>\n",
       "    .dataframe tbody tr th:only-of-type {\n",
       "        vertical-align: middle;\n",
       "    }\n",
       "\n",
       "    .dataframe tbody tr th {\n",
       "        vertical-align: top;\n",
       "    }\n",
       "\n",
       "    .dataframe thead th {\n",
       "        text-align: right;\n",
       "    }\n",
       "</style>\n",
       "<table border=\"1\" class=\"dataframe\">\n",
       "  <thead>\n",
       "    <tr style=\"text-align: right;\">\n",
       "      <th></th>\n",
       "      <th>kommunenavn</th>\n",
       "      <th>opst_kreds</th>\n",
       "      <th>left_share_norm_x</th>\n",
       "      <th>left_share_norm_y</th>\n",
       "    </tr>\n",
       "  </thead>\n",
       "  <tbody>\n",
       "    <tr>\n",
       "      <th>51</th>\n",
       "      <td>København Kommune</td>\n",
       "      <td>Brønshøjkredsen</td>\n",
       "      <td>0.835885</td>\n",
       "      <td>-0.242268</td>\n",
       "    </tr>\n",
       "    <tr>\n",
       "      <th>6</th>\n",
       "      <td>København Kommune</td>\n",
       "      <td>Nørrebrokredsen</td>\n",
       "      <td>0.834906</td>\n",
       "      <td>-0.175485</td>\n",
       "    </tr>\n",
       "    <tr>\n",
       "      <th>48</th>\n",
       "      <td>København Kommune</td>\n",
       "      <td>Nørrebrokredsen</td>\n",
       "      <td>0.806708</td>\n",
       "      <td>-0.140194</td>\n",
       "    </tr>\n",
       "    <tr>\n",
       "      <th>19</th>\n",
       "      <td>København Kommune</td>\n",
       "      <td>Nørrebrokredsen</td>\n",
       "      <td>0.795474</td>\n",
       "      <td>-0.084410</td>\n",
       "    </tr>\n",
       "    <tr>\n",
       "      <th>47</th>\n",
       "      <td>København Kommune</td>\n",
       "      <td>Vesterbrokredsen</td>\n",
       "      <td>0.779431</td>\n",
       "      <td>-0.116090</td>\n",
       "    </tr>\n",
       "    <tr>\n",
       "      <th>...</th>\n",
       "      <td>...</td>\n",
       "      <td>...</td>\n",
       "      <td>...</td>\n",
       "      <td>...</td>\n",
       "    </tr>\n",
       "    <tr>\n",
       "      <th>1142</th>\n",
       "      <td>Ringkøbing-Skjern Kommune</td>\n",
       "      <td>Ringkøbingkredsen</td>\n",
       "      <td>0.253937</td>\n",
       "      <td>0.184741</td>\n",
       "    </tr>\n",
       "    <tr>\n",
       "      <th>1130</th>\n",
       "      <td>Ringkøbing-Skjern Kommune</td>\n",
       "      <td>Ringkøbingkredsen</td>\n",
       "      <td>0.239678</td>\n",
       "      <td>0.204331</td>\n",
       "    </tr>\n",
       "    <tr>\n",
       "      <th>239</th>\n",
       "      <td>Hørsholm Kommune</td>\n",
       "      <td>Fredensborgkredsen</td>\n",
       "      <td>0.235714</td>\n",
       "      <td>0.235337</td>\n",
       "    </tr>\n",
       "    <tr>\n",
       "      <th>1115</th>\n",
       "      <td>Ikast-Brande Kommune</td>\n",
       "      <td>Ikastkredsen</td>\n",
       "      <td>0.213752</td>\n",
       "      <td>0.247523</td>\n",
       "    </tr>\n",
       "    <tr>\n",
       "      <th>1131</th>\n",
       "      <td>Ringkøbing-Skjern Kommune</td>\n",
       "      <td>Ringkøbingkredsen</td>\n",
       "      <td>0.194882</td>\n",
       "      <td>0.249134</td>\n",
       "    </tr>\n",
       "  </tbody>\n",
       "</table>\n",
       "<p>446 rows × 4 columns</p>\n",
       "</div>"
      ],
      "text/plain": [
       "                    kommunenavn          opst_kreds  left_share_norm_x  \\\n",
       "51            København Kommune     Brønshøjkredsen           0.835885   \n",
       "6             København Kommune     Nørrebrokredsen           0.834906   \n",
       "48            København Kommune     Nørrebrokredsen           0.806708   \n",
       "19            København Kommune     Nørrebrokredsen           0.795474   \n",
       "47            København Kommune    Vesterbrokredsen           0.779431   \n",
       "...                         ...                 ...                ...   \n",
       "1142  Ringkøbing-Skjern Kommune   Ringkøbingkredsen           0.253937   \n",
       "1130  Ringkøbing-Skjern Kommune   Ringkøbingkredsen           0.239678   \n",
       "239            Hørsholm Kommune  Fredensborgkredsen           0.235714   \n",
       "1115       Ikast-Brande Kommune        Ikastkredsen           0.213752   \n",
       "1131  Ringkøbing-Skjern Kommune   Ringkøbingkredsen           0.194882   \n",
       "\n",
       "      left_share_norm_y  \n",
       "51            -0.242268  \n",
       "6             -0.175485  \n",
       "48            -0.140194  \n",
       "19            -0.084410  \n",
       "47            -0.116090  \n",
       "...                 ...  \n",
       "1142           0.184741  \n",
       "1130           0.204331  \n",
       "239            0.235337  \n",
       "1115           0.247523  \n",
       "1131           0.249134  \n",
       "\n",
       "[446 rows x 4 columns]"
      ]
     },
     "execution_count": 320,
     "metadata": {},
     "output_type": "execute_result"
    }
   ],
   "source": [
    "error_gdf[['kommunenavn', 'opst_kreds','left_share_norm_x', 'left_share_norm_y']].sort_values(by='left_share_norm_x', ascending=False).dropna()"
   ]
  },
  {
   "cell_type": "code",
   "execution_count": 353,
   "metadata": {},
   "outputs": [
    {
     "name": "stderr",
     "output_type": "stream",
     "text": [
      "C:\\Users\\Gustav\\Anaconda3\\lib\\site-packages\\ipykernel_launcher.py:2: SettingWithCopyWarning: \n",
      "A value is trying to be set on a copy of a slice from a DataFrame\n",
      "\n",
      "See the caveats in the documentation: https://pandas.pydata.org/pandas-docs/stable/user_guide/indexing.html#returning-a-view-versus-a-copy\n",
      "  \n",
      "C:\\Users\\Gustav\\Anaconda3\\lib\\site-packages\\ipykernel_launcher.py:3: SettingWithCopyWarning: \n",
      "A value is trying to be set on a copy of a slice from a DataFrame\n",
      "\n",
      "See the caveats in the documentation: https://pandas.pydata.org/pandas-docs/stable/user_guide/indexing.html#returning-a-view-versus-a-copy\n",
      "  This is separate from the ipykernel package so we can avoid doing imports until\n"
     ]
    }
   ],
   "source": [
    "error_gdf['correct_prediction'] = \"\"\n",
    "error_gdf['correct_prediction'][(error_gdf['left_share_norm_x']>0.5) & ((error_gdf['left_share_norm_y']+error_gdf['left_share_norm_x'])>0.5)] = 1\n",
    "error_gdf['correct_prediction'][(error_gdf['left_share_norm_x']<0.5) & ((error_gdf['left_share_norm_y']+error_gdf['left_share_norm_x'])<0.5)] = 1\n",
    "\n",
    "error_gdf['actual prediction'] = \"\"\n",
    "error_gdf['correct_prediction'][(error_gdf['left_share_norm_x']>0.5) & ((error_gdf['left_share_norm_y']+error_gdf['left_share_norm_x'])>0.5)] = 1\n",
    "error_gdf['correct_prediction'][(error_gdf['left_share_norm_x']<0.5) & ((error_gdf['left_share_norm_y']+error_gdf['left_share_norm_x'])<0.5)] = 1"
   ]
  },
  {
   "cell_type": "code",
   "execution_count": 342,
   "metadata": {
    "scrolled": false
   },
   "outputs": [
    {
     "data": {
      "text/plain": [
       "<AxesSubplot:>"
      ]
     },
     "execution_count": 342,
     "metadata": {},
     "output_type": "execute_result"
    },
    {
     "data": {
      "image/png": "[encoded data removed]",
      "text/plain": [
       "<Figure size 432x288 with 2 Axes>"
      ]
     },
     "metadata": {
      "needs_background": "light"
     },
     "output_type": "display_data"
    }
   ],
   "source": [
    "error_gdf[error_gdf['correct_prediction']==1].dropna().plot(column='eligible_count', legend=True)"
   ]
  },
  {
   "cell_type": "code",
   "execution_count": 352,
   "metadata": {},
   "outputs": [
    {
     "data": {
      "text/plain": [
       "0.30303030303030304"
      ]
     },
     "execution_count": 352,
     "metadata": {},
     "output_type": "execute_result"
    }
   ],
   "source": [
    "# len(error_gdf[(error_gdf['correct_prediction']==1)&(error_gdf['eligible_count']<2000)])/error_gdf.correct_prediction.sum()\n",
    "len(error_gdf[(error_gdf['correct_prediction']==0)&(error_gdf['eligible_count']<2000)].dropna())/(len(error_gdf.dropna())-error_gdf.correct_prediction.sum())"
   ]
  },
  {
   "cell_type": "code",
   "execution_count": 348,
   "metadata": {},
   "outputs": [
    {
     "data": {
      "text/plain": [
       "99"
      ]
     },
     "execution_count": 348,
     "metadata": {},
     "output_type": "execute_result"
    }
   ],
   "source": [
    "(len(error_gdf.dropna())-error_gdf.correct_prediction.sum())"
   ]
  },
  {
   "cell_type": "code",
   "execution_count": 340,
   "metadata": {},
   "outputs": [
    {
     "data": {
      "text/plain": [
       "0.7780269058295964"
      ]
     },
     "execution_count": 340,
     "metadata": {},
     "output_type": "execute_result"
    }
   ],
   "source": [
    "error_gdf.correct_prediction.sum()/len(error_gdf.dropna())\n"
   ]
  },
  {
   "cell_type": "code",
   "execution_count": 310,
   "metadata": {},
   "outputs": [
    {
     "data": {
      "text/plain": [
       "<AxesSubplot:>"
      ]
     },
     "execution_count": 310,
     "metadata": {},
     "output_type": "execute_result"
    },
    {
     "data": {
      "image/png": "[encoded data removed]",
      "text/plain": [
       "<Figure size 432x288 with 2 Axes>"
      ]
     },
     "metadata": {
      "needs_background": "light"
     },
     "output_type": "display_data"
    }
   ],
   "source": [
    "errors = pipe_ridgeCV.predict(X_test)-y_test\n",
    "error_gdf = final_gdf.merge(pd.DataFrame(errors), left_index=True, right_index=True, how='left')\n",
    "error_gdf.plot(column='left_share_norm_y', legend=True)"
   ]
  },
  {
   "cell_type": "code",
   "execution_count": 230,
   "metadata": {},
   "outputs": [
    {
     "data": {
      "text/plain": [
       "<AxesSubplot:xlabel='x_axis', ylabel='0'>"
      ]
     },
     "execution_count": 230,
     "metadata": {},
     "output_type": "execute_result"
    },
    {
     "data": {
      "image/png": "[encoded data removed]",
      "text/plain": [
       "<Figure size 432x288 with 1 Axes>"
      ]
     },
     "metadata": {
      "needs_background": "light"
     },
     "output_type": "display_data"
    }
   ],
   "source": [
    "plot_df = pd.DataFrame(lambdaCV.mean(axis=1)).reset_index()\n",
    "plot_df['index'] = np.log(plot_df['index'])\n",
    "plot_df['x_axis'] = plot_df['index']\n",
    "import seaborn as sns\n",
    "sns.lineplot(data=plot_df, x='x_axis', y=0)"
   ]
  }
 ],
 "metadata": {
  "kernelspec": {
   "display_name": "Python 3",
   "language": "python",
   "name": "python3"
  },
  "language_info": {
   "codemirror_mode": {
    "name": "ipython",
    "version": 3
   },
   "file_extension": ".py",
   "mimetype": "text/x-python",
   "name": "python",
   "nbconvert_exporter": "python",
   "pygments_lexer": "ipython3",
   "version": "3.7.3"
  }
 },
 "nbformat": 4,
 "nbformat_minor": 2
}
