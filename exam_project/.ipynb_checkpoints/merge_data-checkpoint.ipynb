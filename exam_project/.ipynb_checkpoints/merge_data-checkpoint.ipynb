{
 "cells": [
  {
   "cell_type": "code",
   "execution_count": 383,
   "metadata": {
    "tags": []
   },
   "outputs": [],
   "source": [
    "import pandas as pd\n",
    "import numpy as np\n",
    "import os\n",
    "from shapely.geometry import Point, Polygon\n",
    "\n",
    "cwd =os.getcwd()"
   ]
  },
  {
   "cell_type": "markdown",
   "metadata": {},
   "source": [
    "### Structure socioeconomic data by year"
   ]
  },
  {
   "cell_type": "code",
   "execution_count": 385,
   "metadata": {},
   "outputs": [],
   "source": [
    "socioeco_df = pd.read_excel(cwd+'/socioeconomic_data/socioeco_data.xlsx', sheet_name = 'Samlet')\n",
    "\n",
    "postnr_columns =['POSTNR', 'YEAR', 'KOMKODE', 'SALGSPRIS']\n",
    "kom_columns = ['KOMKODE', 'YEAR', 'DISINDK', 'KRIMINELITET', 'LAVINDK', 'SKILSMISSER', 'ANDEL_INDV']\n",
    "\n",
    "post_df = socioeco_df[postnr_columns]\n",
    "kom_df = socioeco_df[kom_columns]\n",
    "\n",
    "years = [2011, 2015, 2019]\n",
    "post_split = [post_df[post_df['YEAR'] == year] for year in years]\n",
    "kom_split = [kom_df[kom_df['YEAR'] == year] for year in years]"
   ]
  },
  {
   "cell_type": "code",
   "execution_count": 387,
   "metadata": {},
   "outputs": [
    {
     "data": {
      "text/html": [
       "<div>\n",
       "<style scoped>\n",
       "    .dataframe tbody tr th:only-of-type {\n",
       "        vertical-align: middle;\n",
       "    }\n",
       "\n",
       "    .dataframe tbody tr th {\n",
       "        vertical-align: top;\n",
       "    }\n",
       "\n",
       "    .dataframe thead th {\n",
       "        text-align: right;\n",
       "    }\n",
       "</style>\n",
       "<table border=\"1\" class=\"dataframe\">\n",
       "  <thead>\n",
       "    <tr style=\"text-align: right;\">\n",
       "      <th></th>\n",
       "      <th>POSTNR</th>\n",
       "      <th>YEAR</th>\n",
       "      <th>KOMKODE</th>\n",
       "      <th>SALGSPRIS</th>\n",
       "    </tr>\n",
       "  </thead>\n",
       "  <tbody>\n",
       "    <tr>\n",
       "      <th>2841</th>\n",
       "      <td>1000</td>\n",
       "      <td>2019</td>\n",
       "      <td>101</td>\n",
       "      <td>37082.250000</td>\n",
       "    </tr>\n",
       "    <tr>\n",
       "      <th>2842</th>\n",
       "      <td>1050</td>\n",
       "      <td>2019</td>\n",
       "      <td>101</td>\n",
       "      <td>37082.250000</td>\n",
       "    </tr>\n",
       "    <tr>\n",
       "      <th>2843</th>\n",
       "      <td>1051</td>\n",
       "      <td>2019</td>\n",
       "      <td>101</td>\n",
       "      <td>37082.250000</td>\n",
       "    </tr>\n",
       "    <tr>\n",
       "      <th>2844</th>\n",
       "      <td>1052</td>\n",
       "      <td>2019</td>\n",
       "      <td>101</td>\n",
       "      <td>37082.250000</td>\n",
       "    </tr>\n",
       "    <tr>\n",
       "      <th>2845</th>\n",
       "      <td>1053</td>\n",
       "      <td>2019</td>\n",
       "      <td>101</td>\n",
       "      <td>37082.250000</td>\n",
       "    </tr>\n",
       "    <tr>\n",
       "      <th>...</th>\n",
       "      <td>...</td>\n",
       "      <td>...</td>\n",
       "      <td>...</td>\n",
       "      <td>...</td>\n",
       "    </tr>\n",
       "    <tr>\n",
       "      <th>4259</th>\n",
       "      <td>9970</td>\n",
       "      <td>2019</td>\n",
       "      <td>813</td>\n",
       "      <td>6252.666667</td>\n",
       "    </tr>\n",
       "    <tr>\n",
       "      <th>4260</th>\n",
       "      <td>9981</td>\n",
       "      <td>2019</td>\n",
       "      <td>813</td>\n",
       "      <td>8695.750000</td>\n",
       "    </tr>\n",
       "    <tr>\n",
       "      <th>4261</th>\n",
       "      <td>9982</td>\n",
       "      <td>2019</td>\n",
       "      <td>813</td>\n",
       "      <td>6225.000000</td>\n",
       "    </tr>\n",
       "    <tr>\n",
       "      <th>4262</th>\n",
       "      <td>9982</td>\n",
       "      <td>2019</td>\n",
       "      <td>860</td>\n",
       "      <td>6225.000000</td>\n",
       "    </tr>\n",
       "    <tr>\n",
       "      <th>4263</th>\n",
       "      <td>9990</td>\n",
       "      <td>2019</td>\n",
       "      <td>813</td>\n",
       "      <td>16241.750000</td>\n",
       "    </tr>\n",
       "  </tbody>\n",
       "</table>\n",
       "<p>1423 rows × 4 columns</p>\n",
       "</div>"
      ],
      "text/plain": [
       "      POSTNR  YEAR  KOMKODE     SALGSPRIS\n",
       "2841    1000  2019      101  37082.250000\n",
       "2842    1050  2019      101  37082.250000\n",
       "2843    1051  2019      101  37082.250000\n",
       "2844    1052  2019      101  37082.250000\n",
       "2845    1053  2019      101  37082.250000\n",
       "...      ...   ...      ...           ...\n",
       "4259    9970  2019      813   6252.666667\n",
       "4260    9981  2019      813   8695.750000\n",
       "4261    9982  2019      813   6225.000000\n",
       "4262    9982  2019      860   6225.000000\n",
       "4263    9990  2019      813  16241.750000\n",
       "\n",
       "[1423 rows x 4 columns]"
      ]
     },
     "execution_count": 387,
     "metadata": {},
     "output_type": "execute_result"
    }
   ],
   "source": [
    "post_split[2]"
   ]
  },
  {
   "cell_type": "markdown",
   "metadata": {},
   "source": [
    "### Merge school data and socioeconomic data by postal code and kommune"
   ]
  },
  {
   "cell_type": "code",
   "execution_count": 389,
   "metadata": {},
   "outputs": [],
   "source": [
    "df_list = []\n",
    "for data, year in zip(post_split, [2011, 2015, 2019]):\n",
    "    # load data\n",
    "    soc_data = data\n",
    "    school_data = pd.read_csv(cwd+f'/school_data/school_clean_{year-1}-{year}.csv', index_col=0)\n",
    "\n",
    "    # merge data\n",
    "    merged = pd.merge(left = school_data, right = soc_data, left_on = ['beliggenhedskommunenr', 'postnr'], right_on = ['KOMKODE', 'POSTNR'])\n",
    "\n",
    "    # format\n",
    "    merged.columns = merged.columns.str.lower()\n",
    "    merged = merged.T.drop_duplicates().T\n",
    "\n",
    "    merged.to_csv(f'postnr_background_vars{year}.csv')\n",
    "\n",
    "    df_list.append(merged)\n",
    "\n",
    "for data, year in zip(kom_split, [2011, 2015, 2019]):\n",
    "    data.drop_duplicates()\\\n",
    "        .to_csv(f'kom_background_vars{year}.csv')"
   ]
  },
  {
   "cell_type": "code",
   "execution_count": null,
   "metadata": {},
   "outputs": [],
   "source": []
  },
  {
   "cell_type": "code",
   "execution_count": null,
   "metadata": {},
   "outputs": [],
   "source": []
  },
  {
   "cell_type": "code",
   "execution_count": null,
   "metadata": {},
   "outputs": [],
   "source": []
  },
  {
   "cell_type": "code",
   "execution_count": 391,
   "metadata": {
    "tags": []
   },
   "outputs": [],
   "source": [
    "import pandas as pd\n",
    "import geopandas as gpd\n",
    "from shapely.geometry import Point\n",
    "from shapely.ops import nearest_points\n",
    "import pyproj\n"
   ]
  },
  {
   "cell_type": "code",
   "execution_count": 393,
   "metadata": {},
   "outputs": [],
   "source": [
    "# Well, that was horrible...\n",
    "# conda remove pyproj\n",
    "# pip install pyproj\n",
    "# conda install geopandas \n",
    "\n",
    "# Læs baggrundsvariable of oversæt til utm\n",
    "df = pd.read_csv('postnr_background_vars2019.csv', index_col=0)\n",
    "\n",
    "c = [Point(x, y) for x, y in zip(df['lon'], df['lat'])]\n",
    "gdf = gpd.GeoDataFrame(df, geometry = c)\n",
    "\n",
    "gdf.crs = {'init': 'epsg:4326'}\n",
    "gdf_utm = gdf.to_crs(epsg = 32632)\n",
    "\n",
    "# frasorter efterskoler (behold privat- og friskoler for at undgå for stort fald i antal observationer)\n",
    "gdf_utm = gdf_utm[gdf_utm['institutionstype2'] == 'Grundskoler']"
   ]
  },
  {
   "cell_type": "code",
   "execution_count": 395,
   "metadata": {},
   "outputs": [],
   "source": [
    "# Læs valgdistrikter og tilføj centroid\n",
    "valg_distrikt = gpd.read_file(cwd+'\\scrape_geodata\\geodata\\dagi_10m_nohist_l1.afstemningsomraade\\\\afstemningsomraade.shp', driver = 'ESRI Shapefile')\n",
    "valg_distrikt['centroid']=valg_distrikt['geometry'].centroid"
   ]
  },
  {
   "cell_type": "code",
   "execution_count": 397,
   "metadata": {},
   "outputs": [],
   "source": [
    "valg_geo = valg_distrikt.set_geometry('centroid')\n",
    "schools_geo = gdf_utm.geometry.unary_union"
   ]
  },
  {
   "cell_type": "code",
   "execution_count": 399,
   "metadata": {},
   "outputs": [],
   "source": [
    "# Find for hver centroid den nærmeste skole\n",
    "# For valg_distrikt['c½entroid'] find nærmeste gdf_utm['geometry'] ogtilføj tilhørende 'institutionsnummer'\n",
    "pts3 = gdf_utm.geometry.unary_union\n",
    "def near(point, pts = pts3):\n",
    "    nearest = gdf_utm.geometry == nearest_points(point, pts)[1]\n",
    "    return gdf_utm[nearest]['institutionsnummer'].values[0]\n",
    "    \n",
    "valg_geo['institutionsnummer'] = valg_geo.apply(lambda row: near(row.geometry), axis = 1)"
   ]
  },
  {
   "cell_type": "code",
   "execution_count": 401,
   "metadata": {
    "tags": []
   },
   "outputs": [
    {
     "data": {
      "text/plain": [
       "\"test_valg = valg_geo.iloc[0].centroid\\n\\nnearest = nearest_points(test_valg, schools_geo)[1]\\nprint(test_valg)\\nprint(nearest)\\ngdf_utm[gdf_utm['geometry'] == nearest]\""
      ]
     },
     "execution_count": 401,
     "metadata": {},
     "output_type": "execute_result"
    }
   ],
   "source": [
    "\"\"\"test_valg = valg_geo.iloc[0].centroid\n",
    "\n",
    "nearest = nearest_points(test_valg, schools_geo)[1]\n",
    "print(test_valg)\n",
    "print(nearest)\n",
    "gdf_utm[gdf_utm['geometry'] == nearest]\"\"\""
   ]
  },
  {
   "cell_type": "code",
   "execution_count": 403,
   "metadata": {},
   "outputs": [
    {
     "data": {
      "text/plain": [
       "Index(['objectid', 'id_lokalid', 'id_namespa', 'status', 'geometrist',\n",
       "       'virkningfr', 'virkningti', 'virkningsa', 'forretning', 'registreri',\n",
       "       'registre00', 'registre01', 'forretni00', 'forretni01', 'dagiid',\n",
       "       'navn_x', 'redigering', 'dataspecif', 'landekode', 'skala',\n",
       "       'afstemning', 'afstemni00', 'afstemni01', 'kommunekod', 'kommunelok',\n",
       "       'opstilling', 'opstilli00', 'udtraeksda', 'gmlid', 'geometry_x',\n",
       "       'centroid', 'institutionsnummer', 'karakter', 'soc_ref',\n",
       "       'beliggenhedskommunenr', 'lat', 'lon', 'postnr', 'navn_y',\n",
       "       'institutionstype2', 'institutionstype3', 'coordinates', 'year',\n",
       "       'salgspris', 'geometry_y'],\n",
       "      dtype='object')"
      ]
     },
     "execution_count": 403,
     "metadata": {},
     "output_type": "execute_result"
    }
   ],
   "source": [
    "# merge election to school in 'intitutionsnummer\n",
    "merge1 = pd.merge(left=valg_geo, right = gdf_utm, on = 'institutionsnummer')\n",
    "merge1.columns"
   ]
  },
  {
   "cell_type": "code",
   "execution_count": 405,
   "metadata": {},
   "outputs": [],
   "source": [
    "# merge merge1 to mapping on 'objectid'\n",
    "mapping = pd.read_csv(cwd+'/scrape_geodata/mapping_geodata_v3.csv', sep =';')\n",
    "mapping.objectid = mapping.objectid.astype(str)\n",
    "merge2 = pd.merge(left = merge1, right = mapping[['objectid', 'refs']], on = 'objectid')"
   ]
  },
  {
   "cell_type": "code",
   "execution_count": 407,
   "metadata": {},
   "outputs": [],
   "source": [
    "# merge to election results\n",
    "election_result = pd.read_csv(cwd+'/scrape_geodata/data2019.csv')\n",
    "\n",
    "merge3 = pd.merge(left = merge2, right = election_result, on = 'refs')\n",
    "merge3.kommunekod = merge3.kommunekod.astype(int).astype(str)"
   ]
  },
  {
   "cell_type": "code",
   "execution_count": 409,
   "metadata": {},
   "outputs": [],
   "source": [
    "# merge to background vars on kommune level\n",
    "background = pd.read_csv('kom_background_vars2019.csv', index_col = 0)\n",
    "\n",
    "background.KOMKODE = background.KOMKODE.astype(str)\n",
    "background\n",
    "\n",
    "all_2019 = pd.merge(left = merge3, right = background, left_on = 'kommunekod', right_on = 'KOMKODE')\n",
    "\n",
    "# Not necessary, and the file is very big, but can be used as checkpoint\n",
    "# all_2019.to_csv('all_2019.csv')\n"
   ]
  },
  {
   "cell_type": "code",
   "execution_count": 411,
   "metadata": {},
   "outputs": [
    {
     "data": {
      "text/html": [
       "<div>\n",
       "<style scoped>\n",
       "    .dataframe tbody tr th:only-of-type {\n",
       "        vertical-align: middle;\n",
       "    }\n",
       "\n",
       "    .dataframe tbody tr th {\n",
       "        vertical-align: top;\n",
       "    }\n",
       "\n",
       "    .dataframe thead th {\n",
       "        text-align: right;\n",
       "    }\n",
       "</style>\n",
       "<table border=\"1\" class=\"dataframe\">\n",
       "  <thead>\n",
       "    <tr style=\"text-align: right;\">\n",
       "      <th></th>\n",
       "      <th>party</th>\n",
       "      <th>votes</th>\n",
       "    </tr>\n",
       "  </thead>\n",
       "  <tbody>\n",
       "    <tr>\n",
       "      <th>13222</th>\n",
       "      <td>Socialdemokratiet</td>\n",
       "      <td>1.659</td>\n",
       "    </tr>\n",
       "    <tr>\n",
       "      <th>13223</th>\n",
       "      <td>Radikale Venstre</td>\n",
       "      <td>547.000</td>\n",
       "    </tr>\n",
       "    <tr>\n",
       "      <th>13224</th>\n",
       "      <td>Det Konservative Folkeparti</td>\n",
       "      <td>365.000</td>\n",
       "    </tr>\n",
       "    <tr>\n",
       "      <th>13225</th>\n",
       "      <td>Nye Borgerlige</td>\n",
       "      <td>137.000</td>\n",
       "    </tr>\n",
       "    <tr>\n",
       "      <th>13226</th>\n",
       "      <td>Klaus Riskær Pedersen</td>\n",
       "      <td>51.000</td>\n",
       "    </tr>\n",
       "    <tr>\n",
       "      <th>13227</th>\n",
       "      <td>SF - Socialistisk Folkeparti</td>\n",
       "      <td>534.000</td>\n",
       "    </tr>\n",
       "    <tr>\n",
       "      <th>13228</th>\n",
       "      <td>Liberal Alliance</td>\n",
       "      <td>150.000</td>\n",
       "    </tr>\n",
       "    <tr>\n",
       "      <th>13229</th>\n",
       "      <td>Kristendemokraterne</td>\n",
       "      <td>103.000</td>\n",
       "    </tr>\n",
       "    <tr>\n",
       "      <th>13230</th>\n",
       "      <td>Dansk Folkeparti</td>\n",
       "      <td>457.000</td>\n",
       "    </tr>\n",
       "    <tr>\n",
       "      <th>13231</th>\n",
       "      <td>Stram Kurs</td>\n",
       "      <td>85.000</td>\n",
       "    </tr>\n",
       "    <tr>\n",
       "      <th>13232</th>\n",
       "      <td>Venstre, Danmarks Liberale Parti</td>\n",
       "      <td>1.450</td>\n",
       "    </tr>\n",
       "    <tr>\n",
       "      <th>13233</th>\n",
       "      <td>Enhedslisten - De Rød-Grønne</td>\n",
       "      <td>441.000</td>\n",
       "    </tr>\n",
       "    <tr>\n",
       "      <th>13234</th>\n",
       "      <td>Alternativet</td>\n",
       "      <td>227.000</td>\n",
       "    </tr>\n",
       "    <tr>\n",
       "      <th>13235</th>\n",
       "      <td>Chresten H. Ibsen</td>\n",
       "      <td>10.000</td>\n",
       "    </tr>\n",
       "    <tr>\n",
       "      <th>13236</th>\n",
       "      <td>Hans Schultz</td>\n",
       "      <td>0.000</td>\n",
       "    </tr>\n",
       "  </tbody>\n",
       "</table>\n",
       "</div>"
      ],
      "text/plain": [
       "                                  party    votes\n",
       "13222                 Socialdemokratiet    1.659\n",
       "13223                  Radikale Venstre  547.000\n",
       "13224       Det Konservative Folkeparti  365.000\n",
       "13225                    Nye Borgerlige  137.000\n",
       "13226             Klaus Riskær Pedersen   51.000\n",
       "13227      SF - Socialistisk Folkeparti  534.000\n",
       "13228                  Liberal Alliance  150.000\n",
       "13229               Kristendemokraterne  103.000\n",
       "13230                  Dansk Folkeparti  457.000\n",
       "13231                        Stram Kurs   85.000\n",
       "13232  Venstre, Danmarks Liberale Parti    1.450\n",
       "13233      Enhedslisten - De Rød-Grønne  441.000\n",
       "13234                      Alternativet  227.000\n",
       "13235                 Chresten H. Ibsen   10.000\n",
       "13236                      Hans Schultz    0.000"
      ]
     },
     "execution_count": 411,
     "metadata": {},
     "output_type": "execute_result"
    }
   ],
   "source": [
    "# all_2019 = pd.read_csv('all_2019.csv)\n",
    "all_2019.columns = all_2019.columns.str.lower()\n",
    "\n",
    "col_vars = ['objectid','navn_x', 'afstemni00','kommunekod', 'institutionsnummer', 'karakter', 'soc_ref', 'postnr', 'navn_y', 'institutionstype2', 'institutionstype3', 'year_x', 'salgspris', 'party', 'votes', 'eligible_count', 'blank', 'invalid', 'total_valid', 'total_casted', 'time_stamp', 'names', 'constituency', 'voting_area', 'municipality', 'disindk', 'kriminelitet', 'lavindk', 'skilsmisser', 'andel_indv']\n",
    "\n",
    "all_2019[all_2019['refs'] == 'F809746006.htm'][['party', 'votes']]"
   ]
  },
  {
   "cell_type": "code",
   "execution_count": 413,
   "metadata": {},
   "outputs": [],
   "source": [
    "temp_2019 = all_2019[col_vars]"
   ]
  },
  {
   "cell_type": "code",
   "execution_count": 415,
   "metadata": {},
   "outputs": [
    {
     "data": {
      "text/html": [
       "<div>\n",
       "<style scoped>\n",
       "    .dataframe tbody tr th:only-of-type {\n",
       "        vertical-align: middle;\n",
       "    }\n",
       "\n",
       "    .dataframe tbody tr th {\n",
       "        vertical-align: top;\n",
       "    }\n",
       "\n",
       "    .dataframe thead th {\n",
       "        text-align: right;\n",
       "    }\n",
       "</style>\n",
       "<table border=\"1\" class=\"dataframe\">\n",
       "  <thead>\n",
       "    <tr style=\"text-align: right;\">\n",
       "      <th></th>\n",
       "      <th>party</th>\n",
       "      <th>votes</th>\n",
       "    </tr>\n",
       "  </thead>\n",
       "  <tbody>\n",
       "    <tr>\n",
       "      <th>11895</th>\n",
       "      <td>Socialdemokratiet</td>\n",
       "      <td>1.555</td>\n",
       "    </tr>\n",
       "    <tr>\n",
       "      <th>11896</th>\n",
       "      <td>Radikale Venstre</td>\n",
       "      <td>1.099</td>\n",
       "    </tr>\n",
       "    <tr>\n",
       "      <th>11897</th>\n",
       "      <td>Det Konservative Folkeparti</td>\n",
       "      <td>494.000</td>\n",
       "    </tr>\n",
       "    <tr>\n",
       "      <th>11898</th>\n",
       "      <td>Nye Borgerlige</td>\n",
       "      <td>109.000</td>\n",
       "    </tr>\n",
       "    <tr>\n",
       "      <th>11899</th>\n",
       "      <td>Klaus Riskær Pedersen</td>\n",
       "      <td>85.000</td>\n",
       "    </tr>\n",
       "    <tr>\n",
       "      <th>11900</th>\n",
       "      <td>SF - Socialistisk Folkeparti</td>\n",
       "      <td>734.000</td>\n",
       "    </tr>\n",
       "    <tr>\n",
       "      <th>11901</th>\n",
       "      <td>Liberal Alliance</td>\n",
       "      <td>359.000</td>\n",
       "    </tr>\n",
       "    <tr>\n",
       "      <th>11902</th>\n",
       "      <td>Kristendemokraterne</td>\n",
       "      <td>90.000</td>\n",
       "    </tr>\n",
       "    <tr>\n",
       "      <th>11903</th>\n",
       "      <td>Dansk Folkeparti</td>\n",
       "      <td>270.000</td>\n",
       "    </tr>\n",
       "    <tr>\n",
       "      <th>11904</th>\n",
       "      <td>Stram Kurs</td>\n",
       "      <td>130.000</td>\n",
       "    </tr>\n",
       "    <tr>\n",
       "      <th>11905</th>\n",
       "      <td>Venstre, Danmarks Liberale Parti</td>\n",
       "      <td>1.612</td>\n",
       "    </tr>\n",
       "    <tr>\n",
       "      <th>11906</th>\n",
       "      <td>Enhedslisten - De Rød-Grønne</td>\n",
       "      <td>907.000</td>\n",
       "    </tr>\n",
       "    <tr>\n",
       "      <th>11907</th>\n",
       "      <td>Alternativet</td>\n",
       "      <td>534.000</td>\n",
       "    </tr>\n",
       "  </tbody>\n",
       "</table>\n",
       "</div>"
      ],
      "text/plain": [
       "                                  party    votes\n",
       "11895                 Socialdemokratiet    1.555\n",
       "11896                  Radikale Venstre    1.099\n",
       "11897       Det Konservative Folkeparti  494.000\n",
       "11898                    Nye Borgerlige  109.000\n",
       "11899             Klaus Riskær Pedersen   85.000\n",
       "11900      SF - Socialistisk Folkeparti  734.000\n",
       "11901                  Liberal Alliance  359.000\n",
       "11902               Kristendemokraterne   90.000\n",
       "11903                  Dansk Folkeparti  270.000\n",
       "11904                        Stram Kurs  130.000\n",
       "11905  Venstre, Danmarks Liberale Parti    1.612\n",
       "11906      Enhedslisten - De Rød-Grønne  907.000\n",
       "11907                      Alternativet  534.000"
      ]
     },
     "execution_count": 415,
     "metadata": {},
     "output_type": "execute_result"
    }
   ],
   "source": [
    "temp_2019[temp_2019['objectid'] == '1462182'][['party', 'votes']]\n",
    "# 1275543"
   ]
  },
  {
   "cell_type": "markdown",
   "metadata": {},
   "source": [
    "## Fix the absolute shitshow that is the vote count formatting"
   ]
  },
  {
   "cell_type": "code",
   "execution_count": 417,
   "metadata": {},
   "outputs": [],
   "source": [
    "# We are facing an issue with the formatting of the scraped data. Because of the separator '.', when we load the data, python thinks that every number larger than 1000 is actually decimal. We need to identify, which numbers need to be multiplied by 1000. To do this, we find modulus 1 for each vote count, and if this is different from 0, we should multiply the number by 1000. There is however one issue with this approach: If a party has received exactly 1000 (or 2000 or 3000 etc) votes at a polling place, our data reports the number of votes to be 1.0. Before making the conversion, we need to check if this is the case. At some smaller polling places, however, some parties may actually have received only 1 vote. To get around this, we first check manually for the maximum voting count by party, given that modulus 1 of the voting count is different from 0, to find the maximum number of votes for each party. Then, if the maximum voting count is, say, 4792, we check the KMD website, for each of the polling places, that report a voting count of 1, 2, 3 and 4. If any of these voting counts are actually 1000 etc., they will be multiplied by 1000. We do this for every praty, that have received more than 1000 votes at a single polling place. Then we identify observations with modulus 1 different from zero and multiply these by 1000. \n",
    "# There is a risk of missing some observations, in case the maximum voting count for a party is a multiple of 1000. In that case, we won't recognise the observation as one that should be multiplied by 1000. This is, however, unlikely enough for us to assume it won't be the case.\n",
    "# For the vote counts, that are constant within each polling place (such as total votes, number of eligible votes etc), we follow a slightly different procedure: First, we identify the lowest count among the polling places; any whole number below this must me multiplied by 1000. Luckily, all polling places have vote counts high enough for this to completely separate whole number counts that should and should not be multiplied. Afterwards, we multiply all vote counts with modulus 1 different from 0 by 1000.\n",
    "# When following this procedure and calculating voting shares based on the resulting vote counts, all shares sum to 1. This serves to indicate that no mistakes have happened during the calculations.\n",
    "\n",
    "# Ideally, when we scrape, we should store the data as strings, so we can delete the separators before converting them to ints. We should try and fix this, the next time we scrape. If not, this method should be our fall back.\n",
    "\n",
    "\n",
    "# max number of votes for A: 4.792  (4792) objectid 1306109\n",
    "# max number of votes for V: 4.556 (4556) objectid 1306030\n",
    "# max number of votes for B: 2.448 (2448) objectid 1306375\n",
    "# max number of votes for C: 3.218 (3218) objectid 1306109\n",
    "# max number of votes for D: no problem\n",
    "# max number of votes for E: no problem\n",
    "# max number of votes for F: 1.775 (1775) objectid 1306109\n",
    "# max number of votes for I: no problem\n",
    "# max number of votes for K: 1.114 (1114) objectid 1298885\n",
    "# max number of votes for O: 1.104 (1104) objectid 1289687\n",
    "# max number of votes for P: no problem\n",
    "# max number of votes for Ø: 2.608 (2608) objectid 1304839\n",
    "# måx number of votes for Å: 1.142 (1142)\n",
    "\n",
    "# Check for problem parties (manually on kmd) if any af the parties have received exactly 1000, 2000 etc votes.\n",
    "#  Limits:\n",
    "# Venstre and Socialdemokratiet: 5\n",
    "# Konservative: 4\n",
    "# Radikale Venstre, Enhedslisten: 3\n",
    "# SF, Kristendemokraterne, Dansk Folkeparti, Alternativet: 2\n",
    "\n",
    "# 40 observations have to be checked manually.\n",
    "# 3 observations are reporter as 1.0 or 2.0 but should be multiplied by 1000.\n",
    "\n",
    "# For other vote counts:\n",
    "# blank: not relevant (max 170 blank votes at one polling place)\n",
    "# invalid: not relevant (max 63 invalid votes at one polling place)\n",
    "# "
   ]
  },
  {
   "cell_type": "code",
   "execution_count": 419,
   "metadata": {},
   "outputs": [],
   "source": [
    "# Template for checking max number of votes:\n",
    "temp_2019[temp_2019['votes']%1 != 0][temp_2019['party'] == 'Socialdemokratiet'][['party','objectid','votes']].sort_values(by = 'votes')\n",
    "\n",
    "# Finding observations to check with kmd\n",
    "limit5 = ['Venstre, Danmarks Liberale Parti', 'Socialdemokratiet']\n",
    "limit4 = ['Det Konservative Folkeparti']\n",
    "limit3 = ['Radikale Venstre', 'Enhedslisten - De Rød-Grønne']\n",
    "limit2 = ['SF - Socialistisk Folkeparti', 'Kristendemokraterne', 'Dansk Folkeparti', 'Alternativet']\n",
    "\n",
    "limits = {5: limit5, 4: limit4, 3: limit3, 2:limit2}\n",
    "\n",
    "obs_to_check = []\n",
    "\n",
    "for limit, parties in limits.items():\n",
    "    for party in parties:\n",
    "        df = temp_2019[temp_2019['votes']<limit][temp_2019['party'] == party][temp_2019['votes']%1==0]\n",
    "        obs_to_check.append(df)\n",
    "\n",
    "check_df = pd.concat(obs_to_check)\n",
    "\n",
    "# To inspect and check with kmd\n",
    "check_df.sort_values(by = 'constituency')[['municipality','constituency', 'navn_x','party','votes']]\n",
    "obs_votes_1000 = [8198, 12558, 873] "
   ]
  },
  {
   "cell_type": "code",
   "execution_count": 421,
   "metadata": {},
   "outputs": [
    {
     "data": {
      "text/plain": [
       "8198     1000\n",
       "12558    1000\n",
       "873      1000\n",
       "Name: vote_multiplyer, dtype: int32"
      ]
     },
     "execution_count": 421,
     "metadata": {},
     "output_type": "execute_result"
    }
   ],
   "source": [
    "# For some reason i can't get pandas to update the votes inplace, so now i'm taking a detour..\n",
    "temp_2019['vote_multiplyer'] = np.where(temp_2019['votes']%1 != 0, 1000, 1)\n",
    "\n",
    "temp_2019.loc[obs_votes_1000,'vote_multiplyer'] = 1000\n",
    "temp_2019.loc[obs_votes_1000]['vote_multiplyer']"
   ]
  },
  {
   "cell_type": "code",
   "execution_count": 425,
   "metadata": {},
   "outputs": [
    {
     "data": {
      "text/plain": [
       "2608.0"
      ]
     },
     "execution_count": 425,
     "metadata": {},
     "output_type": "execute_result"
    }
   ],
   "source": [
    "temp_2019['votes_v2'] = temp_2019['votes']*temp_2019['vote_multiplyer']\n",
    "\n",
    "#eligible count, blank, invalid, total_valid, total_casted\n",
    "# repeat procedure for all these variables, maybe make function. Not sure that can be done without some semi dangerous assumptions... \n",
    "# will maybe fix eligible count, if i have time - if not, rely on plan a\n",
    "\n",
    "\n",
    "temp_2019[temp_2019['party'] == 'Enhedslisten - De Rød-Grønne']['votes_v2'].max()\n",
    "#temp_2019.to_csv('test.csv')"
   ]
  },
  {
   "cell_type": "code",
   "execution_count": 426,
   "metadata": {},
   "outputs": [],
   "source": [
    "left_parties = ['Socialdemokratiet', 'Radikale Venstre', 'SF - Socialistisk Folkeparti', 'Enhedslisten - De Rød-Grønne', 'Alternativet']\n",
    "right_parties = ['Det Konservative Folkeparti', 'Nye Borgerlige', 'Klaus Riskær Pedersen', 'Liberal Alliance', 'Kristendemokraterne', 'Dansk Folkeparti', 'Stram Kurs', 'Venstre, Danmarks Liberale Parti']\n",
    "\n",
    "left_dummy = [int(party in left_parties) for party in temp_2019['party']]\n",
    "right_dummy = [int(party in right_parties) for party in temp_2019['party']]\n",
    "independent_dummy = [int(party not in left_parties+right_parties) for party in temp_2019['party']]\n",
    "\n",
    "\n",
    "temp_2019['left_dummy'], temp_2019['right_dummy'], temp_2019['independent_dummy'] = left_dummy, right_dummy, independent_dummy\n",
    "\n",
    "temp_2019['left_votes'], temp_2019['right_votes'], temp_2019['independent_votes'] = left_dummy*temp_2019['votes_v2'], right_dummy*temp_2019['votes_v2'], independent_dummy*temp_2019['votes_v2']\n",
    "temp_2019.to_csv('test.csv')\n",
    "\n",
    "\n",
    "votes_df = temp_2019[['objectid', 'votes_v2', 'left_votes', 'right_votes', 'independent_votes']].groupby(by = 'objectid').sum()"
   ]
  },
  {
   "cell_type": "code",
   "execution_count": 427,
   "metadata": {},
   "outputs": [],
   "source": [
    "pre_merge = temp_2019.drop(['votes', 'votes_v2', 'left_votes', 'right_votes', 'independent_votes', 'left_dummy', 'right_dummy', 'independent_dummy', 'vote_multiplyer', 'party'], axis = 1)\n",
    "finalish_df = pd.merge(left = pre_merge, right = votes_df, on = 'objectid')\\\n",
    "            .drop_duplicates(subset = 'objectid')\\\n",
    "            .reset_index(drop = True)"
   ]
  },
  {
   "cell_type": "code",
   "execution_count": 428,
   "metadata": {
    "tags": []
   },
   "outputs": [],
   "source": [
    "# Fix eligible count, total casted, valid votes\n",
    "# limit of 4 works - every whole number lower than these has to be multiplyed by 1000 together with every non-whole number\n",
    "# Find lower limit:\n",
    "min_el = finalish_df['eligible_count'][finalish_df['eligible_count']%1 == 0][finalish_df['eligible_count']>4].min()\n",
    "min_tot = finalish_df['total_casted'][finalish_df['total_casted']%1 == 0][finalish_df['total_casted']>4].min()\n",
    "min_val = finalish_df['total_valid'][finalish_df['total_valid']%1==0][finalish_df['total_casted']>4].min()\n",
    "\n",
    "# Fix eligible count\n",
    "finalish_df['el_multiplyer'] = np.where(finalish_df['eligible_count']%1 != 0, 1000, 1)# higher than 1000\n",
    "el_index = list(finalish_df[finalish_df['eligible_count']%1==0][finalish_df['eligible_count']<min_el].index) \n",
    "finalish_df.loc[el_index, 'el_multiplyer'] = 1000 # multiples of 1000\n",
    "finalish_df['eligible_count_v2'] = finalish_df['eligible_count']*finalish_df['el_multiplyer'] # update\n",
    "\n",
    "# Fix total casted\n",
    "finalish_df['tot_multiplyer'] = np.where(finalish_df['total_casted']%1 != 0, 1000, 1) # higher than 1000\n",
    "tot_index = list(finalish_df[finalish_df['total_casted']%1==0][finalish_df['total_casted']<min_tot].index)\n",
    "finalish_df.loc[tot_index, 'tot_multiplyer'] = 1000 # multiples of 1000\n",
    "finalish_df['total_casted_v2'] = finalish_df['total_casted']*finalish_df['tot_multiplyer'] #update\n",
    "\n",
    "# Fix total valid\n",
    "finalish_df['val_multiplyer'] = np.where(finalish_df['total_valid']%1 != 0, 1000, 1) # higher than 1000\n",
    "val_index = list(finalish_df[finalish_df['total_valid']%1==0][finalish_df['total_valid']<min_val].index)\n",
    "finalish_df.loc[val_index, 'val_multiplyer'] = 1000 # multiples of 1000\n",
    "finalish_df['total_valid_v2'] = finalish_df['total_valid']*finalish_df['val_multiplyer']"
   ]
  },
  {
   "cell_type": "code",
   "execution_count": 429,
   "metadata": {},
   "outputs": [],
   "source": [
    "finalish_df.columns\n",
    "finalish_df['left_share'] = finalish_df['left_votes']/finalish_df['total_valid_v2']\n",
    "finalish_df['right_share'] = finalish_df['right_votes']/finalish_df['total_valid_v2']\n",
    "finalish_df['independent_share'] = finalish_df['independent_votes']/finalish_df['total_valid_v2']"
   ]
  },
  {
   "cell_type": "code",
   "execution_count": 434,
   "metadata": {},
   "outputs": [
    {
     "data": {
      "text/plain": [
       "count    1.383000e+03\n",
       "mean     1.000000e+00\n",
       "std      8.118549e-17\n",
       "min      1.000000e+00\n",
       "25%      1.000000e+00\n",
       "50%      1.000000e+00\n",
       "75%      1.000000e+00\n",
       "max      1.000000e+00\n",
       "dtype: float64"
      ]
     },
     "execution_count": 434,
     "metadata": {},
     "output_type": "execute_result"
    }
   ],
   "source": [
    "(finalish_df['left_share']+finalish_df['right_share']+finalish_df['independent_share']).describe() # AND THEY SUM UP TO ONE :DDDDD"
   ]
  },
  {
   "cell_type": "code",
   "execution_count": 431,
   "metadata": {},
   "outputs": [],
   "source": [
    "final_df = finalish_df[['objectid', 'afstemni00','navn_x', 'kommunekod', 'municipality', 'constituency','postnr', 'time_stamp', 'votes_v2', 'left_votes', 'right_votes', 'independent_votes', 'blank', 'invalid', 'left_share', 'right_share', 'independent_share', 'institutionsnummer', 'navn_y', 'institutionstype2', 'institutionstype3', 'karakter', 'soc_ref', 'salgspris', 'disindk', 'kriminelitet', 'lavindk','skilsmisser', 'andel_indv']]\n"
   ]
  },
  {
   "cell_type": "code",
   "execution_count": 432,
   "metadata": {},
   "outputs": [],
   "source": [
    "final_df = final_df.rename(columns = {'navn_x': 'afstem_navn2', 'afstemni00': 'afstem_navn1', 'soc_ref': 'karakter_soc_ref', 'navn_y': 'skole_navn', 'blank': 'blank_votes', 'invalid': 'invalid_votes', 'votes_v2': 'votes', 'municipality': 'kommunenavn', 'constituency': 'opst_kreds'})\n",
    "final_df.to_csv('final_data2019.csv')"
   ]
  },
  {
   "cell_type": "code",
   "execution_count": 433,
   "metadata": {},
   "outputs": [],
   "source": [
    "# Find centroids pr valgsted DONE\n",
    "# Find for hver centroid den nærmeste skole DONE\n",
    "# Lav column med institutionsnummer for nærmeste skole DONE\n",
    "# Merge valgdistrikter med skoledata på institutionsnummer DONE\n",
    "# Merge på mapping fil på objectid DONE\n",
    "# merge på valgresultater fra 2019 på refs DONE\n",
    "# split i kommune og postnnr DONE\n",
    "# ryd op i data - kollaps valgresultater\n",
    "# ryd op i kode\n",
    "# tilføj huspriser for kbhk"
   ]
  }
 ],
 "metadata": {
  "kernelspec": {
   "display_name": "Python 3",
   "language": "python",
   "name": "python3"
  },
  "language_info": {
   "codemirror_mode": {
    "name": "ipython",
    "version": 3
   },
   "file_extension": ".py",
   "mimetype": "text/x-python",
   "name": "python",
   "nbconvert_exporter": "python",
   "pygments_lexer": "ipython3",
   "version": "3.7.3"
  }
 },
 "nbformat": 4,
 "nbformat_minor": 2
}
