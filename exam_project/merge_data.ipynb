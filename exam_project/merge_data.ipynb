{
 "cells": [
  {
   "cell_type": "code",
   "execution_count": 1,
   "metadata": {
    "tags": []
   },
   "outputs": [],
   "source": [
    "import pandas as pd\n",
    "import numpy as np\n",
    "import os\n",
    "from shapely.geometry import Point, Polygon\n",
    "import geopandas as gpd\n",
    "from shapely.ops import nearest_points\n",
    "import pyproj\n",
    "\n",
    "\n",
    "cwd =os.getcwd()"
   ]
  },
  {
   "cell_type": "markdown",
   "metadata": {},
   "source": [
    "### Structure socioeconomic data by year"
   ]
  },
  {
   "cell_type": "code",
   "execution_count": 2,
   "metadata": {},
   "outputs": [],
   "source": [
    "socioeco_df = pd.read_excel(cwd+'/socioeconomic_data/socioeco_data.xlsx', sheet_name = 'Samlet')\n",
    "\n",
    "postnr_columns =['POSTNR', 'YEAR', 'KOMKODE', 'SALGSPRIS']\n",
    "kom_columns = ['KOMKODE', 'YEAR', 'DISINDK', 'KRIMINELITET', 'LAVINDK', 'SKILSMISSER', 'ANDEL_INDV']\n",
    "\n",
    "post_df = socioeco_df[postnr_columns]\n",
    "kom_df = socioeco_df[kom_columns]\n",
    "\n",
    "years = [2011, 2015, 2019]\n",
    "post_split = [post_df[post_df['YEAR'] == year] for year in years]\n",
    "kom_split = [kom_df[kom_df['YEAR'] == year] for year in years]"
   ]
  },
  {
   "cell_type": "markdown",
   "metadata": {},
   "source": [
    "### Merge school data and socioeconomic data by postal code and municipality"
   ]
  },
  {
   "cell_type": "code",
   "execution_count": 5,
   "metadata": {},
   "outputs": [
    {
     "data": {
      "text/html": [
       "<div>\n",
       "<style scoped>\n",
       "    .dataframe tbody tr th:only-of-type {\n",
       "        vertical-align: middle;\n",
       "    }\n",
       "\n",
       "    .dataframe tbody tr th {\n",
       "        vertical-align: top;\n",
       "    }\n",
       "\n",
       "    .dataframe thead th {\n",
       "        text-align: right;\n",
       "    }\n",
       "</style>\n",
       "<table border=\"1\" class=\"dataframe\">\n",
       "  <thead>\n",
       "    <tr style=\"text-align: right;\">\n",
       "      <th></th>\n",
       "      <th>institutionsnummer</th>\n",
       "      <th>Karakter</th>\n",
       "      <th>Soc_ref</th>\n",
       "      <th>beliggenhedskommunenr</th>\n",
       "      <th>lat</th>\n",
       "      <th>lon</th>\n",
       "      <th>postnr</th>\n",
       "      <th>navn</th>\n",
       "      <th>institutionstype2</th>\n",
       "      <th>institutionstype3</th>\n",
       "      <th>coordinates</th>\n",
       "    </tr>\n",
       "  </thead>\n",
       "  <tbody>\n",
       "    <tr>\n",
       "      <th>261</th>\n",
       "      <td>217002</td>\n",
       "      <td>7.4</td>\n",
       "      <td>7.4</td>\n",
       "      <td>217</td>\n",
       "      <td>56.072942</td>\n",
       "      <td>12.549154</td>\n",
       "      <td>3140</td>\n",
       "      <td>Hellebækskolen</td>\n",
       "      <td>Grundskoler</td>\n",
       "      <td>Folkeskoler</td>\n",
       "      <td>(56.072942047192605, 12.5491540138872)</td>\n",
       "    </tr>\n",
       "    <tr>\n",
       "      <th>262</th>\n",
       "      <td>217003</td>\n",
       "      <td>6.9</td>\n",
       "      <td>6.9</td>\n",
       "      <td>217</td>\n",
       "      <td>56.088125</td>\n",
       "      <td>12.459857</td>\n",
       "      <td>3100</td>\n",
       "      <td>Hornbæk Skole</td>\n",
       "      <td>Grundskoler</td>\n",
       "      <td>Folkeskoler</td>\n",
       "      <td>(56.088125, 12.459857000000001)</td>\n",
       "    </tr>\n",
       "    <tr>\n",
       "      <th>263</th>\n",
       "      <td>217010</td>\n",
       "      <td>7.1</td>\n",
       "      <td>6.9</td>\n",
       "      <td>217</td>\n",
       "      <td>56.021431</td>\n",
       "      <td>12.585940</td>\n",
       "      <td>3000</td>\n",
       "      <td>Skolen ved Rønnebær Allé</td>\n",
       "      <td>Grundskoler</td>\n",
       "      <td>Folkeskoler</td>\n",
       "      <td>(56.0214314542813, 12.585940057796199)</td>\n",
       "    </tr>\n",
       "    <tr>\n",
       "      <th>264</th>\n",
       "      <td>217013</td>\n",
       "      <td>7.6</td>\n",
       "      <td>7.8</td>\n",
       "      <td>217</td>\n",
       "      <td>55.988664</td>\n",
       "      <td>12.541219</td>\n",
       "      <td>3060</td>\n",
       "      <td>Tibberupskolen</td>\n",
       "      <td>Grundskoler</td>\n",
       "      <td>Folkeskoler</td>\n",
       "      <td>(55.9886637769372, 12.5412188697243)</td>\n",
       "    </tr>\n",
       "    <tr>\n",
       "      <th>265</th>\n",
       "      <td>217014</td>\n",
       "      <td>6.2</td>\n",
       "      <td>6.1</td>\n",
       "      <td>217</td>\n",
       "      <td>56.038261</td>\n",
       "      <td>12.572442</td>\n",
       "      <td>3000</td>\n",
       "      <td>Nordvestskolen</td>\n",
       "      <td>Grundskoler</td>\n",
       "      <td>Folkeskoler</td>\n",
       "      <td>(56.038260532281505, 12.5724415281519)</td>\n",
       "    </tr>\n",
       "    <tr>\n",
       "      <th>266</th>\n",
       "      <td>217024</td>\n",
       "      <td>6.5</td>\n",
       "      <td>7.0</td>\n",
       "      <td>217</td>\n",
       "      <td>56.038128</td>\n",
       "      <td>12.606816</td>\n",
       "      <td>3000</td>\n",
       "      <td>Byskolen</td>\n",
       "      <td>Grundskoler</td>\n",
       "      <td>Folkeskoler</td>\n",
       "      <td>(56.038128298821, 12.606816161884)</td>\n",
       "    </tr>\n",
       "    <tr>\n",
       "      <th>267</th>\n",
       "      <td>217029</td>\n",
       "      <td>6.1</td>\n",
       "      <td>6.1</td>\n",
       "      <td>217</td>\n",
       "      <td>56.022902</td>\n",
       "      <td>12.588954</td>\n",
       "      <td>3000</td>\n",
       "      <td>Al-Irchad Skolen</td>\n",
       "      <td>Grundskoler</td>\n",
       "      <td>Friskoler og private grundskoler</td>\n",
       "      <td>(56.0229023525076, 12.5889543184249)</td>\n",
       "    </tr>\n",
       "    <tr>\n",
       "      <th>365</th>\n",
       "      <td>280039</td>\n",
       "      <td>4.9</td>\n",
       "      <td>5.1</td>\n",
       "      <td>217</td>\n",
       "      <td>56.023053</td>\n",
       "      <td>12.561825</td>\n",
       "      <td>3000</td>\n",
       "      <td>Helsingør Privatskole</td>\n",
       "      <td>Grundskoler</td>\n",
       "      <td>Friskoler og private grundskoler</td>\n",
       "      <td>(56.0230526140208, 12.561824665572601)</td>\n",
       "    </tr>\n",
       "    <tr>\n",
       "      <th>448</th>\n",
       "      <td>280447</td>\n",
       "      <td>8.7</td>\n",
       "      <td>8.1</td>\n",
       "      <td>217</td>\n",
       "      <td>56.071169</td>\n",
       "      <td>12.553781</td>\n",
       "      <td>3150</td>\n",
       "      <td>Skorpeskolen</td>\n",
       "      <td>Grundskoler</td>\n",
       "      <td>Friskoler og private grundskoler</td>\n",
       "      <td>(56.07116919684071, 12.5537807908707)</td>\n",
       "    </tr>\n",
       "  </tbody>\n",
       "</table>\n",
       "</div>"
      ],
      "text/plain": [
       "     institutionsnummer  Karakter  Soc_ref  beliggenhedskommunenr        lat  \\\n",
       "261              217002       7.4      7.4                    217  56.072942   \n",
       "262              217003       6.9      6.9                    217  56.088125   \n",
       "263              217010       7.1      6.9                    217  56.021431   \n",
       "264              217013       7.6      7.8                    217  55.988664   \n",
       "265              217014       6.2      6.1                    217  56.038261   \n",
       "266              217024       6.5      7.0                    217  56.038128   \n",
       "267              217029       6.1      6.1                    217  56.022902   \n",
       "365              280039       4.9      5.1                    217  56.023053   \n",
       "448              280447       8.7      8.1                    217  56.071169   \n",
       "\n",
       "           lon  postnr                      navn institutionstype2  \\\n",
       "261  12.549154    3140            Hellebækskolen       Grundskoler   \n",
       "262  12.459857    3100             Hornbæk Skole       Grundskoler   \n",
       "263  12.585940    3000  Skolen ved Rønnebær Allé       Grundskoler   \n",
       "264  12.541219    3060            Tibberupskolen       Grundskoler   \n",
       "265  12.572442    3000            Nordvestskolen       Grundskoler   \n",
       "266  12.606816    3000                  Byskolen       Grundskoler   \n",
       "267  12.588954    3000          Al-Irchad Skolen       Grundskoler   \n",
       "365  12.561825    3000     Helsingør Privatskole       Grundskoler   \n",
       "448  12.553781    3150              Skorpeskolen       Grundskoler   \n",
       "\n",
       "                    institutionstype3                             coordinates  \n",
       "261                       Folkeskoler  (56.072942047192605, 12.5491540138872)  \n",
       "262                       Folkeskoler         (56.088125, 12.459857000000001)  \n",
       "263                       Folkeskoler  (56.0214314542813, 12.585940057796199)  \n",
       "264                       Folkeskoler    (55.9886637769372, 12.5412188697243)  \n",
       "265                       Folkeskoler  (56.038260532281505, 12.5724415281519)  \n",
       "266                       Folkeskoler      (56.038128298821, 12.606816161884)  \n",
       "267  Friskoler og private grundskoler    (56.0229023525076, 12.5889543184249)  \n",
       "365  Friskoler og private grundskoler  (56.0230526140208, 12.561824665572601)  \n",
       "448  Friskoler og private grundskoler   (56.07116919684071, 12.5537807908707)  "
      ]
     },
     "execution_count": 5,
     "metadata": {},
     "output_type": "execute_result"
    }
   ],
   "source": [
    "school_data[school_data['beliggenhedskommunenr'] == 217]"
   ]
  },
  {
   "cell_type": "code",
   "execution_count": 3,
   "metadata": {},
   "outputs": [],
   "source": [
    "df_list = []\n",
    "for data, year in zip(post_split, [2011, 2015, 2019]):\n",
    "    # load data\n",
    "    soc_data = data\n",
    "    school_data = pd.read_csv(cwd+f'/school_data/school_clean_{year-1}-{year}.csv', index_col=0)\n",
    "\n",
    "    # merge data\n",
    "    merged = pd.merge(left = school_data, right = soc_data, left_on = ['beliggenhedskommunenr', 'postnr'], right_on = ['KOMKODE', 'POSTNR'])\n",
    "\n",
    "    # format\n",
    "    merged.columns = merged.columns.str.lower()\n",
    "    merged = merged.T.drop_duplicates().T\n",
    "\n",
    "    merged.to_csv(f'postnr_background_vars{year}.csv')\n",
    "\n",
    "    df_list.append(merged)\n",
    "\n",
    "for data, year in zip(kom_split, [2011, 2015, 2019]):\n",
    "    data.drop_duplicates()\\\n",
    "        .to_csv(f'kom_background_vars{year}.csv')"
   ]
  },
  {
   "cell_type": "markdown",
   "metadata": {},
   "source": [
    "### Merge to closest school within same municipality"
   ]
  },
  {
   "cell_type": "code",
   "execution_count": 5,
   "metadata": {},
   "outputs": [
    {
     "name": "stderr",
     "output_type": "stream",
     "text": [
      "C:\\Users\\Gustav\\Anaconda3\\lib\\site-packages\\pyproj\\crs\\crs.py:53: FutureWarning: '+init=<authority>:<code>' syntax is deprecated. '<authority>:<code>' is the preferred initialization method. When making the change, be mindful of axis order changes: https://pyproj4.github.io/pyproj/stable/gotchas.html#axis-order-changes-in-proj-6\n",
      "  return _prepare_from_string(\" \".join(pjargs))\n"
     ]
    }
   ],
   "source": [
    "# Project geographical background variales from lat-lon to utm\n",
    "df = pd.read_csv('postnr_background_vars2019.csv', index_col=0)\n",
    "c = [Point(x, y) for x, y in zip(df['lon'], df['lat'])]\n",
    "gdf = gpd.GeoDataFrame(df, geometry = c)\n",
    "\n",
    "gdf.crs = {'init': 'epsg:4326'}\n",
    "gdf_utm = gdf.to_crs(epsg = 32632)\n",
    "\n",
    "# Narrow down to primary schools only\n",
    "gdf_utm = gdf_utm[gdf_utm['institutionstype2'] == 'Grundskoler']"
   ]
  },
  {
   "cell_type": "code",
   "execution_count": 255,
   "metadata": {},
   "outputs": [],
   "source": [
    "# Load election data and find centroid for every district\n",
    "valg_distrikt = gpd.read_file(cwd+'\\scrape_geodata\\geodata\\dagi_10m_nohist_l1.afstemningsomraade\\\\afstemningsomraade.shp', driver = 'ESRI Shapefile')\n",
    "valg_distrikt['centroid']=valg_distrikt['geometry'].centroid\n",
    "valg_geo = valg_distrikt.set_geometry('centroid')"
   ]
  },
  {
   "cell_type": "code",
   "execution_count": 256,
   "metadata": {},
   "outputs": [],
   "source": [
    "#schools_geo = gdf_utm.geometry.unary_union"
   ]
  },
  {
   "cell_type": "code",
   "execution_count": 257,
   "metadata": {},
   "outputs": [],
   "source": [
    "# Load municipality codes\n",
    "kom_koder = list(pd.read_excel(cwd+'/school_data/data_download/kom_koder.xls', usecols = 'G:H', header = 3).iloc[:,0])\n",
    "kom_koder.remove(411) # delete Christiansø"
   ]
  },
  {
   "cell_type": "code",
   "execution_count": 234,
   "metadata": {},
   "outputs": [],
   "source": []
  },
  {
   "cell_type": "code",
   "execution_count": 258,
   "metadata": {},
   "outputs": [],
   "source": [
    "# Split into list of backgrounddata and election data by municipality code\n",
    "kommune_split = [[gdf_utm[gdf_utm['beliggenhedskommunenr'] == kom_kode], valg_geo[valg_geo['kommunekod'].astype(int) == kom_kode]] for kom_kode in kom_koder]\n",
    "\n",
    "# For each municipality, find closest school to each polling place.\n",
    "def near(point, pts):\n",
    "    \"\"\"\n",
    "    Finds closest among pts to point and saves the relevant institutionsnr\n",
    "    \"\"\"\n",
    "    nearest = gdf_utm.geometry == nearest_points(point, pts)[1]\n",
    "    return gdf_utm[nearest]['institutionsnummer'].values[0]\n",
    "\n",
    "for gdf, valg_geo in kommune_split:\n",
    "    pts = gdf.geometry.unary_union\n",
    "    valg_geo['institutionsnummer'] = valg_geo.apply(lambda row: near(row.geometry, pts), axis = 1)\n",
    "\n",
    "# concat school data\n",
    "gdf_utm = pd.concat([kommune_split[i][0] for i in range(len(kommune_split))])\n",
    "\n",
    "# concat election data\n",
    "valg_geo = pd.concat([kommune_split[i][1] for i in range(len(kommune_split))])\n",
    "\n",
    "# merge election to school in 'intitutionsnummer\n",
    "merge1 = pd.merge(left=valg_geo, right = gdf_utm, on = 'institutionsnummer')"
   ]
  },
  {
   "cell_type": "code",
   "execution_count": 259,
   "metadata": {},
   "outputs": [],
   "source": [
    "# merge merge1 to mapping on 'objectid'\n",
    "mapping = pd.read_csv(cwd+'/scrape_geodata/mapping_geodata_v3.csv', sep =';')\n",
    "mapping.objectid = mapping.objectid.astype(str)\n",
    "merge2 = pd.merge(left = merge1, right = mapping[['objectid', 'refs']], on = 'objectid')"
   ]
  },
  {
   "cell_type": "code",
   "execution_count": 260,
   "metadata": {},
   "outputs": [],
   "source": [
    "# merge to election results\n",
    "election_result = pd.read_csv(cwd+'/scrape_geodata/data2019.csv')\n",
    "\n",
    "merge3 = pd.merge(left = merge2, right = election_result, on = 'refs')\n",
    "merge3.kommunekod = merge3.kommunekod.astype(int).astype(str)"
   ]
  },
  {
   "cell_type": "code",
   "execution_count": 261,
   "metadata": {},
   "outputs": [],
   "source": [
    "# merge to background vars on kommune level\n",
    "background = pd.read_csv('kom_background_vars2019.csv', index_col = 0)\n",
    "\n",
    "background.KOMKODE = background.KOMKODE.astype(str)\n",
    "background\n",
    "\n",
    "all_2019 = pd.merge(left = merge3, right = background, left_on = 'kommunekod', right_on = 'KOMKODE')\n",
    "\n",
    "# Not necessary, and the file is very big, but can be used as checkpoint\n",
    "# all_2019.to_csv('all_2019.csv')\n"
   ]
  },
  {
   "cell_type": "code",
   "execution_count": 262,
   "metadata": {},
   "outputs": [],
   "source": [
    "all_2019.columns = all_2019.columns.str.lower()\n",
    "col_vars = ['objectid','navn_x', 'afstemni00','kommunekod', 'institutionsnummer', 'karakter', 'soc_ref', 'postnr', 'navn_y', 'institutionstype2', 'institutionstype3', 'year_x', 'salgspris', 'party', 'votes', 'eligible_count', 'blank', 'invalid', 'total_valid', 'total_casted', 'time_stamp', 'names', 'constituency', 'voting_area', 'municipality', 'disindk', 'kriminelitet', 'lavindk', 'skilsmisser', 'andel_indv', 'geometry_x']\n",
    "\n",
    "temp_2019 = all_2019[col_vars]"
   ]
  },
  {
   "cell_type": "markdown",
   "metadata": {},
   "source": [
    "### Create variables for voting counts"
   ]
  },
  {
   "cell_type": "code",
   "execution_count": 263,
   "metadata": {},
   "outputs": [],
   "source": [
    "left_parties = ['Socialdemokratiet', 'Radikale Venstre', 'SF - Socialistisk Folkeparti', 'Enhedslisten - De Rød-Grønne', 'Alternativet']\n",
    "right_parties = ['Det Konservative Folkeparti', 'Nye Borgerlige', 'Klaus Riskær Pedersen', 'Liberal Alliance', 'Kristendemokraterne', 'Dansk Folkeparti', 'Stram Kurs', 'Venstre, Danmarks Liberale Parti']\n",
    "\n",
    "left_dummy = [int(party in left_parties) for party in temp_2019['party']]\n",
    "right_dummy = [int(party in right_parties) for party in temp_2019['party']]\n",
    "independent_dummy = [int(party not in left_parties+right_parties) for party in temp_2019['party']]\n",
    "\n",
    "temp_2019['left_dummy'], temp_2019['right_dummy'], temp_2019['independent_dummy'] = left_dummy, right_dummy, independent_dummy\n",
    "\n",
    "temp_2019['left_votes'], temp_2019['right_votes'], temp_2019['independent_votes'] = left_dummy*temp_2019['votes'], right_dummy*temp_2019['votes'], independent_dummy*temp_2019['votes']\n",
    "\n",
    "votes_df = temp_2019[['objectid', 'votes', 'left_votes', 'right_votes', 'independent_votes']].groupby(by = 'objectid').sum()\n",
    "\n",
    "pre_merge = temp_2019.drop(['votes','left_votes', 'right_votes', 'independent_votes', 'left_dummy', 'right_dummy', 'independent_dummy', 'party'], axis = 1)\n",
    "finalish_df = pd.merge(left = pre_merge, right = votes_df, on = 'objectid')\\\n",
    "            .drop_duplicates(subset = 'objectid')\\\n",
    "            .reset_index(drop = True)\n",
    "\n",
    "finalish_df['left_share'] = finalish_df['left_votes']/finalish_df['total_valid']\n",
    "finalish_df['right_share'] = finalish_df['right_votes']/finalish_df['total_valid']\n",
    "finalish_df['independent_share'] = finalish_df['independent_votes']/finalish_df['total_valid']"
   ]
  },
  {
   "cell_type": "code",
   "execution_count": 275,
   "metadata": {},
   "outputs": [],
   "source": [
    "final_gdf = gpd.GeoDataFrame(finalish_df[['objectid', 'afstemni00','navn_x', 'kommunekod', 'municipality', 'constituency','postnr', 'time_stamp', 'votes', 'eligible_count', 'total_casted', 'total_valid', 'left_votes', 'right_votes', 'independent_votes', 'blank', 'invalid', 'left_share', 'right_share', 'independent_share', 'institutionsnummer', 'navn_y', 'institutionstype2', 'institutionstype3', 'karakter', 'soc_ref', 'salgspris', 'disindk', 'kriminelitet', 'lavindk','skilsmisser', 'andel_indv', 'geometry_x']])\n",
    "\n",
    "final_gdf = final_gdf.rename(columns = {'navn_x': 'afstem_navn2', 'afstemni00': 'afstem_navn1', 'soc_ref': 'karakter_soc_ref', 'navn_y': 'skole_navn', 'blank': 'blank_votes', 'invalid': 'invalid_votes', 'votes': 'votes', 'municipality': 'kommunenavn', 'constituency': 'opst_kreds', 'geometry_x':'geometry'})\n",
    "\n",
    "final_gdf['area'] = final_gdf.geometry.area\n",
    "final_gdf['pop_density'] = final_gdf['eligible_count']/final_gdf['area']\n",
    "\n",
    "final_gdf.to_csv('final_data2019.csv', encoding = 'utf-8-sig')"
   ]
  },
  {
   "cell_type": "code",
   "execution_count": 277,
   "metadata": {
    "tags": []
   },
   "outputs": [
    {
     "data": {
      "text/plain": [
       "count    1383.000000\n",
       "mean        0.000736\n",
       "std         0.002065\n",
       "min         0.000003\n",
       "25%         0.000028\n",
       "50%         0.000067\n",
       "75%         0.000456\n",
       "max         0.024755\n",
       "Name: pop_density, dtype: float64"
      ]
     },
     "execution_count": 277,
     "metadata": {},
     "output_type": "execute_result"
    }
   ],
   "source": [
    "# nu skriver jeg en kommentar"
   ]
  }
 ],
 "metadata": {
  "kernelspec": {
   "display_name": "Python 3",
   "language": "python",
   "name": "python3"
  },
  "language_info": {
   "codemirror_mode": {
    "name": "ipython",
    "version": 3
   },
   "file_extension": ".py",
   "mimetype": "text/x-python",
   "name": "python",
   "nbconvert_exporter": "python",
   "pygments_lexer": "ipython3",
   "version": "3.7.3"
  }
 },
 "nbformat": 4,
 "nbformat_minor": 2
}
