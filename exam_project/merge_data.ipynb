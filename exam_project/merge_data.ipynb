{
 "metadata": {
  "language_info": {
   "codemirror_mode": {
    "name": "ipython",
    "version": 3
   },
   "file_extension": ".py",
   "mimetype": "text/x-python",
   "name": "python",
   "nbconvert_exporter": "python",
   "pygments_lexer": "ipython3",
   "version": "3.7.7-final"
  },
  "orig_nbformat": 2,
  "kernelspec": {
   "name": "python3",
   "display_name": "Python 3"
  }
 },
 "nbformat": 4,
 "nbformat_minor": 2,
 "cells": [
  {
   "cell_type": "code",
   "execution_count": 1,
   "metadata": {
    "tags": []
   },
   "outputs": [],
   "source": [
    "import pandas as pd\n",
    "import os\n",
    "\n",
    "cwd =os.getcwd()"
   ]
  },
  {
   "cell_type": "markdown",
   "metadata": {},
   "source": [
    "### Structure socioeconomic data by year"
   ]
  },
  {
   "cell_type": "code",
   "execution_count": 2,
   "metadata": {},
   "outputs": [],
   "source": [
    "socioeco_df = pd.read_excel(cwd+'/socioeconomic_data/socioeco_data.xlsx', sheet_name = 3)\n",
    "\n",
    "years = [2011, 2015, 2019]\n",
    "socec_split = [socioeco_df[socioeco_df['YEAR'] == year] for year in years]"
   ]
  },
  {
   "cell_type": "markdown",
   "metadata": {},
   "source": [
    "### Merge school data and socioeconomic data by postal code and kommune"
   ]
  },
  {
   "cell_type": "code",
   "execution_count": 3,
   "metadata": {},
   "outputs": [],
   "source": [
    "df_list = []\n",
    "for data, year in zip(socec_split, [2011, 2015, 2019]):\n",
    "    # load data\n",
    "    soc_data = data\n",
    "    school_data = pd.read_csv(cwd+f'/school_data/school_clean_{year-1}-{year}.csv', index_col=0)\n",
    "\n",
    "    # merge data\n",
    "    merged = pd.merge(left = school_data, right = soc_data, left_on = ['beliggenhedskommunenr', 'postnr'], right_on = ['KOMKODE', 'POSTNR'])\n",
    "\n",
    "    # format\n",
    "    merged.columns = merged.columns.str.lower()\n",
    "    merged = merged.T.drop_duplicates().T\n",
    "\n",
    "    merged.to_csv(f'background_vars{year}.csv')\n",
    "\n",
    "    df_list.append(merged)"
   ]
  },
  {
   "cell_type": "code",
   "execution_count": 4,
   "metadata": {},
   "outputs": [],
   "source": [
    "all_years = pd.concat(df_list)\n",
    "all_years.to_csv('background_all_years.csv')"
   ]
  }
 ]
}