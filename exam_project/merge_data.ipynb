{
 "metadata": {
  "language_info": {
   "codemirror_mode": {
    "name": "ipython",
    "version": 3
   },
   "file_extension": ".py",
   "mimetype": "text/x-python",
   "name": "python",
   "nbconvert_exporter": "python",
   "pygments_lexer": "ipython3",
   "version": "3.7.7-final"
  },
  "orig_nbformat": 2,
  "kernelspec": {
   "name": "python3",
   "display_name": "Python 3"
  }
 },
 "nbformat": 4,
 "nbformat_minor": 2,
 "cells": [
  {
   "cell_type": "code",
   "execution_count": 13,
   "metadata": {
    "tags": []
   },
   "outputs": [],
   "source": [
    "import pandas as pd\n",
    "import numpy as np\n",
    "import os\n",
    "from shapely.geometry import Point, Polygon\n",
    "import geopandas as gpd\n",
    "from shapely.ops import nearest_points\n",
    "import pyproj\n",
    "\n",
    "\n",
    "cwd =os.getcwd()"
   ]
  },
  {
   "cell_type": "markdown",
   "metadata": {},
   "source": [
    "### Structure socioeconomic data by year"
   ]
  },
  {
   "cell_type": "code",
   "execution_count": 14,
   "metadata": {},
   "outputs": [],
   "source": [
    "socioeco_df = pd.read_excel(cwd+'/socioeconomic_data/socioeco_data.xlsx', sheet_name = 'Samlet')\n",
    "\n",
    "postnr_columns =['POSTNR', 'YEAR', 'KOMKODE', 'SALGSPRIS']\n",
    "kom_columns = ['KOMKODE', 'YEAR', 'DISINDK', 'KRIMINELITET', 'LAVINDK', 'SKILSMISSER', 'ANDEL_INDV']\n",
    "\n",
    "post_df = socioeco_df[postnr_columns]\n",
    "kom_df = socioeco_df[kom_columns]\n",
    "\n",
    "years = [2011, 2015, 2019]\n",
    "post_split = [post_df[post_df['YEAR'] == year] for year in years]\n",
    "kom_split = [kom_df[kom_df['YEAR'] == year] for year in years]"
   ]
  },
  {
   "cell_type": "markdown",
   "metadata": {},
   "source": [
    "### Merge school data and socioeconomic data by postal code and municipality"
   ]
  },
  {
   "cell_type": "code",
   "execution_count": 15,
   "metadata": {},
   "outputs": [
    {
     "output_type": "error",
     "ename": "NameError",
     "evalue": "name 'school_data' is not defined",
     "traceback": [
      "\u001b[1;31m---------------------------------------------------------------------------\u001b[0m",
      "\u001b[1;31mNameError\u001b[0m                                 Traceback (most recent call last)",
      "\u001b[1;32m<ipython-input-15-c7ff8540c2dc>\u001b[0m in \u001b[0;36m<module>\u001b[1;34m\u001b[0m\n\u001b[1;32m----> 1\u001b[1;33m \u001b[0mschool_data\u001b[0m\u001b[1;33m[\u001b[0m\u001b[0mschool_data\u001b[0m\u001b[1;33m[\u001b[0m\u001b[1;34m'beliggenhedskommunenr'\u001b[0m\u001b[1;33m]\u001b[0m \u001b[1;33m==\u001b[0m \u001b[1;36m217\u001b[0m\u001b[1;33m]\u001b[0m\u001b[1;33m\u001b[0m\u001b[1;33m\u001b[0m\u001b[0m\n\u001b[0m",
      "\u001b[1;31mNameError\u001b[0m: name 'school_data' is not defined"
     ]
    }
   ],
   "source": [
    "#school_data[school_data['beliggenhedskommunenr'] == 217]"
   ]
  },
  {
   "cell_type": "code",
   "execution_count": 21,
   "metadata": {},
   "outputs": [],
   "source": [
    "df_list = []\n",
    "for data, year in zip(post_split, [2011, 2015, 2019]):\n",
    "    # load data\n",
    "    soc_data = data\n",
    "    school_data = pd.read_csv(cwd+f'/school_data/school_clean_{year-1}-{year}.csv', index_col=0)\n",
    "\n",
    "    # merge data\n",
    "    merged = pd.merge(left = school_data, right = soc_data, left_on = ['beliggenhedskommunenr', 'postnr'], right_on = ['KOMKODE', 'POSTNR'])\n",
    "\n",
    "    # format\n",
    "    merged.columns = merged.columns.str.lower()\n",
    "    merged = merged.T.drop_duplicates().T\n",
    "\n",
    "    merged.to_csv(f'postnr_background_vars{year}.csv')\n",
    "\n",
    "    df_list.append(merged)\n",
    "\n",
    "for data, year in zip(kom_split, [2011, 2015, 2019]):\n",
    "    data.drop_duplicates()\\\n",
    "        .to_csv(f'kom_background_vars{year}.csv')"
   ]
  },
  {
   "cell_type": "markdown",
   "metadata": {},
   "source": [
    "### Merge to closest school within same municipality (2019)"
   ]
  },
  {
   "cell_type": "code",
   "execution_count": 22,
   "metadata": {},
   "outputs": [],
   "source": [
    "# Project geographical background variales from lat-lon to utm\n",
    "df = pd.read_csv('postnr_background_vars2019.csv', index_col=0)\n",
    "c = [Point(x, y) for x, y in zip(df['lon'], df['lat'])]\n",
    "gdf = gpd.GeoDataFrame(df, geometry = c)\n",
    "\n",
    "gdf.crs = {'init': 'epsg:4326'}\n",
    "gdf_utm = gdf.to_crs(epsg = 32632)\n",
    "\n",
    "# Narrow down to primary schools only\n",
    "gdf_utm = gdf_utm[gdf_utm['institutionstype2'] == 'Grundskoler']"
   ]
  },
  {
   "cell_type": "code",
   "execution_count": 24,
   "metadata": {},
   "outputs": [],
   "source": [
    "# Load election data and find centroid for every district\n",
    "valg_distrikt = gpd.read_file(cwd+'\\scrape_geodata\\geodata\\dagi_10m_nohist_l1.afstemningsomraade\\\\afstemningsomraade.shp', driver = 'ESRI Shapefile')\n",
    "valg_distrikt['centroid']=valg_distrikt['geometry'].centroid\n",
    "valg_geo = valg_distrikt.set_geometry('centroid')"
   ]
  },
  {
   "cell_type": "code",
   "execution_count": 25,
   "metadata": {},
   "outputs": [],
   "source": [
    "# Load municipality codes\n",
    "kom_koder = list(pd.read_excel(cwd+'/school_data/data_download/kom_koder.xls', usecols = 'G:H', header = 3).iloc[:,0])\n",
    "kom_koder.remove(411) # delete Christiansø"
   ]
  },
  {
   "cell_type": "code",
   "execution_count": 26,
   "metadata": {},
   "outputs": [],
   "source": [
    "# Split into list of backgrounddata and election data by municipality code\n",
    "kommune_split = [[gdf_utm[gdf_utm['beliggenhedskommunenr'] == kom_kode], valg_geo[valg_geo['kommunekod'].astype(int) == kom_kode]] for kom_kode in kom_koder]\n",
    "\n",
    "# For each municipality, find closest school to each polling place.\n",
    "def near(point, pts):\n",
    "    \"\"\"\n",
    "    Finds closest among pts to point and saves the relevant institutionsnr\n",
    "    \"\"\"\n",
    "    nearest = gdf_utm.geometry == nearest_points(point, pts)[1]\n",
    "    return gdf_utm[nearest]['institutionsnummer'].values[0]\n",
    "\n",
    "for gdf, valg_geo in kommune_split:\n",
    "    pts = gdf.geometry.unary_union\n",
    "    valg_geo['institutionsnummer'] = valg_geo.apply(lambda row: near(row.geometry, pts), axis = 1)\n",
    "\n",
    "# concat school data\n",
    "gdf_utm = pd.concat([kommune_split[i][0] for i in range(len(kommune_split))])\n",
    "\n",
    "# concat election data\n",
    "valg_geo = pd.concat([kommune_split[i][1] for i in range(len(kommune_split))])\n",
    "\n",
    "# merge election to school in 'intitutionsnummer\n",
    "merge1 = pd.merge(left=valg_geo, right = gdf_utm, on = 'institutionsnummer')"
   ]
  },
  {
   "cell_type": "code",
   "execution_count": 7,
   "metadata": {},
   "outputs": [
    {
     "output_type": "error",
     "ename": "NameError",
     "evalue": "name 'merge1' is not defined",
     "traceback": [
      "\u001b[1;31m---------------------------------------------------------------------------\u001b[0m",
      "\u001b[1;31mNameError\u001b[0m                                 Traceback (most recent call last)",
      "\u001b[1;32m<ipython-input-7-cb8939f356aa>\u001b[0m in \u001b[0;36m<module>\u001b[1;34m\u001b[0m\n\u001b[0;32m      2\u001b[0m \u001b[0mmapping\u001b[0m \u001b[1;33m=\u001b[0m \u001b[0mpd\u001b[0m\u001b[1;33m.\u001b[0m\u001b[0mread_excel\u001b[0m\u001b[1;33m(\u001b[0m\u001b[0mcwd\u001b[0m\u001b[1;33m+\u001b[0m\u001b[1;34m'/scrape_geodata/mapping2019.xlsx'\u001b[0m\u001b[1;33m)\u001b[0m\u001b[1;33m\u001b[0m\u001b[1;33m\u001b[0m\u001b[0m\n\u001b[0;32m      3\u001b[0m \u001b[0mmapping\u001b[0m\u001b[1;33m.\u001b[0m\u001b[0mobjectid\u001b[0m \u001b[1;33m=\u001b[0m \u001b[0mmapping\u001b[0m\u001b[1;33m.\u001b[0m\u001b[0mobjectid\u001b[0m\u001b[1;33m.\u001b[0m\u001b[0mastype\u001b[0m\u001b[1;33m(\u001b[0m\u001b[0mstr\u001b[0m\u001b[1;33m)\u001b[0m\u001b[1;33m\u001b[0m\u001b[1;33m\u001b[0m\u001b[0m\n\u001b[1;32m----> 4\u001b[1;33m \u001b[0mmerge2\u001b[0m \u001b[1;33m=\u001b[0m \u001b[0mpd\u001b[0m\u001b[1;33m.\u001b[0m\u001b[0mmerge\u001b[0m\u001b[1;33m(\u001b[0m\u001b[0mleft\u001b[0m \u001b[1;33m=\u001b[0m \u001b[0mmerge1\u001b[0m\u001b[1;33m,\u001b[0m \u001b[0mright\u001b[0m \u001b[1;33m=\u001b[0m \u001b[0mmapping\u001b[0m\u001b[1;33m[\u001b[0m\u001b[1;33m[\u001b[0m\u001b[1;34m'objectid'\u001b[0m\u001b[1;33m,\u001b[0m \u001b[1;34m'refs'\u001b[0m\u001b[1;33m]\u001b[0m\u001b[1;33m]\u001b[0m\u001b[1;33m,\u001b[0m \u001b[0mon\u001b[0m \u001b[1;33m=\u001b[0m \u001b[1;34m'objectid'\u001b[0m\u001b[1;33m)\u001b[0m\u001b[1;33m\u001b[0m\u001b[1;33m\u001b[0m\u001b[0m\n\u001b[0m",
      "\u001b[1;31mNameError\u001b[0m: name 'merge1' is not defined"
     ]
    }
   ],
   "source": [
    "# merge merge1 to mapping on 'objectid'\n",
    "mapping = pd.read_excel(cwd+'/scrape_geodata/mapping2019.xlsx')\n",
    "mapping.objectid = mapping.objectid.astype(str)\n",
    "merge2 = pd.merge(left = merge1, right = mapping[['objectid', 'refs']], on = 'objectid')"
   ]
  },
  {
   "cell_type": "code",
   "execution_count": 8,
   "metadata": {},
   "outputs": [
    {
     "output_type": "error",
     "ename": "NameError",
     "evalue": "name 'merge2' is not defined",
     "traceback": [
      "\u001b[1;31m---------------------------------------------------------------------------\u001b[0m",
      "\u001b[1;31mNameError\u001b[0m                                 Traceback (most recent call last)",
      "\u001b[1;32m<ipython-input-8-a61aad761bc4>\u001b[0m in \u001b[0;36m<module>\u001b[1;34m\u001b[0m\n\u001b[0;32m      2\u001b[0m \u001b[0melection_result\u001b[0m \u001b[1;33m=\u001b[0m \u001b[0mpd\u001b[0m\u001b[1;33m.\u001b[0m\u001b[0mread_csv\u001b[0m\u001b[1;33m(\u001b[0m\u001b[0mcwd\u001b[0m\u001b[1;33m+\u001b[0m\u001b[1;34m'/scrape_geodata/data2019.csv'\u001b[0m\u001b[1;33m)\u001b[0m\u001b[1;33m\u001b[0m\u001b[1;33m\u001b[0m\u001b[0m\n\u001b[0;32m      3\u001b[0m \u001b[1;33m\u001b[0m\u001b[0m\n\u001b[1;32m----> 4\u001b[1;33m \u001b[0mmerge3\u001b[0m \u001b[1;33m=\u001b[0m \u001b[0mpd\u001b[0m\u001b[1;33m.\u001b[0m\u001b[0mmerge\u001b[0m\u001b[1;33m(\u001b[0m\u001b[0mleft\u001b[0m \u001b[1;33m=\u001b[0m \u001b[0mmerge2\u001b[0m\u001b[1;33m,\u001b[0m \u001b[0mright\u001b[0m \u001b[1;33m=\u001b[0m \u001b[0melection_result\u001b[0m\u001b[1;33m,\u001b[0m \u001b[0mon\u001b[0m \u001b[1;33m=\u001b[0m \u001b[1;34m'refs'\u001b[0m\u001b[1;33m)\u001b[0m\u001b[1;33m\u001b[0m\u001b[1;33m\u001b[0m\u001b[0m\n\u001b[0m\u001b[0;32m      5\u001b[0m \u001b[0mmerge3\u001b[0m\u001b[1;33m.\u001b[0m\u001b[0mkommunekod\u001b[0m \u001b[1;33m=\u001b[0m \u001b[0mmerge3\u001b[0m\u001b[1;33m.\u001b[0m\u001b[0mkommunekod\u001b[0m\u001b[1;33m.\u001b[0m\u001b[0mastype\u001b[0m\u001b[1;33m(\u001b[0m\u001b[0mint\u001b[0m\u001b[1;33m)\u001b[0m\u001b[1;33m.\u001b[0m\u001b[0mastype\u001b[0m\u001b[1;33m(\u001b[0m\u001b[0mstr\u001b[0m\u001b[1;33m)\u001b[0m\u001b[1;33m\u001b[0m\u001b[1;33m\u001b[0m\u001b[0m\n",
      "\u001b[1;31mNameError\u001b[0m: name 'merge2' is not defined"
     ]
    }
   ],
   "source": [
    "# merge to election results\n",
    "election_result = pd.read_csv(cwd+'/scrape_geodata/data2019.csv')\n",
    "\n",
    "merge3 = pd.merge(left = merge2, right = election_result, on = 'refs')\n",
    "merge3.kommunekod = merge3.kommunekod.astype(int).astype(str)"
   ]
  },
  {
   "cell_type": "code",
   "execution_count": 9,
   "metadata": {},
   "outputs": [
    {
     "output_type": "error",
     "ename": "NameError",
     "evalue": "name 'merge3' is not defined",
     "traceback": [
      "\u001b[1;31m---------------------------------------------------------------------------\u001b[0m",
      "\u001b[1;31mNameError\u001b[0m                                 Traceback (most recent call last)",
      "\u001b[1;32m<ipython-input-9-7970ae6a33b4>\u001b[0m in \u001b[0;36m<module>\u001b[1;34m\u001b[0m\n\u001b[0;32m      5\u001b[0m \u001b[0mbackground\u001b[0m\u001b[1;33m\u001b[0m\u001b[1;33m\u001b[0m\u001b[0m\n\u001b[0;32m      6\u001b[0m \u001b[1;33m\u001b[0m\u001b[0m\n\u001b[1;32m----> 7\u001b[1;33m \u001b[0mall_2019\u001b[0m \u001b[1;33m=\u001b[0m \u001b[0mpd\u001b[0m\u001b[1;33m.\u001b[0m\u001b[0mmerge\u001b[0m\u001b[1;33m(\u001b[0m\u001b[0mleft\u001b[0m \u001b[1;33m=\u001b[0m \u001b[0mmerge3\u001b[0m\u001b[1;33m,\u001b[0m \u001b[0mright\u001b[0m \u001b[1;33m=\u001b[0m \u001b[0mbackground\u001b[0m\u001b[1;33m,\u001b[0m \u001b[0mleft_on\u001b[0m \u001b[1;33m=\u001b[0m \u001b[1;34m'kommunekod'\u001b[0m\u001b[1;33m,\u001b[0m \u001b[0mright_on\u001b[0m \u001b[1;33m=\u001b[0m \u001b[1;34m'KOMKODE'\u001b[0m\u001b[1;33m)\u001b[0m\u001b[1;33m\u001b[0m\u001b[1;33m\u001b[0m\u001b[0m\n\u001b[0m\u001b[0;32m      8\u001b[0m \u001b[1;33m\u001b[0m\u001b[0m\n\u001b[0;32m      9\u001b[0m \u001b[1;31m# Not necessary, and the file is very big, but can be used as checkpoint\u001b[0m\u001b[1;33m\u001b[0m\u001b[1;33m\u001b[0m\u001b[1;33m\u001b[0m\u001b[0m\n",
      "\u001b[1;31mNameError\u001b[0m: name 'merge3' is not defined"
     ]
    }
   ],
   "source": [
    "# merge to background vars on kommune level\n",
    "background = pd.read_csv('kom_background_vars2019.csv', index_col = 0)\n",
    "\n",
    "background.KOMKODE = background.KOMKODE.astype(str)\n",
    "background\n",
    "\n",
    "all_2019 = pd.merge(left = merge3, right = background, left_on = 'kommunekod', right_on = 'KOMKODE')\n",
    "\n",
    "# Not necessary, and the file is very big, but can be used as checkpoint\n",
    "# all_2019.to_csv('all_2019.csv')\n"
   ]
  },
  {
   "cell_type": "code",
   "execution_count": 10,
   "metadata": {},
   "outputs": [
    {
     "output_type": "error",
     "ename": "NameError",
     "evalue": "name 'all_2019' is not defined",
     "traceback": [
      "\u001b[1;31m---------------------------------------------------------------------------\u001b[0m",
      "\u001b[1;31mNameError\u001b[0m                                 Traceback (most recent call last)",
      "\u001b[1;32m<ipython-input-10-9f08c200e646>\u001b[0m in \u001b[0;36m<module>\u001b[1;34m\u001b[0m\n\u001b[1;32m----> 1\u001b[1;33m \u001b[0mall_2019\u001b[0m\u001b[1;33m.\u001b[0m\u001b[0mcolumns\u001b[0m \u001b[1;33m=\u001b[0m \u001b[0mall_2019\u001b[0m\u001b[1;33m.\u001b[0m\u001b[0mcolumns\u001b[0m\u001b[1;33m.\u001b[0m\u001b[0mstr\u001b[0m\u001b[1;33m.\u001b[0m\u001b[0mlower\u001b[0m\u001b[1;33m(\u001b[0m\u001b[1;33m)\u001b[0m\u001b[1;33m\u001b[0m\u001b[1;33m\u001b[0m\u001b[0m\n\u001b[0m\u001b[0;32m      2\u001b[0m \u001b[0mcol_vars\u001b[0m \u001b[1;33m=\u001b[0m \u001b[1;33m[\u001b[0m\u001b[1;34m'objectid'\u001b[0m\u001b[1;33m,\u001b[0m\u001b[1;34m'navn_x'\u001b[0m\u001b[1;33m,\u001b[0m \u001b[1;34m'afstemni00'\u001b[0m\u001b[1;33m,\u001b[0m\u001b[1;34m'kommunekod'\u001b[0m\u001b[1;33m,\u001b[0m \u001b[1;34m'institutionsnummer'\u001b[0m\u001b[1;33m,\u001b[0m \u001b[1;34m'karakter'\u001b[0m\u001b[1;33m,\u001b[0m \u001b[1;34m'soc_ref'\u001b[0m\u001b[1;33m,\u001b[0m \u001b[1;34m'postnr'\u001b[0m\u001b[1;33m,\u001b[0m \u001b[1;34m'navn_y'\u001b[0m\u001b[1;33m,\u001b[0m \u001b[1;34m'institutionstype2'\u001b[0m\u001b[1;33m,\u001b[0m \u001b[1;34m'institutionstype3'\u001b[0m\u001b[1;33m,\u001b[0m \u001b[1;34m'year_x'\u001b[0m\u001b[1;33m,\u001b[0m \u001b[1;34m'salgspris'\u001b[0m\u001b[1;33m,\u001b[0m \u001b[1;34m'party'\u001b[0m\u001b[1;33m,\u001b[0m \u001b[1;34m'votes'\u001b[0m\u001b[1;33m,\u001b[0m \u001b[1;34m'eligible_count'\u001b[0m\u001b[1;33m,\u001b[0m \u001b[1;34m'blank'\u001b[0m\u001b[1;33m,\u001b[0m \u001b[1;34m'invalid'\u001b[0m\u001b[1;33m,\u001b[0m \u001b[1;34m'total_valid'\u001b[0m\u001b[1;33m,\u001b[0m \u001b[1;34m'total_casted'\u001b[0m\u001b[1;33m,\u001b[0m \u001b[1;34m'time_stamp'\u001b[0m\u001b[1;33m,\u001b[0m \u001b[1;34m'names'\u001b[0m\u001b[1;33m,\u001b[0m \u001b[1;34m'constituency'\u001b[0m\u001b[1;33m,\u001b[0m \u001b[1;34m'voting_area'\u001b[0m\u001b[1;33m,\u001b[0m \u001b[1;34m'municipality'\u001b[0m\u001b[1;33m,\u001b[0m \u001b[1;34m'disindk'\u001b[0m\u001b[1;33m,\u001b[0m \u001b[1;34m'kriminelitet'\u001b[0m\u001b[1;33m,\u001b[0m \u001b[1;34m'lavindk'\u001b[0m\u001b[1;33m,\u001b[0m \u001b[1;34m'skilsmisser'\u001b[0m\u001b[1;33m,\u001b[0m \u001b[1;34m'andel_indv'\u001b[0m\u001b[1;33m,\u001b[0m \u001b[1;34m'geometry_x'\u001b[0m\u001b[1;33m]\u001b[0m\u001b[1;33m\u001b[0m\u001b[1;33m\u001b[0m\u001b[0m\n\u001b[0;32m      3\u001b[0m \u001b[1;33m\u001b[0m\u001b[0m\n\u001b[0;32m      4\u001b[0m \u001b[0mtemp_2019\u001b[0m \u001b[1;33m=\u001b[0m \u001b[0mall_2019\u001b[0m\u001b[1;33m[\u001b[0m\u001b[0mcol_vars\u001b[0m\u001b[1;33m]\u001b[0m\u001b[1;33m\u001b[0m\u001b[1;33m\u001b[0m\u001b[0m\n",
      "\u001b[1;31mNameError\u001b[0m: name 'all_2019' is not defined"
     ]
    }
   ],
   "source": [
    "all_2019.columns = all_2019.columns.str.lower()\n",
    "col_vars = ['objectid','navn_x', 'afstemni00','kommunekod', 'institutionsnummer', 'karakter', 'soc_ref', 'postnr', 'navn_y', 'institutionstype2', 'institutionstype3', 'year_x', 'salgspris', 'party', 'votes', 'eligible_count', 'blank', 'invalid', 'total_valid', 'total_casted', 'time_stamp', 'names', 'constituency', 'voting_area', 'municipality', 'disindk', 'kriminelitet', 'lavindk', 'skilsmisser', 'andel_indv', 'geometry_x']\n",
    "\n",
    "temp_2019 = all_2019[col_vars]"
   ]
  },
  {
   "cell_type": "markdown",
   "metadata": {},
   "source": [
    "### Create variables for voting counts"
   ]
  },
  {
   "cell_type": "code",
   "execution_count": 11,
   "metadata": {},
   "outputs": [
    {
     "output_type": "error",
     "ename": "NameError",
     "evalue": "name 'temp_2019' is not defined",
     "traceback": [
      "\u001b[1;31m---------------------------------------------------------------------------\u001b[0m",
      "\u001b[1;31mNameError\u001b[0m                                 Traceback (most recent call last)",
      "\u001b[1;32m<ipython-input-11-f1dc810f09aa>\u001b[0m in \u001b[0;36m<module>\u001b[1;34m\u001b[0m\n\u001b[0;32m      2\u001b[0m \u001b[0mright_parties\u001b[0m \u001b[1;33m=\u001b[0m \u001b[1;33m[\u001b[0m\u001b[1;34m'Det Konservative Folkeparti'\u001b[0m\u001b[1;33m,\u001b[0m \u001b[1;34m'Nye Borgerlige'\u001b[0m\u001b[1;33m,\u001b[0m \u001b[1;34m'Klaus Riskær Pedersen'\u001b[0m\u001b[1;33m,\u001b[0m \u001b[1;34m'Liberal Alliance'\u001b[0m\u001b[1;33m,\u001b[0m \u001b[1;34m'Kristendemokraterne'\u001b[0m\u001b[1;33m,\u001b[0m \u001b[1;34m'Dansk Folkeparti'\u001b[0m\u001b[1;33m,\u001b[0m \u001b[1;34m'Stram Kurs'\u001b[0m\u001b[1;33m,\u001b[0m \u001b[1;34m'Venstre, Danmarks Liberale Parti'\u001b[0m\u001b[1;33m]\u001b[0m\u001b[1;33m\u001b[0m\u001b[1;33m\u001b[0m\u001b[0m\n\u001b[0;32m      3\u001b[0m \u001b[1;33m\u001b[0m\u001b[0m\n\u001b[1;32m----> 4\u001b[1;33m \u001b[0mleft_dummy\u001b[0m \u001b[1;33m=\u001b[0m \u001b[1;33m[\u001b[0m\u001b[0mint\u001b[0m\u001b[1;33m(\u001b[0m\u001b[0mparty\u001b[0m \u001b[1;32min\u001b[0m \u001b[0mleft_parties\u001b[0m\u001b[1;33m)\u001b[0m \u001b[1;32mfor\u001b[0m \u001b[0mparty\u001b[0m \u001b[1;32min\u001b[0m \u001b[0mtemp_2019\u001b[0m\u001b[1;33m[\u001b[0m\u001b[1;34m'party'\u001b[0m\u001b[1;33m]\u001b[0m\u001b[1;33m]\u001b[0m\u001b[1;33m\u001b[0m\u001b[1;33m\u001b[0m\u001b[0m\n\u001b[0m\u001b[0;32m      5\u001b[0m \u001b[0mright_dummy\u001b[0m \u001b[1;33m=\u001b[0m \u001b[1;33m[\u001b[0m\u001b[0mint\u001b[0m\u001b[1;33m(\u001b[0m\u001b[0mparty\u001b[0m \u001b[1;32min\u001b[0m \u001b[0mright_parties\u001b[0m\u001b[1;33m)\u001b[0m \u001b[1;32mfor\u001b[0m \u001b[0mparty\u001b[0m \u001b[1;32min\u001b[0m \u001b[0mtemp_2019\u001b[0m\u001b[1;33m[\u001b[0m\u001b[1;34m'party'\u001b[0m\u001b[1;33m]\u001b[0m\u001b[1;33m]\u001b[0m\u001b[1;33m\u001b[0m\u001b[1;33m\u001b[0m\u001b[0m\n\u001b[0;32m      6\u001b[0m \u001b[0mindependent_dummy\u001b[0m \u001b[1;33m=\u001b[0m \u001b[1;33m[\u001b[0m\u001b[0mint\u001b[0m\u001b[1;33m(\u001b[0m\u001b[0mparty\u001b[0m \u001b[1;32mnot\u001b[0m \u001b[1;32min\u001b[0m \u001b[0mleft_parties\u001b[0m\u001b[1;33m+\u001b[0m\u001b[0mright_parties\u001b[0m\u001b[1;33m)\u001b[0m \u001b[1;32mfor\u001b[0m \u001b[0mparty\u001b[0m \u001b[1;32min\u001b[0m \u001b[0mtemp_2019\u001b[0m\u001b[1;33m[\u001b[0m\u001b[1;34m'party'\u001b[0m\u001b[1;33m]\u001b[0m\u001b[1;33m]\u001b[0m\u001b[1;33m\u001b[0m\u001b[1;33m\u001b[0m\u001b[0m\n",
      "\u001b[1;31mNameError\u001b[0m: name 'temp_2019' is not defined"
     ]
    }
   ],
   "source": [
    "left_parties = ['Socialdemokratiet', 'Radikale Venstre', 'SF - Socialistisk Folkeparti', 'Enhedslisten - De Rød-Grønne', 'Alternativet']\n",
    "right_parties = ['Det Konservative Folkeparti', 'Nye Borgerlige', 'Klaus Riskær Pedersen', 'Liberal Alliance', 'Kristendemokraterne', 'Dansk Folkeparti', 'Stram Kurs', 'Venstre, Danmarks Liberale Parti']\n",
    "\n",
    "left_dummy = [int(party in left_parties) for party in temp_2019['party']]\n",
    "right_dummy = [int(party in right_parties) for party in temp_2019['party']]\n",
    "independent_dummy = [int(party not in left_parties+right_parties) for party in temp_2019['party']]\n",
    "\n",
    "temp_2019['left_dummy'], temp_2019['right_dummy'], temp_2019['independent_dummy'] = left_dummy, right_dummy, independent_dummy\n",
    "\n",
    "temp_2019['left_votes'], temp_2019['right_votes'], temp_2019['independent_votes'] = left_dummy*temp_2019['votes'], right_dummy*temp_2019['votes'], independent_dummy*temp_2019['votes']\n",
    "\n",
    "votes_df = temp_2019[['objectid', 'votes', 'left_votes', 'right_votes', 'independent_votes']].groupby(by = 'objectid').sum()\n",
    "\n",
    "pre_merge = temp_2019.drop(['votes','left_votes', 'right_votes', 'independent_votes', 'left_dummy', 'right_dummy', 'independent_dummy', 'party'], axis = 1)\n",
    "finalish_df = pd.merge(left = pre_merge, right = votes_df, on = 'objectid')\\\n",
    "            .drop_duplicates(subset = 'objectid')\\\n",
    "            .reset_index(drop = True)\n",
    "\n",
    "finalish_df['left_share'] = finalish_df['left_votes']/finalish_df['total_valid']\n",
    "finalish_df['right_share'] = finalish_df['right_votes']/finalish_df['total_valid']\n",
    "finalish_df['independent_share'] = finalish_df['independent_votes']/finalish_df['total_valid']"
   ]
  },
  {
   "cell_type": "code",
   "execution_count": 12,
   "metadata": {},
   "outputs": [
    {
     "output_type": "error",
     "ename": "NameError",
     "evalue": "name 'finalish_df' is not defined",
     "traceback": [
      "\u001b[1;31m---------------------------------------------------------------------------\u001b[0m",
      "\u001b[1;31mNameError\u001b[0m                                 Traceback (most recent call last)",
      "\u001b[1;32m<ipython-input-12-d3581bde5915>\u001b[0m in \u001b[0;36m<module>\u001b[1;34m\u001b[0m\n\u001b[1;32m----> 1\u001b[1;33m \u001b[0mfinal_gdf\u001b[0m \u001b[1;33m=\u001b[0m \u001b[0mgpd\u001b[0m\u001b[1;33m.\u001b[0m\u001b[0mGeoDataFrame\u001b[0m\u001b[1;33m(\u001b[0m\u001b[0mfinalish_df\u001b[0m\u001b[1;33m[\u001b[0m\u001b[1;33m[\u001b[0m\u001b[1;34m'objectid'\u001b[0m\u001b[1;33m,\u001b[0m \u001b[1;34m'afstemni00'\u001b[0m\u001b[1;33m,\u001b[0m\u001b[1;34m'navn_x'\u001b[0m\u001b[1;33m,\u001b[0m \u001b[1;34m'kommunekod'\u001b[0m\u001b[1;33m,\u001b[0m \u001b[1;34m'municipality'\u001b[0m\u001b[1;33m,\u001b[0m \u001b[1;34m'constituency'\u001b[0m\u001b[1;33m,\u001b[0m\u001b[1;34m'postnr'\u001b[0m\u001b[1;33m,\u001b[0m \u001b[1;34m'time_stamp'\u001b[0m\u001b[1;33m,\u001b[0m \u001b[1;34m'votes'\u001b[0m\u001b[1;33m,\u001b[0m \u001b[1;34m'eligible_count'\u001b[0m\u001b[1;33m,\u001b[0m \u001b[1;34m'total_casted'\u001b[0m\u001b[1;33m,\u001b[0m \u001b[1;34m'total_valid'\u001b[0m\u001b[1;33m,\u001b[0m \u001b[1;34m'left_votes'\u001b[0m\u001b[1;33m,\u001b[0m \u001b[1;34m'right_votes'\u001b[0m\u001b[1;33m,\u001b[0m \u001b[1;34m'independent_votes'\u001b[0m\u001b[1;33m,\u001b[0m \u001b[1;34m'blank'\u001b[0m\u001b[1;33m,\u001b[0m \u001b[1;34m'invalid'\u001b[0m\u001b[1;33m,\u001b[0m \u001b[1;34m'left_share'\u001b[0m\u001b[1;33m,\u001b[0m \u001b[1;34m'right_share'\u001b[0m\u001b[1;33m,\u001b[0m \u001b[1;34m'independent_share'\u001b[0m\u001b[1;33m,\u001b[0m \u001b[1;34m'institutionsnummer'\u001b[0m\u001b[1;33m,\u001b[0m \u001b[1;34m'navn_y'\u001b[0m\u001b[1;33m,\u001b[0m \u001b[1;34m'institutionstype2'\u001b[0m\u001b[1;33m,\u001b[0m \u001b[1;34m'institutionstype3'\u001b[0m\u001b[1;33m,\u001b[0m \u001b[1;34m'karakter'\u001b[0m\u001b[1;33m,\u001b[0m \u001b[1;34m'soc_ref'\u001b[0m\u001b[1;33m,\u001b[0m \u001b[1;34m'salgspris'\u001b[0m\u001b[1;33m,\u001b[0m \u001b[1;34m'disindk'\u001b[0m\u001b[1;33m,\u001b[0m \u001b[1;34m'kriminelitet'\u001b[0m\u001b[1;33m,\u001b[0m \u001b[1;34m'lavindk'\u001b[0m\u001b[1;33m,\u001b[0m\u001b[1;34m'skilsmisser'\u001b[0m\u001b[1;33m,\u001b[0m \u001b[1;34m'andel_indv'\u001b[0m\u001b[1;33m,\u001b[0m \u001b[1;34m'geometry_x'\u001b[0m\u001b[1;33m]\u001b[0m\u001b[1;33m]\u001b[0m\u001b[1;33m)\u001b[0m\u001b[1;33m\u001b[0m\u001b[1;33m\u001b[0m\u001b[0m\n\u001b[0m\u001b[0;32m      2\u001b[0m \u001b[1;33m\u001b[0m\u001b[0m\n\u001b[0;32m      3\u001b[0m \u001b[0mfinal_gdf\u001b[0m \u001b[1;33m=\u001b[0m \u001b[0mfinal_gdf\u001b[0m\u001b[1;33m.\u001b[0m\u001b[0mrename\u001b[0m\u001b[1;33m(\u001b[0m\u001b[0mcolumns\u001b[0m \u001b[1;33m=\u001b[0m \u001b[1;33m{\u001b[0m\u001b[1;34m'navn_x'\u001b[0m\u001b[1;33m:\u001b[0m \u001b[1;34m'afstem_navn2'\u001b[0m\u001b[1;33m,\u001b[0m \u001b[1;34m'afstemni00'\u001b[0m\u001b[1;33m:\u001b[0m \u001b[1;34m'afstem_navn1'\u001b[0m\u001b[1;33m,\u001b[0m \u001b[1;34m'soc_ref'\u001b[0m\u001b[1;33m:\u001b[0m \u001b[1;34m'karakter_soc_ref'\u001b[0m\u001b[1;33m,\u001b[0m \u001b[1;34m'navn_y'\u001b[0m\u001b[1;33m:\u001b[0m \u001b[1;34m'skole_navn'\u001b[0m\u001b[1;33m,\u001b[0m \u001b[1;34m'blank'\u001b[0m\u001b[1;33m:\u001b[0m \u001b[1;34m'blank_votes'\u001b[0m\u001b[1;33m,\u001b[0m \u001b[1;34m'invalid'\u001b[0m\u001b[1;33m:\u001b[0m \u001b[1;34m'invalid_votes'\u001b[0m\u001b[1;33m,\u001b[0m \u001b[1;34m'votes'\u001b[0m\u001b[1;33m:\u001b[0m \u001b[1;34m'votes'\u001b[0m\u001b[1;33m,\u001b[0m \u001b[1;34m'municipality'\u001b[0m\u001b[1;33m:\u001b[0m \u001b[1;34m'kommunenavn'\u001b[0m\u001b[1;33m,\u001b[0m \u001b[1;34m'constituency'\u001b[0m\u001b[1;33m:\u001b[0m \u001b[1;34m'opst_kreds'\u001b[0m\u001b[1;33m,\u001b[0m \u001b[1;34m'geometry_x'\u001b[0m\u001b[1;33m:\u001b[0m\u001b[1;34m'geometry'\u001b[0m\u001b[1;33m}\u001b[0m\u001b[1;33m)\u001b[0m\u001b[1;33m\u001b[0m\u001b[1;33m\u001b[0m\u001b[0m\n\u001b[0;32m      4\u001b[0m \u001b[1;33m\u001b[0m\u001b[0m\n\u001b[0;32m      5\u001b[0m \u001b[0mfinal_gdf\u001b[0m\u001b[1;33m[\u001b[0m\u001b[1;34m'area'\u001b[0m\u001b[1;33m]\u001b[0m \u001b[1;33m=\u001b[0m \u001b[0mfinal_gdf\u001b[0m\u001b[1;33m.\u001b[0m\u001b[0mgeometry\u001b[0m\u001b[1;33m.\u001b[0m\u001b[0marea\u001b[0m\u001b[1;33m\u001b[0m\u001b[1;33m\u001b[0m\u001b[0m\n",
      "\u001b[1;31mNameError\u001b[0m: name 'finalish_df' is not defined"
     ]
    }
   ],
   "source": [
    "final_gdf = gpd.GeoDataFrame(finalish_df[['objectid', 'afstemni00','navn_x', 'kommunekod', 'municipality', 'constituency','postnr', 'time_stamp', 'votes', 'eligible_count', 'total_casted', 'total_valid', 'left_votes', 'right_votes', 'independent_votes', 'blank', 'invalid', 'left_share', 'right_share', 'independent_share', 'institutionsnummer', 'navn_y', 'institutionstype2', 'institutionstype3', 'karakter', 'soc_ref', 'salgspris', 'disindk', 'kriminelitet', 'lavindk','skilsmisser', 'andel_indv', 'geometry_x']])\n",
    "\n",
    "final_gdf = final_gdf.rename(columns = {'navn_x': 'afstem_navn2', 'afstemni00': 'afstem_navn1', 'soc_ref': 'karakter_soc_ref', 'navn_y': 'skole_navn', 'blank': 'blank_votes', 'invalid': 'invalid_votes', 'votes': 'votes', 'municipality': 'kommunenavn', 'constituency': 'opst_kreds', 'geometry_x':'geometry'})\n",
    "\n",
    "final_gdf['area'] = final_gdf.geometry.area\n",
    "final_gdf['pop_density'] = final_gdf['eligible_count']/final_gdf['area']\n",
    "\n",
    "final_gdf.to_csv('final_data2019.csv', encoding = 'utf-8-sig')"
   ]
  }
 ]
}