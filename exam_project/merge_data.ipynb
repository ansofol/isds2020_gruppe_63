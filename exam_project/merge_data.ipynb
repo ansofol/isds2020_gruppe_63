{
 "metadata": {
  "language_info": {
   "codemirror_mode": {
    "name": "ipython",
    "version": 3
   },
   "file_extension": ".py",
   "mimetype": "text/x-python",
   "name": "python",
   "nbconvert_exporter": "python",
   "pygments_lexer": "ipython3",
   "version": "3.7.7-final"
  },
  "orig_nbformat": 2,
  "kernelspec": {
   "name": "python3",
   "display_name": "Python 3"
  }
 },
 "nbformat": 4,
 "nbformat_minor": 2,
 "cells": [
  {
   "cell_type": "code",
   "execution_count": 51,
   "metadata": {
    "tags": []
   },
   "outputs": [],
   "source": [
    "import pandas as pd\n",
    "import numpy as np\n",
    "import os\n",
    "from shapely.geometry import Point, Polygon\n",
    "\n",
    "cwd =os.getcwd()"
   ]
  },
  {
   "cell_type": "markdown",
   "metadata": {},
   "source": [
    "### Structure socioeconomic data by year"
   ]
  },
  {
   "cell_type": "code",
   "execution_count": 42,
   "metadata": {},
   "outputs": [
    {
     "output_type": "execute_result",
     "data": {
      "text/plain": "      POSTNR     POSTNAVN  KOMKODE                KOMNAVN  YEAR     SALGSPRIS  \\\n0       1000  København K      101     Københavns Kommune  2011  23794.750000   \n1       1050  København K      101     Københavns Kommune  2011  23794.750000   \n2       1051  København K      101     Københavns Kommune  2011  23794.750000   \n3       1052  København K      101     Københavns Kommune  2011  23794.750000   \n4       1053  København K      101     Københavns Kommune  2011  23794.750000   \n...      ...          ...      ...                    ...   ...           ...   \n4259    9970     Strandby      813  Frederikshavn Kommune  2019   6252.666667   \n4260    9981        Jerup      813  Frederikshavn Kommune  2019   8695.750000   \n4261    9982        Ålbæk      813  Frederikshavn Kommune  2019   6225.000000   \n4262    9982        Ålbæk      860       Hjørring Kommune  2019   6225.000000   \n4263    9990       Skagen      813  Frederikshavn Kommune  2019  16241.750000   \n\n      DISINDK  LANGLEDIG  KRIMINELITET  LAVINDK  SKILSMISSER  ANDEL_INDV  \n0      189182   1.966667           4.8     36.7         21.8   14.729180  \n1      189182   1.966667           4.8     36.7         21.8   14.729180  \n2      189182   1.966667           4.8     36.7         21.8   14.729180  \n3      189182   1.966667           4.8     36.7         21.8   14.729180  \n4      189182   1.966667           4.8     36.7         21.8   14.729180  \n...       ...        ...           ...      ...          ...         ...  \n4259   214560   0.650000           4.2     19.2         12.9    4.298998  \n4260   214560   0.650000           4.2     19.2         12.9    4.298998  \n4261   214560   0.650000           4.2     19.2         12.9    4.298998  \n4262   217772   0.483333           4.2     20.5         11.4    5.103595  \n4263   214560   0.650000           4.2     19.2         12.9    4.298998  \n\n[4264 rows x 12 columns]",
      "text/html": "<div>\n<style scoped>\n    .dataframe tbody tr th:only-of-type {\n        vertical-align: middle;\n    }\n\n    .dataframe tbody tr th {\n        vertical-align: top;\n    }\n\n    .dataframe thead th {\n        text-align: right;\n    }\n</style>\n<table border=\"1\" class=\"dataframe\">\n  <thead>\n    <tr style=\"text-align: right;\">\n      <th></th>\n      <th>POSTNR</th>\n      <th>POSTNAVN</th>\n      <th>KOMKODE</th>\n      <th>KOMNAVN</th>\n      <th>YEAR</th>\n      <th>SALGSPRIS</th>\n      <th>DISINDK</th>\n      <th>LANGLEDIG</th>\n      <th>KRIMINELITET</th>\n      <th>LAVINDK</th>\n      <th>SKILSMISSER</th>\n      <th>ANDEL_INDV</th>\n    </tr>\n  </thead>\n  <tbody>\n    <tr>\n      <th>0</th>\n      <td>1000</td>\n      <td>København K</td>\n      <td>101</td>\n      <td>Københavns Kommune</td>\n      <td>2011</td>\n      <td>23794.750000</td>\n      <td>189182</td>\n      <td>1.966667</td>\n      <td>4.8</td>\n      <td>36.7</td>\n      <td>21.8</td>\n      <td>14.729180</td>\n    </tr>\n    <tr>\n      <th>1</th>\n      <td>1050</td>\n      <td>København K</td>\n      <td>101</td>\n      <td>Københavns Kommune</td>\n      <td>2011</td>\n      <td>23794.750000</td>\n      <td>189182</td>\n      <td>1.966667</td>\n      <td>4.8</td>\n      <td>36.7</td>\n      <td>21.8</td>\n      <td>14.729180</td>\n    </tr>\n    <tr>\n      <th>2</th>\n      <td>1051</td>\n      <td>København K</td>\n      <td>101</td>\n      <td>Københavns Kommune</td>\n      <td>2011</td>\n      <td>23794.750000</td>\n      <td>189182</td>\n      <td>1.966667</td>\n      <td>4.8</td>\n      <td>36.7</td>\n      <td>21.8</td>\n      <td>14.729180</td>\n    </tr>\n    <tr>\n      <th>3</th>\n      <td>1052</td>\n      <td>København K</td>\n      <td>101</td>\n      <td>Københavns Kommune</td>\n      <td>2011</td>\n      <td>23794.750000</td>\n      <td>189182</td>\n      <td>1.966667</td>\n      <td>4.8</td>\n      <td>36.7</td>\n      <td>21.8</td>\n      <td>14.729180</td>\n    </tr>\n    <tr>\n      <th>4</th>\n      <td>1053</td>\n      <td>København K</td>\n      <td>101</td>\n      <td>Københavns Kommune</td>\n      <td>2011</td>\n      <td>23794.750000</td>\n      <td>189182</td>\n      <td>1.966667</td>\n      <td>4.8</td>\n      <td>36.7</td>\n      <td>21.8</td>\n      <td>14.729180</td>\n    </tr>\n    <tr>\n      <th>...</th>\n      <td>...</td>\n      <td>...</td>\n      <td>...</td>\n      <td>...</td>\n      <td>...</td>\n      <td>...</td>\n      <td>...</td>\n      <td>...</td>\n      <td>...</td>\n      <td>...</td>\n      <td>...</td>\n      <td>...</td>\n    </tr>\n    <tr>\n      <th>4259</th>\n      <td>9970</td>\n      <td>Strandby</td>\n      <td>813</td>\n      <td>Frederikshavn Kommune</td>\n      <td>2019</td>\n      <td>6252.666667</td>\n      <td>214560</td>\n      <td>0.650000</td>\n      <td>4.2</td>\n      <td>19.2</td>\n      <td>12.9</td>\n      <td>4.298998</td>\n    </tr>\n    <tr>\n      <th>4260</th>\n      <td>9981</td>\n      <td>Jerup</td>\n      <td>813</td>\n      <td>Frederikshavn Kommune</td>\n      <td>2019</td>\n      <td>8695.750000</td>\n      <td>214560</td>\n      <td>0.650000</td>\n      <td>4.2</td>\n      <td>19.2</td>\n      <td>12.9</td>\n      <td>4.298998</td>\n    </tr>\n    <tr>\n      <th>4261</th>\n      <td>9982</td>\n      <td>Ålbæk</td>\n      <td>813</td>\n      <td>Frederikshavn Kommune</td>\n      <td>2019</td>\n      <td>6225.000000</td>\n      <td>214560</td>\n      <td>0.650000</td>\n      <td>4.2</td>\n      <td>19.2</td>\n      <td>12.9</td>\n      <td>4.298998</td>\n    </tr>\n    <tr>\n      <th>4262</th>\n      <td>9982</td>\n      <td>Ålbæk</td>\n      <td>860</td>\n      <td>Hjørring Kommune</td>\n      <td>2019</td>\n      <td>6225.000000</td>\n      <td>217772</td>\n      <td>0.483333</td>\n      <td>4.2</td>\n      <td>20.5</td>\n      <td>11.4</td>\n      <td>5.103595</td>\n    </tr>\n    <tr>\n      <th>4263</th>\n      <td>9990</td>\n      <td>Skagen</td>\n      <td>813</td>\n      <td>Frederikshavn Kommune</td>\n      <td>2019</td>\n      <td>16241.750000</td>\n      <td>214560</td>\n      <td>0.650000</td>\n      <td>4.2</td>\n      <td>19.2</td>\n      <td>12.9</td>\n      <td>4.298998</td>\n    </tr>\n  </tbody>\n</table>\n<p>4264 rows × 12 columns</p>\n</div>"
     },
     "metadata": {},
     "execution_count": 42
    }
   ],
   "source": [
    "socioeco_df"
   ]
  },
  {
   "cell_type": "code",
   "execution_count": 43,
   "metadata": {},
   "outputs": [],
   "source": [
    "socioeco_df = pd.read_excel(cwd+'/socioeconomic_data/socioeco_data.xlsx', sheet_name = 'Samlet')\n",
    "\n",
    "postnr_columns =['POSTNR', 'YEAR', 'KOMKODE', 'SALGSPRIS']\n",
    "kom_columns = ['KOMKODE', 'YEAR', 'DISINDK', 'KRIMINELITET', 'LAVINDK', 'SKILSMISSER', 'ANDEL_INDV']\n",
    "\n",
    "post_df = socioeco_df[postnr_columns]\n",
    "kom_df = socioeco_df[kom_columns]\n",
    "\n",
    "years = [2011, 2015, 2019]\n",
    "post_split = [post_df[post_df['YEAR'] == year] for year in years]\n",
    "kom_split = [kom_df[kom_df['YEAR'] == year] for year in years]"
   ]
  },
  {
   "cell_type": "code",
   "execution_count": 44,
   "metadata": {},
   "outputs": [
    {
     "output_type": "execute_result",
     "data": {
      "text/plain": "      POSTNR  YEAR  KOMKODE     SALGSPRIS\n2841    1000  2019      101  37082.250000\n2842    1050  2019      101  37082.250000\n2843    1051  2019      101  37082.250000\n2844    1052  2019      101  37082.250000\n2845    1053  2019      101  37082.250000\n...      ...   ...      ...           ...\n4259    9970  2019      813   6252.666667\n4260    9981  2019      813   8695.750000\n4261    9982  2019      813   6225.000000\n4262    9982  2019      860   6225.000000\n4263    9990  2019      813  16241.750000\n\n[1423 rows x 4 columns]",
      "text/html": "<div>\n<style scoped>\n    .dataframe tbody tr th:only-of-type {\n        vertical-align: middle;\n    }\n\n    .dataframe tbody tr th {\n        vertical-align: top;\n    }\n\n    .dataframe thead th {\n        text-align: right;\n    }\n</style>\n<table border=\"1\" class=\"dataframe\">\n  <thead>\n    <tr style=\"text-align: right;\">\n      <th></th>\n      <th>POSTNR</th>\n      <th>YEAR</th>\n      <th>KOMKODE</th>\n      <th>SALGSPRIS</th>\n    </tr>\n  </thead>\n  <tbody>\n    <tr>\n      <th>2841</th>\n      <td>1000</td>\n      <td>2019</td>\n      <td>101</td>\n      <td>37082.250000</td>\n    </tr>\n    <tr>\n      <th>2842</th>\n      <td>1050</td>\n      <td>2019</td>\n      <td>101</td>\n      <td>37082.250000</td>\n    </tr>\n    <tr>\n      <th>2843</th>\n      <td>1051</td>\n      <td>2019</td>\n      <td>101</td>\n      <td>37082.250000</td>\n    </tr>\n    <tr>\n      <th>2844</th>\n      <td>1052</td>\n      <td>2019</td>\n      <td>101</td>\n      <td>37082.250000</td>\n    </tr>\n    <tr>\n      <th>2845</th>\n      <td>1053</td>\n      <td>2019</td>\n      <td>101</td>\n      <td>37082.250000</td>\n    </tr>\n    <tr>\n      <th>...</th>\n      <td>...</td>\n      <td>...</td>\n      <td>...</td>\n      <td>...</td>\n    </tr>\n    <tr>\n      <th>4259</th>\n      <td>9970</td>\n      <td>2019</td>\n      <td>813</td>\n      <td>6252.666667</td>\n    </tr>\n    <tr>\n      <th>4260</th>\n      <td>9981</td>\n      <td>2019</td>\n      <td>813</td>\n      <td>8695.750000</td>\n    </tr>\n    <tr>\n      <th>4261</th>\n      <td>9982</td>\n      <td>2019</td>\n      <td>813</td>\n      <td>6225.000000</td>\n    </tr>\n    <tr>\n      <th>4262</th>\n      <td>9982</td>\n      <td>2019</td>\n      <td>860</td>\n      <td>6225.000000</td>\n    </tr>\n    <tr>\n      <th>4263</th>\n      <td>9990</td>\n      <td>2019</td>\n      <td>813</td>\n      <td>16241.750000</td>\n    </tr>\n  </tbody>\n</table>\n<p>1423 rows × 4 columns</p>\n</div>"
     },
     "metadata": {},
     "execution_count": 44
    }
   ],
   "source": [
    "post_split[2]"
   ]
  },
  {
   "cell_type": "markdown",
   "metadata": {},
   "source": [
    "### Merge school data and socioeconomic data by postal code and kommune"
   ]
  },
  {
   "cell_type": "code",
   "execution_count": 45,
   "metadata": {},
   "outputs": [],
   "source": [
    "df_list = []\n",
    "for data, year in zip(post_split, [2011, 2015, 2019]):\n",
    "    # load data\n",
    "    soc_data = data\n",
    "    school_data = pd.read_csv(cwd+f'/school_data/school_clean_{year-1}-{year}.csv', index_col=0)\n",
    "\n",
    "    # merge data\n",
    "    merged = pd.merge(left = school_data, right = soc_data, left_on = ['beliggenhedskommunenr', 'postnr'], right_on = ['KOMKODE', 'POSTNR'])\n",
    "\n",
    "    # format\n",
    "    merged.columns = merged.columns.str.lower()\n",
    "    merged = merged.T.drop_duplicates().T\n",
    "\n",
    "    merged.to_csv(f'postnr_background_vars{year}.csv')\n",
    "\n",
    "    df_list.append(merged)\n",
    "\n",
    "for data, year in zip(kom_split, [2011, 2015, 2019]):\n",
    "    data.drop_duplicates()\\\n",
    "        .to_csv(f'kom_background_vars{year}.csv')"
   ]
  },
  {
   "cell_type": "code",
   "execution_count": null,
   "metadata": {},
   "outputs": [],
   "source": []
  },
  {
   "cell_type": "code",
   "execution_count": null,
   "metadata": {},
   "outputs": [],
   "source": []
  },
  {
   "cell_type": "code",
   "execution_count": null,
   "metadata": {},
   "outputs": [],
   "source": []
  },
  {
   "cell_type": "code",
   "execution_count": 1,
   "metadata": {
    "tags": []
   },
   "outputs": [],
   "source": [
    "import pandas as pd\n",
    "import geopandas as gpd\n",
    "from shapely.geometry import Point\n",
    "from shapely.ops import nearest_points\n",
    "import pyproj\n"
   ]
  },
  {
   "cell_type": "code",
   "execution_count": 2,
   "metadata": {},
   "outputs": [],
   "source": [
    "# Well, that was horrible...\n",
    "# conda remove pyproj\n",
    "# pip install pyproj\n",
    "# conda install geopandas \n",
    "\n",
    "# Læs baggrundsvariable of oversæt til utm\n",
    "df = pd.read_csv('postnr_background_vars2019.csv', index_col=0)\n",
    "\n",
    "c = [Point(x, y) for x, y in zip(df['lon'], df['lat'])]\n",
    "gdf = gpd.GeoDataFrame(df, geometry = c)\n",
    "\n",
    "gdf.crs = {'init': 'epsg:4326'}\n",
    "gdf_utm = gdf.to_crs(epsg = 32632)\n",
    "\n",
    "# frasorter efterskoler (behold privat- og friskoler for at undgå for stort fald i antal observationer)\n",
    "gdf_utm = gdf_utm[gdf_utm['institutionstype2'] == 'Grundskoler']"
   ]
  },
  {
   "cell_type": "code",
   "execution_count": 5,
   "metadata": {},
   "outputs": [],
   "source": [
    "# Læs valgdistrikter og tilføj centroid\n",
    "valg_distrikt = gpd.read_file(cwd+'\\scrape_geodata\\geodata\\dagi_10m_nohist_l1.afstemningsomraade\\\\afstemningsomraade.shp', driver = 'ESRI Shapefile')\n",
    "valg_distrikt['centroid']=valg_distrikt['geometry'].centroid"
   ]
  },
  {
   "cell_type": "code",
   "execution_count": 6,
   "metadata": {},
   "outputs": [],
   "source": [
    "valg_geo = valg_distrikt.set_geometry('centroid')\n",
    "schools_geo = gdf_utm.geometry.unary_union"
   ]
  },
  {
   "cell_type": "code",
   "execution_count": 7,
   "metadata": {},
   "outputs": [],
   "source": [
    "# Find for hver centroid den nærmeste skole\n",
    "# For valg_distrikt['c½entroid'] find nærmeste gdf_utm['geometry'] ogtilføj tilhørende 'institutionsnummer'\n",
    "pts3 = gdf_utm.geometry.unary_union\n",
    "def near(point, pts = pts3):\n",
    "    nearest = gdf_utm.geometry == nearest_points(point, pts)[1]\n",
    "    return gdf_utm[nearest]['institutionsnummer'].values[0]\n",
    "    \n",
    "valg_geo['institutionsnummer'] = valg_geo.apply(lambda row: near(row.geometry), axis = 1)"
   ]
  },
  {
   "cell_type": "code",
   "execution_count": 51,
   "metadata": {
    "tags": []
   },
   "outputs": [
    {
     "output_type": "execute_result",
     "data": {
      "text/plain": "\"test_valg = valg_geo.iloc[0].centroid\\n\\nnearest = nearest_points(test_valg, schools_geo)[1]\\nprint(test_valg)\\nprint(nearest)\\ngdf_utm[gdf_utm['geometry'] == nearest]\""
     },
     "metadata": {},
     "execution_count": 51
    }
   ],
   "source": [
    "\"\"\"test_valg = valg_geo.iloc[0].centroid\n",
    "\n",
    "nearest = nearest_points(test_valg, schools_geo)[1]\n",
    "print(test_valg)\n",
    "print(nearest)\n",
    "gdf_utm[gdf_utm['geometry'] == nearest]\"\"\""
   ]
  },
  {
   "cell_type": "code",
   "execution_count": 8,
   "metadata": {},
   "outputs": [
    {
     "output_type": "execute_result",
     "data": {
      "text/plain": "Index(['objectid', 'id_lokalid', 'id_namespa', 'status', 'geometrist',\n       'virkningfr', 'virkningti', 'virkningsa', 'forretning', 'registreri',\n       'registre00', 'registre01', 'forretni00', 'forretni01', 'dagiid',\n       'navn_x', 'redigering', 'dataspecif', 'landekode', 'skala',\n       'afstemning', 'afstemni00', 'afstemni01', 'kommunekod', 'kommunelok',\n       'opstilling', 'opstilli00', 'udtraeksda', 'gmlid', 'geometry_x',\n       'centroid', 'institutionsnummer', 'karakter', 'soc_ref',\n       'beliggenhedskommunenr', 'lat', 'lon', 'postnr', 'navn_y',\n       'institutionstype2', 'institutionstype3', 'coordinates', 'year',\n       'salgspris', 'geometry_y'],\n      dtype='object')"
     },
     "metadata": {},
     "execution_count": 8
    }
   ],
   "source": [
    "# merge election to school in 'intitutionsnummer\n",
    "merge1 = pd.merge(left=valg_geo, right = gdf_utm, on = 'institutionsnummer')\n",
    "merge1.columns"
   ]
  },
  {
   "cell_type": "code",
   "execution_count": 9,
   "metadata": {},
   "outputs": [
    {
     "output_type": "execute_result",
     "data": {
      "text/plain": "     objectid id_lokalid               id_namespa    status geometrist  \\\n0     1285591     711178  http://data.gov.dk/dagi  vedtaget    endelig   \n1     1285619     711172  http://data.gov.dk/dagi  vedtaget    endelig   \n2     1285631     706536  http://data.gov.dk/dagi  vedtaget    endelig   \n3     1295999     706714  http://data.gov.dk/dagi  vedtaget    endelig   \n4     1285601     701882  http://data.gov.dk/dagi  vedtaget    endelig   \n...       ...        ...                      ...       ...        ...   \n1379  1303228     712204  http://data.gov.dk/dagi  vedtaget    endelig   \n1380  1306341     703948  http://data.gov.dk/dagi  vedtaget    endelig   \n1381  1306371     709972  http://data.gov.dk/dagi  vedtaget    endelig   \n1382  1306648     702938  http://data.gov.dk/dagi  vedtaget    endelig   \n1383  1306650     709534  http://data.gov.dk/dagi  vedtaget    endelig   \n\n          virkningfr virkningti        virkningsa            forretning  \\\n0     20181127000000       None             Andet      systemetablering   \n1     20181127000000       None             Andet      systemetablering   \n2     20181127000000       None             Andet      systemetablering   \n3     20190429000000       None             Andet      systemetablering   \n4     20181127000000       None             Andet      systemetablering   \n...              ...        ...               ...                   ...   \n1379  20190612000000       None             Andet      systemetablering   \n1380  20191217000000       None             Andet      systemetablering   \n1381  20191217000000       None             Andet      systemetablering   \n1382  20200101000000       None  Geodatastyrelsen  ændretBekendtgørelse   \n1383  20200101000000       None  Geodatastyrelsen  ændretBekendtgørelse   \n\n              registreri  ...        lon postnr  \\\n0     20181127115950.448  ...   8.300398   7620   \n1     20181127115950.448  ...   8.300398   7620   \n2     20181127115950.448  ...   8.300398   7620   \n3     20190429145414.863  ...   9.723181   5500   \n4     20181127115950.448  ...   8.178329   7673   \n...                  ...  ...        ...    ...   \n1379  20190612113851.354  ...  11.746338   4700   \n1380  20191217141245.217  ...  10.113277   8381   \n1381  20191217141245.217  ...  10.229043   8240   \n1382  20200108132505.108  ...   9.346793   8800   \n1383  20200108132505.108  ...  10.249937   5471   \n\n                             navn_y institutionstype2  \\\n0               Christinelystskolen       Grundskoler   \n1               Christinelystskolen       Grundskoler   \n2               Christinelystskolen       Grundskoler   \n3                 Fænøsund Friskole       Grundskoler   \n4     Harboøre Skole og Børnecenter       Grundskoler   \n...                             ...               ...   \n1379      Herlufsholm Skole og Gods       Grundskoler   \n1380                    Tilst Skole       Grundskoler   \n1381                  Risskov Skole       Grundskoler   \n1382    Hald Ege Fri- og Efterskole       Grundskoler   \n1383                 Søndersøskolen       Grundskoler   \n\n                     institutionstype3  \\\n0                          Folkeskoler   \n1                          Folkeskoler   \n2                          Folkeskoler   \n3     Friskoler og private grundskoler   \n4                          Folkeskoler   \n...                                ...   \n1379  Friskoler og private grundskoler   \n1380                       Folkeskoler   \n1381                       Folkeskoler   \n1382  Friskoler og private grundskoler   \n1383                       Folkeskoler   \n\n                                   coordinates  year salgspris  \\\n0        (56.5417072334074, 8.300397891210551)  2019   6057.50   \n1        (56.5417072334074, 8.300397891210551)  2019   6057.50   \n2        (56.5417072334074, 8.300397891210551)  2019   6057.50   \n3       (55.499902107147705, 9.72318121375711)  2019  13502.25   \n4         (56.6178540439447, 8.17832922896946)  2019   7482.00   \n...                                        ...   ...       ...   \n1379                 (55.2458162, 11.74633787)  2019  12126.50   \n1380  (56.189536015882204, 10.113277148416598)  2019  18300.25   \n1381    (56.192965125566595, 10.2290432602524)  2019  30179.00   \n1382    (56.411417510544005, 9.34679331044587)  2019  12405.75   \n1383     (55.48794585758449, 10.2499368661636)  2019   7461.00   \n\n                          geometry_y            refs  \n0     POINT (456980.040 6266591.920)  F901665003.htm  \n1     POINT (456980.040 6266591.920)  F901665004.htm  \n2     POINT (456980.040 6266591.920)  F901665001.htm  \n3     POINT (545683.475 6150659.929)  F605410001.htm  \n4     POINT (449575.430 6275150.450)  F901665008.htm  \n...                              ...             ...  \n1379  POINT (674580.150 6125584.880)  F504370026.htm  \n1380  POINT (569090.820 6227732.500)  F802751028.htm  \n1381  POINT (576268.150 6228236.160)  F804751045.htm  \n1382  POINT (521398.360 6251924.723)  F903791002.htm  \n1383  POINT (578981.147 6149801.670)  F605480013.htm  \n\n[1384 rows x 46 columns]",
      "text/html": "<div>\n<style scoped>\n    .dataframe tbody tr th:only-of-type {\n        vertical-align: middle;\n    }\n\n    .dataframe tbody tr th {\n        vertical-align: top;\n    }\n\n    .dataframe thead th {\n        text-align: right;\n    }\n</style>\n<table border=\"1\" class=\"dataframe\">\n  <thead>\n    <tr style=\"text-align: right;\">\n      <th></th>\n      <th>objectid</th>\n      <th>id_lokalid</th>\n      <th>id_namespa</th>\n      <th>status</th>\n      <th>geometrist</th>\n      <th>virkningfr</th>\n      <th>virkningti</th>\n      <th>virkningsa</th>\n      <th>forretning</th>\n      <th>registreri</th>\n      <th>...</th>\n      <th>lon</th>\n      <th>postnr</th>\n      <th>navn_y</th>\n      <th>institutionstype2</th>\n      <th>institutionstype3</th>\n      <th>coordinates</th>\n      <th>year</th>\n      <th>salgspris</th>\n      <th>geometry_y</th>\n      <th>refs</th>\n    </tr>\n  </thead>\n  <tbody>\n    <tr>\n      <th>0</th>\n      <td>1285591</td>\n      <td>711178</td>\n      <td>http://data.gov.dk/dagi</td>\n      <td>vedtaget</td>\n      <td>endelig</td>\n      <td>20181127000000</td>\n      <td>None</td>\n      <td>Andet</td>\n      <td>systemetablering</td>\n      <td>20181127115950.448</td>\n      <td>...</td>\n      <td>8.300398</td>\n      <td>7620</td>\n      <td>Christinelystskolen</td>\n      <td>Grundskoler</td>\n      <td>Folkeskoler</td>\n      <td>(56.5417072334074, 8.300397891210551)</td>\n      <td>2019</td>\n      <td>6057.50</td>\n      <td>POINT (456980.040 6266591.920)</td>\n      <td>F901665003.htm</td>\n    </tr>\n    <tr>\n      <th>1</th>\n      <td>1285619</td>\n      <td>711172</td>\n      <td>http://data.gov.dk/dagi</td>\n      <td>vedtaget</td>\n      <td>endelig</td>\n      <td>20181127000000</td>\n      <td>None</td>\n      <td>Andet</td>\n      <td>systemetablering</td>\n      <td>20181127115950.448</td>\n      <td>...</td>\n      <td>8.300398</td>\n      <td>7620</td>\n      <td>Christinelystskolen</td>\n      <td>Grundskoler</td>\n      <td>Folkeskoler</td>\n      <td>(56.5417072334074, 8.300397891210551)</td>\n      <td>2019</td>\n      <td>6057.50</td>\n      <td>POINT (456980.040 6266591.920)</td>\n      <td>F901665004.htm</td>\n    </tr>\n    <tr>\n      <th>2</th>\n      <td>1285631</td>\n      <td>706536</td>\n      <td>http://data.gov.dk/dagi</td>\n      <td>vedtaget</td>\n      <td>endelig</td>\n      <td>20181127000000</td>\n      <td>None</td>\n      <td>Andet</td>\n      <td>systemetablering</td>\n      <td>20181127115950.448</td>\n      <td>...</td>\n      <td>8.300398</td>\n      <td>7620</td>\n      <td>Christinelystskolen</td>\n      <td>Grundskoler</td>\n      <td>Folkeskoler</td>\n      <td>(56.5417072334074, 8.300397891210551)</td>\n      <td>2019</td>\n      <td>6057.50</td>\n      <td>POINT (456980.040 6266591.920)</td>\n      <td>F901665001.htm</td>\n    </tr>\n    <tr>\n      <th>3</th>\n      <td>1295999</td>\n      <td>706714</td>\n      <td>http://data.gov.dk/dagi</td>\n      <td>vedtaget</td>\n      <td>endelig</td>\n      <td>20190429000000</td>\n      <td>None</td>\n      <td>Andet</td>\n      <td>systemetablering</td>\n      <td>20190429145414.863</td>\n      <td>...</td>\n      <td>9.723181</td>\n      <td>5500</td>\n      <td>Fænøsund Friskole</td>\n      <td>Grundskoler</td>\n      <td>Friskoler og private grundskoler</td>\n      <td>(55.499902107147705, 9.72318121375711)</td>\n      <td>2019</td>\n      <td>13502.25</td>\n      <td>POINT (545683.475 6150659.929)</td>\n      <td>F605410001.htm</td>\n    </tr>\n    <tr>\n      <th>4</th>\n      <td>1285601</td>\n      <td>701882</td>\n      <td>http://data.gov.dk/dagi</td>\n      <td>vedtaget</td>\n      <td>endelig</td>\n      <td>20181127000000</td>\n      <td>None</td>\n      <td>Andet</td>\n      <td>systemetablering</td>\n      <td>20181127115950.448</td>\n      <td>...</td>\n      <td>8.178329</td>\n      <td>7673</td>\n      <td>Harboøre Skole og Børnecenter</td>\n      <td>Grundskoler</td>\n      <td>Folkeskoler</td>\n      <td>(56.6178540439447, 8.17832922896946)</td>\n      <td>2019</td>\n      <td>7482.00</td>\n      <td>POINT (449575.430 6275150.450)</td>\n      <td>F901665008.htm</td>\n    </tr>\n    <tr>\n      <th>...</th>\n      <td>...</td>\n      <td>...</td>\n      <td>...</td>\n      <td>...</td>\n      <td>...</td>\n      <td>...</td>\n      <td>...</td>\n      <td>...</td>\n      <td>...</td>\n      <td>...</td>\n      <td>...</td>\n      <td>...</td>\n      <td>...</td>\n      <td>...</td>\n      <td>...</td>\n      <td>...</td>\n      <td>...</td>\n      <td>...</td>\n      <td>...</td>\n      <td>...</td>\n      <td>...</td>\n    </tr>\n    <tr>\n      <th>1379</th>\n      <td>1303228</td>\n      <td>712204</td>\n      <td>http://data.gov.dk/dagi</td>\n      <td>vedtaget</td>\n      <td>endelig</td>\n      <td>20190612000000</td>\n      <td>None</td>\n      <td>Andet</td>\n      <td>systemetablering</td>\n      <td>20190612113851.354</td>\n      <td>...</td>\n      <td>11.746338</td>\n      <td>4700</td>\n      <td>Herlufsholm Skole og Gods</td>\n      <td>Grundskoler</td>\n      <td>Friskoler og private grundskoler</td>\n      <td>(55.2458162, 11.74633787)</td>\n      <td>2019</td>\n      <td>12126.50</td>\n      <td>POINT (674580.150 6125584.880)</td>\n      <td>F504370026.htm</td>\n    </tr>\n    <tr>\n      <th>1380</th>\n      <td>1306341</td>\n      <td>703948</td>\n      <td>http://data.gov.dk/dagi</td>\n      <td>vedtaget</td>\n      <td>endelig</td>\n      <td>20191217000000</td>\n      <td>None</td>\n      <td>Andet</td>\n      <td>systemetablering</td>\n      <td>20191217141245.217</td>\n      <td>...</td>\n      <td>10.113277</td>\n      <td>8381</td>\n      <td>Tilst Skole</td>\n      <td>Grundskoler</td>\n      <td>Folkeskoler</td>\n      <td>(56.189536015882204, 10.113277148416598)</td>\n      <td>2019</td>\n      <td>18300.25</td>\n      <td>POINT (569090.820 6227732.500)</td>\n      <td>F802751028.htm</td>\n    </tr>\n    <tr>\n      <th>1381</th>\n      <td>1306371</td>\n      <td>709972</td>\n      <td>http://data.gov.dk/dagi</td>\n      <td>vedtaget</td>\n      <td>endelig</td>\n      <td>20191217000000</td>\n      <td>None</td>\n      <td>Andet</td>\n      <td>systemetablering</td>\n      <td>20191217141245.217</td>\n      <td>...</td>\n      <td>10.229043</td>\n      <td>8240</td>\n      <td>Risskov Skole</td>\n      <td>Grundskoler</td>\n      <td>Folkeskoler</td>\n      <td>(56.192965125566595, 10.2290432602524)</td>\n      <td>2019</td>\n      <td>30179.00</td>\n      <td>POINT (576268.150 6228236.160)</td>\n      <td>F804751045.htm</td>\n    </tr>\n    <tr>\n      <th>1382</th>\n      <td>1306648</td>\n      <td>702938</td>\n      <td>http://data.gov.dk/dagi</td>\n      <td>vedtaget</td>\n      <td>endelig</td>\n      <td>20200101000000</td>\n      <td>None</td>\n      <td>Geodatastyrelsen</td>\n      <td>ændretBekendtgørelse</td>\n      <td>20200108132505.108</td>\n      <td>...</td>\n      <td>9.346793</td>\n      <td>8800</td>\n      <td>Hald Ege Fri- og Efterskole</td>\n      <td>Grundskoler</td>\n      <td>Friskoler og private grundskoler</td>\n      <td>(56.411417510544005, 9.34679331044587)</td>\n      <td>2019</td>\n      <td>12405.75</td>\n      <td>POINT (521398.360 6251924.723)</td>\n      <td>F903791002.htm</td>\n    </tr>\n    <tr>\n      <th>1383</th>\n      <td>1306650</td>\n      <td>709534</td>\n      <td>http://data.gov.dk/dagi</td>\n      <td>vedtaget</td>\n      <td>endelig</td>\n      <td>20200101000000</td>\n      <td>None</td>\n      <td>Geodatastyrelsen</td>\n      <td>ændretBekendtgørelse</td>\n      <td>20200108132505.108</td>\n      <td>...</td>\n      <td>10.249937</td>\n      <td>5471</td>\n      <td>Søndersøskolen</td>\n      <td>Grundskoler</td>\n      <td>Folkeskoler</td>\n      <td>(55.48794585758449, 10.2499368661636)</td>\n      <td>2019</td>\n      <td>7461.00</td>\n      <td>POINT (578981.147 6149801.670)</td>\n      <td>F605480013.htm</td>\n    </tr>\n  </tbody>\n</table>\n<p>1384 rows × 46 columns</p>\n</div>"
     },
     "metadata": {},
     "execution_count": 9
    }
   ],
   "source": [
    "# merge merge1 to mapping on 'objectid'\n",
    "mapping = pd.read_csv(cwd+'/scrape_geodata/mapping_geodata_v3.csv', sep =';')\n",
    "mapping.objectid = mapping.objectid.astype(str)\n",
    "merge2 = pd.merge(left = merge1, right = mapping[['objectid', 'refs']], on = 'objectid')\n",
    "merge2"
   ]
  },
  {
   "cell_type": "code",
   "execution_count": 10,
   "metadata": {},
   "outputs": [
    {
     "output_type": "execute_result",
     "data": {
      "text/plain": "0        665\n1        665\n2        665\n3        665\n4        665\n        ... \n19510    480\n19511    480\n19512    480\n19513    480\n19514    480\nName: kommunekod, Length: 19515, dtype: object"
     },
     "metadata": {},
     "execution_count": 10
    }
   ],
   "source": [
    "# merge to election results\n",
    "election_result = pd.read_csv(cwd+'/scrape_geodata/data2019.csv')\n",
    "\n",
    "merge3 = pd.merge(left = merge2, right = election_result, on = 'refs')\n",
    "merge3.kommunekod = merge3.kommunekod.astype(int).astype(str)\n",
    "merge3.kommunekod"
   ]
  },
  {
   "cell_type": "code",
   "execution_count": 11,
   "metadata": {},
   "outputs": [],
   "source": [
    "# merge to background vars on kommune level\n",
    "background = pd.read_csv('kom_background_vars2019.csv', index_col = 0)\n",
    "\n",
    "background.KOMKODE = background.KOMKODE.astype(str)\n",
    "background\n",
    "\n",
    "all_2019 = pd.merge(left = merge3, right = background, left_on = 'kommunekod', right_on = 'KOMKODE')\n",
    "all_2019.to_csv('all_2019.csv')\n"
   ]
  },
  {
   "cell_type": "code",
   "execution_count": 102,
   "metadata": {},
   "outputs": [
    {
     "output_type": "execute_result",
     "data": {
      "text/plain": "                                  party    votes\n13222                 Socialdemokratiet    1.659\n13223                  Radikale Venstre  547.000\n13224       Det Konservative Folkeparti  365.000\n13225                    Nye Borgerlige  137.000\n13226             Klaus Riskær Pedersen   51.000\n13227      SF - Socialistisk Folkeparti  534.000\n13228                  Liberal Alliance  150.000\n13229               Kristendemokraterne  103.000\n13230                  Dansk Folkeparti  457.000\n13231                        Stram Kurs   85.000\n13232  Venstre, Danmarks Liberale Parti    1.450\n13233      Enhedslisten - De Rød-Grønne  441.000\n13234                      Alternativet  227.000\n13235                 Chresten H. Ibsen   10.000\n13236                      Hans Schultz    0.000",
      "text/html": "<div>\n<style scoped>\n    .dataframe tbody tr th:only-of-type {\n        vertical-align: middle;\n    }\n\n    .dataframe tbody tr th {\n        vertical-align: top;\n    }\n\n    .dataframe thead th {\n        text-align: right;\n    }\n</style>\n<table border=\"1\" class=\"dataframe\">\n  <thead>\n    <tr style=\"text-align: right;\">\n      <th></th>\n      <th>party</th>\n      <th>votes</th>\n    </tr>\n  </thead>\n  <tbody>\n    <tr>\n      <th>13222</th>\n      <td>Socialdemokratiet</td>\n      <td>1.659</td>\n    </tr>\n    <tr>\n      <th>13223</th>\n      <td>Radikale Venstre</td>\n      <td>547.000</td>\n    </tr>\n    <tr>\n      <th>13224</th>\n      <td>Det Konservative Folkeparti</td>\n      <td>365.000</td>\n    </tr>\n    <tr>\n      <th>13225</th>\n      <td>Nye Borgerlige</td>\n      <td>137.000</td>\n    </tr>\n    <tr>\n      <th>13226</th>\n      <td>Klaus Riskær Pedersen</td>\n      <td>51.000</td>\n    </tr>\n    <tr>\n      <th>13227</th>\n      <td>SF - Socialistisk Folkeparti</td>\n      <td>534.000</td>\n    </tr>\n    <tr>\n      <th>13228</th>\n      <td>Liberal Alliance</td>\n      <td>150.000</td>\n    </tr>\n    <tr>\n      <th>13229</th>\n      <td>Kristendemokraterne</td>\n      <td>103.000</td>\n    </tr>\n    <tr>\n      <th>13230</th>\n      <td>Dansk Folkeparti</td>\n      <td>457.000</td>\n    </tr>\n    <tr>\n      <th>13231</th>\n      <td>Stram Kurs</td>\n      <td>85.000</td>\n    </tr>\n    <tr>\n      <th>13232</th>\n      <td>Venstre, Danmarks Liberale Parti</td>\n      <td>1.450</td>\n    </tr>\n    <tr>\n      <th>13233</th>\n      <td>Enhedslisten - De Rød-Grønne</td>\n      <td>441.000</td>\n    </tr>\n    <tr>\n      <th>13234</th>\n      <td>Alternativet</td>\n      <td>227.000</td>\n    </tr>\n    <tr>\n      <th>13235</th>\n      <td>Chresten H. Ibsen</td>\n      <td>10.000</td>\n    </tr>\n    <tr>\n      <th>13236</th>\n      <td>Hans Schultz</td>\n      <td>0.000</td>\n    </tr>\n  </tbody>\n</table>\n</div>"
     },
     "metadata": {},
     "execution_count": 102
    }
   ],
   "source": [
    "all_2019.columns = all_2019.columns.str.lower()\n",
    "\n",
    "col_vars = ['objectid','navn_x', 'afstemni00','kommunekod', 'institutionsnummer', 'karakter', 'soc_ref', 'postnr', 'navn_y', 'institutionstype2', 'institutionstype3', 'year_x', 'salgspris', 'party', 'votes', 'eligible_count', 'blank', 'invalid', 'total_valid', 'total_casted', 'time_stamp', 'names', 'constituency', 'voting_area', 'municipality', 'disindk', 'kriminelitet', 'lavindk', 'skilsmisser', 'andel_indv']\n",
    "\n",
    "all_2019[all_2019['refs'] == 'F809746006.htm'][['party', 'votes']]"
   ]
  },
  {
   "cell_type": "code",
   "execution_count": 103,
   "metadata": {},
   "outputs": [],
   "source": [
    "temp_2019 = all_2019[col_vars]"
   ]
  },
  {
   "cell_type": "code",
   "execution_count": 104,
   "metadata": {},
   "outputs": [
    {
     "output_type": "execute_result",
     "data": {
      "text/plain": "                                  party    votes\n11895                 Socialdemokratiet    1.555\n11896                  Radikale Venstre    1.099\n11897       Det Konservative Folkeparti  494.000\n11898                    Nye Borgerlige  109.000\n11899             Klaus Riskær Pedersen   85.000\n11900      SF - Socialistisk Folkeparti  734.000\n11901                  Liberal Alliance  359.000\n11902               Kristendemokraterne   90.000\n11903                  Dansk Folkeparti  270.000\n11904                        Stram Kurs  130.000\n11905  Venstre, Danmarks Liberale Parti    1.612\n11906      Enhedslisten - De Rød-Grønne  907.000\n11907                      Alternativet  534.000",
      "text/html": "<div>\n<style scoped>\n    .dataframe tbody tr th:only-of-type {\n        vertical-align: middle;\n    }\n\n    .dataframe tbody tr th {\n        vertical-align: top;\n    }\n\n    .dataframe thead th {\n        text-align: right;\n    }\n</style>\n<table border=\"1\" class=\"dataframe\">\n  <thead>\n    <tr style=\"text-align: right;\">\n      <th></th>\n      <th>party</th>\n      <th>votes</th>\n    </tr>\n  </thead>\n  <tbody>\n    <tr>\n      <th>11895</th>\n      <td>Socialdemokratiet</td>\n      <td>1.555</td>\n    </tr>\n    <tr>\n      <th>11896</th>\n      <td>Radikale Venstre</td>\n      <td>1.099</td>\n    </tr>\n    <tr>\n      <th>11897</th>\n      <td>Det Konservative Folkeparti</td>\n      <td>494.000</td>\n    </tr>\n    <tr>\n      <th>11898</th>\n      <td>Nye Borgerlige</td>\n      <td>109.000</td>\n    </tr>\n    <tr>\n      <th>11899</th>\n      <td>Klaus Riskær Pedersen</td>\n      <td>85.000</td>\n    </tr>\n    <tr>\n      <th>11900</th>\n      <td>SF - Socialistisk Folkeparti</td>\n      <td>734.000</td>\n    </tr>\n    <tr>\n      <th>11901</th>\n      <td>Liberal Alliance</td>\n      <td>359.000</td>\n    </tr>\n    <tr>\n      <th>11902</th>\n      <td>Kristendemokraterne</td>\n      <td>90.000</td>\n    </tr>\n    <tr>\n      <th>11903</th>\n      <td>Dansk Folkeparti</td>\n      <td>270.000</td>\n    </tr>\n    <tr>\n      <th>11904</th>\n      <td>Stram Kurs</td>\n      <td>130.000</td>\n    </tr>\n    <tr>\n      <th>11905</th>\n      <td>Venstre, Danmarks Liberale Parti</td>\n      <td>1.612</td>\n    </tr>\n    <tr>\n      <th>11906</th>\n      <td>Enhedslisten - De Rød-Grønne</td>\n      <td>907.000</td>\n    </tr>\n    <tr>\n      <th>11907</th>\n      <td>Alternativet</td>\n      <td>534.000</td>\n    </tr>\n  </tbody>\n</table>\n</div>"
     },
     "metadata": {},
     "execution_count": 104
    }
   ],
   "source": [
    "temp_2019[temp_2019['objectid'] == '1462182'][['party', 'votes']]\n",
    "# 1275543"
   ]
  },
  {
   "cell_type": "markdown",
   "metadata": {},
   "source": [
    "## Fix the absolute shitshow that is the vote count formatting"
   ]
  },
  {
   "cell_type": "code",
   "execution_count": 337,
   "metadata": {},
   "outputs": [],
   "source": [
    "# We are facing an issue with the formatting of the scraped data. Because of the separator '.', when we load the data, python thinks that every number larger than 1000 is actually decimal. We need to identify, which numbers need to be multiplied by 1000. To do this, we find modulus 1 for each vote count, and if this is different from 0, we should multiply the number by 1000. There is however one issue with this approach: If a party has received exactly 1000 (or 2000 or 3000 etc) votes at a polling place, our data reports the number of votes to be 1.0. Before making the conversion, we need to check if this is the case. At some smaller polling places, however, some parties may actually have received only 1 vote. To get around this, we first check manually for the maximum voting count by party, given that modulus 1 of the voting count is different from 0, to find the maximum number of votes for each party. Then, if the maximum voting count is, say, 4792, we check the KMD website, for each of the polling places, that report a voting count of 1, 2, 3 and 4. If any of these voting counts are actually 1000 etc., they will be multiplied by 1000. We do this for every praty, that have received more than 1000 votes at a single polling place. Then we identify observations with modulus 1 different from zero and multiply these by 1000. \n",
    "# There is a risk of missing some observations, in case the maximum voting count for a party is a multiple of 1000. In that case, we won't recognise the observation as one that should be multiplied by 1000. This is, however, unlikely enough for us to assume it won't be the case.\n",
    "\n",
    "# Ideally, when we scrape, we should store the data as strings, so we can delete the seperators before converting them to ints. We should try and fix this, the next time we scrape. If not, this method should be our fall back.\n",
    "\n",
    "\n",
    "# max number of votes for A: 4.792  (4792) objectid 1306109\n",
    "# max number of votes for V: 4.556 (4556) objectid 1306030\n",
    "# max number of votes for B: 2.448 (2448) objectid 1306375\n",
    "# max number of votes for C: 3.218 (3218) objectid 1306109\n",
    "# max number of votes for D: no problem\n",
    "# max number of votes for E: no problem\n",
    "# max number of votes for F: 1.775 (1775) objectid 1306109\n",
    "# max number of votes for I: no problem\n",
    "# max number of votes for K: 1.114 (1114) objectid 1298885\n",
    "# max number of votes for O: 1.104 (1104) objectid 1289687\n",
    "# max number of votes for P: no problem\n",
    "# max number of votes for Ø: 2.608 (2608) objectid 1304839\n",
    "# måx number of votes for Å: 1.142 (1142)\n",
    "\n",
    "# Check for problem parties (manually on kmd) if any af the parties have received exactly 1000, 2000 etc votes.\n",
    "#  Limits:\n",
    "# Venstre and Socialdemokratiet: 5\n",
    "# Konservative: 4\n",
    "# Radikale Venstre, Enhedslisten: 3\n",
    "# SF, Kristendemokraterne, Dansk Folkeparti, Alternativet: 2\n",
    "\n",
    "# 40 observations have to be checked manually.\n",
    "# 3 observations are reporter as 1.0 or 2.0 but should be multiplied by 1000."
   ]
  },
  {
   "cell_type": "code",
   "execution_count": 96,
   "metadata": {},
   "outputs": [],
   "source": [
    "# Template for checking max number of votes:\n",
    "temp_2019[temp_2019['votes']%1 != 0][temp_2019['party'] == 'Socialdemokratiet'][['party','objectid','votes']].sort_values(by = 'votes')\n",
    "\n",
    "# Finding observations to check with kmd\n",
    "limit5 = ['Venstre, Danmarks Liberale Parti', 'Socialdemokratiet']\n",
    "limit4 = ['Det Konservative Folkeparti']\n",
    "limit3 = ['Radikale Venstre', 'Enhedslisten']\n",
    "limit2 = ['SF - Socialistisk Folkeparti', 'Kristendemokraterne', 'Dansk Folkeparti', 'Alternativet']\n",
    "\n",
    "limits = {5: limit5, 4: limit4, 3: limit3, 2:limit2}\n",
    "\n",
    "obs_to_check = []\n",
    "\n",
    "for limit, parties in limits.items():\n",
    "    for party in parties:\n",
    "        df = temp_2019[temp_2019['votes']<limit][temp_2019['party'] == party][temp_2019['votes']%1==0]\n",
    "        obs_to_check.append(df)\n",
    "\n",
    "check_df = pd.concat(obs_to_check)\n",
    "\n",
    "# To inspect and check with kmd\n",
    "check_df.sort_values(by = 'constituency')[['municipality','constituency', 'navn_x','party','votes']]\n",
    "obs_votes_1000 = [8198, 12558, 873] "
   ]
  },
  {
   "cell_type": "code",
   "execution_count": 97,
   "metadata": {},
   "outputs": [
    {
     "output_type": "execute_result",
     "data": {
      "text/plain": "8198     1000\n12558    1000\n873      1000\nName: vote_multiplyer, dtype: int32"
     },
     "metadata": {},
     "execution_count": 97
    }
   ],
   "source": [
    "# For some reason i can't get pandas to update the votes inplace, so now i'm taking a detour..\n",
    "temp_2019['vote_multiplyer'] = np.where(temp_2019['votes']%1 != 0, 1000, 1)\n",
    "\n",
    "temp_2019.loc[obs_votes_1000,'vote_multiplyer'] = 1000\n",
    "temp_2019.loc[obs_votes_1000]['vote_multiplyer']"
   ]
  },
  {
   "cell_type": "code",
   "execution_count": 101,
   "metadata": {},
   "outputs": [
    {
     "output_type": "execute_result",
     "data": {
      "text/plain": "3218.0"
     },
     "metadata": {},
     "execution_count": 101
    }
   ],
   "source": [
    "temp_2019['votes_v2'] = temp_2019['votes']*temp_2019['vote_multiplyer']\n",
    "temp_2019[temp_2019['party'] == 'Det Konservative Folkeparti']['votes_v2'].max()"
   ]
  },
  {
   "cell_type": "code",
   "execution_count": null,
   "metadata": {},
   "outputs": [],
   "source": [
    "votes_df.groupby(by = 'objectid').sum()\n",
    "votes_df.sort_values(by = 'votes')"
   ]
  },
  {
   "cell_type": "code",
   "execution_count": 57,
   "metadata": {},
   "outputs": [],
   "source": [
    "# Find centroids pr valgsted DONE\n",
    "# Find for hver centroid den nærmeste skole DONE\n",
    "# Lav column med institutionsnummer for nærmeste skole DONE\n",
    "# Merge valgdistrikter med skoledata på institutionsnummer DONE\n",
    "# Merge på mapping fil på objectid DONE\n",
    "# merge på valgresultater fra 2019 på refs DONE\n",
    "# split i kommune og postnnr DONE\n",
    "# ryd op i data - kollaps valgresultater\n",
    "# ryd op i kode\n",
    "# tilføj huspriser for kbhk"
   ]
  }
 ]
}