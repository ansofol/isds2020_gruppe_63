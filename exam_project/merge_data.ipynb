{
 "metadata": {
  "language_info": {
   "codemirror_mode": {
    "name": "ipython",
    "version": 3
   },
   "file_extension": ".py",
   "mimetype": "text/x-python",
   "name": "python",
   "nbconvert_exporter": "python",
   "pygments_lexer": "ipython3",
   "version": "3.7.7-final"
  },
  "orig_nbformat": 2,
  "kernelspec": {
   "name": "python3",
   "display_name": "Python 3"
  }
 },
 "nbformat": 4,
 "nbformat_minor": 2,
 "cells": [
  {
   "cell_type": "code",
   "execution_count": 17,
   "metadata": {
    "tags": []
   },
   "outputs": [],
   "source": [
    "import pandas as pd\n",
    "import numpy as np\n",
    "import os\n",
    "from shapely.geometry import Point, Polygon\n",
    "\n",
    "cwd =os.getcwd()"
   ]
  },
  {
   "cell_type": "markdown",
   "metadata": {},
   "source": [
    "### Structure socioeconomic data by year"
   ]
  },
  {
   "cell_type": "code",
   "execution_count": 18,
   "metadata": {},
   "outputs": [],
   "source": [
    "socioeco_df = pd.read_excel(cwd+'/socioeconomic_data/socioeco_data.xlsx', sheet_name = 'Samlet')\n",
    "\n",
    "postnr_columns =['POSTNR', 'YEAR', 'KOMKODE', 'SALGSPRIS']\n",
    "kom_columns = ['KOMKODE', 'YEAR', 'DISINDK', 'KRIMINELITET', 'LAVINDK', 'SKILSMISSER', 'ANDEL_INDV']\n",
    "\n",
    "post_df = socioeco_df[postnr_columns]\n",
    "kom_df = socioeco_df[kom_columns]\n",
    "\n",
    "years = [2011, 2015, 2019]\n",
    "post_split = [post_df[post_df['YEAR'] == year] for year in years]\n",
    "kom_split = [kom_df[kom_df['YEAR'] == year] for year in years]"
   ]
  },
  {
   "cell_type": "code",
   "execution_count": 19,
   "metadata": {},
   "outputs": [
    {
     "output_type": "execute_result",
     "data": {
      "text/plain": "      POSTNR  YEAR  KOMKODE     SALGSPRIS\n2841    1000  2019      101  37082.250000\n2842    1050  2019      101  37082.250000\n2843    1051  2019      101  37082.250000\n2844    1052  2019      101  37082.250000\n2845    1053  2019      101  37082.250000\n...      ...   ...      ...           ...\n4259    9970  2019      813   6252.666667\n4260    9981  2019      813   8695.750000\n4261    9982  2019      813   6225.000000\n4262    9982  2019      860   6225.000000\n4263    9990  2019      813  16241.750000\n\n[1423 rows x 4 columns]",
      "text/html": "<div>\n<style scoped>\n    .dataframe tbody tr th:only-of-type {\n        vertical-align: middle;\n    }\n\n    .dataframe tbody tr th {\n        vertical-align: top;\n    }\n\n    .dataframe thead th {\n        text-align: right;\n    }\n</style>\n<table border=\"1\" class=\"dataframe\">\n  <thead>\n    <tr style=\"text-align: right;\">\n      <th></th>\n      <th>POSTNR</th>\n      <th>YEAR</th>\n      <th>KOMKODE</th>\n      <th>SALGSPRIS</th>\n    </tr>\n  </thead>\n  <tbody>\n    <tr>\n      <th>2841</th>\n      <td>1000</td>\n      <td>2019</td>\n      <td>101</td>\n      <td>37082.250000</td>\n    </tr>\n    <tr>\n      <th>2842</th>\n      <td>1050</td>\n      <td>2019</td>\n      <td>101</td>\n      <td>37082.250000</td>\n    </tr>\n    <tr>\n      <th>2843</th>\n      <td>1051</td>\n      <td>2019</td>\n      <td>101</td>\n      <td>37082.250000</td>\n    </tr>\n    <tr>\n      <th>2844</th>\n      <td>1052</td>\n      <td>2019</td>\n      <td>101</td>\n      <td>37082.250000</td>\n    </tr>\n    <tr>\n      <th>2845</th>\n      <td>1053</td>\n      <td>2019</td>\n      <td>101</td>\n      <td>37082.250000</td>\n    </tr>\n    <tr>\n      <th>...</th>\n      <td>...</td>\n      <td>...</td>\n      <td>...</td>\n      <td>...</td>\n    </tr>\n    <tr>\n      <th>4259</th>\n      <td>9970</td>\n      <td>2019</td>\n      <td>813</td>\n      <td>6252.666667</td>\n    </tr>\n    <tr>\n      <th>4260</th>\n      <td>9981</td>\n      <td>2019</td>\n      <td>813</td>\n      <td>8695.750000</td>\n    </tr>\n    <tr>\n      <th>4261</th>\n      <td>9982</td>\n      <td>2019</td>\n      <td>813</td>\n      <td>6225.000000</td>\n    </tr>\n    <tr>\n      <th>4262</th>\n      <td>9982</td>\n      <td>2019</td>\n      <td>860</td>\n      <td>6225.000000</td>\n    </tr>\n    <tr>\n      <th>4263</th>\n      <td>9990</td>\n      <td>2019</td>\n      <td>813</td>\n      <td>16241.750000</td>\n    </tr>\n  </tbody>\n</table>\n<p>1423 rows × 4 columns</p>\n</div>"
     },
     "metadata": {},
     "execution_count": 19
    }
   ],
   "source": [
    "post_split[2]"
   ]
  },
  {
   "cell_type": "markdown",
   "metadata": {},
   "source": [
    "### Merge school data and socioeconomic data by postal code and kommune"
   ]
  },
  {
   "cell_type": "code",
   "execution_count": 31,
   "metadata": {},
   "outputs": [],
   "source": [
    "df_list = []\n",
    "for data, year in zip(post_split, [2011, 2015, 2019]):\n",
    "    # load data\n",
    "    soc_data = data\n",
    "    school_data = pd.read_csv(cwd+f'/school_data/school_clean_{year-1}-{year}.csv', index_col=0)\n",
    "\n",
    "    # merge data\n",
    "    merged = pd.merge(left = school_data, right = soc_data, left_on = ['beliggenhedskommunenr', 'postnr'], right_on = ['KOMKODE', 'POSTNR'])\n",
    "\n",
    "    # format\n",
    "    merged.columns = merged.columns.str.lower()\n",
    "    merged = merged.T.drop_duplicates().T\n",
    "\n",
    "    merged.to_csv(f'postnr_background_vars{year}.csv')\n",
    "\n",
    "    df_list.append(merged)\n",
    "\n",
    "for data, year in zip(kom_split, [2011, 2015, 2019]):\n",
    "    data.drop_duplicates()\\\n",
    "        .to_csv(f'kom_background_vars{year}.csv')"
   ]
  },
  {
   "cell_type": "code",
   "execution_count": null,
   "metadata": {},
   "outputs": [],
   "source": []
  },
  {
   "cell_type": "code",
   "execution_count": null,
   "metadata": {},
   "outputs": [],
   "source": []
  },
  {
   "cell_type": "code",
   "execution_count": null,
   "metadata": {},
   "outputs": [],
   "source": []
  },
  {
   "cell_type": "code",
   "execution_count": 32,
   "metadata": {
    "tags": []
   },
   "outputs": [],
   "source": [
    "import pandas as pd\n",
    "import geopandas as gpd\n",
    "from shapely.geometry import Point\n",
    "from shapely.ops import nearest_points\n",
    "import pyproj\n"
   ]
  },
  {
   "cell_type": "code",
   "execution_count": 33,
   "metadata": {},
   "outputs": [],
   "source": [
    "# Well, that was horrible...\n",
    "# conda remove pyproj\n",
    "# pip install pyproj\n",
    "# conda install geopandas \n",
    "\n",
    "# Læs baggrundsvariable of oversæt til utm\n",
    "df = pd.read_csv('postnr_background_vars2019.csv', index_col=0)\n",
    "\n",
    "c = [Point(x, y) for x, y in zip(df['lon'], df['lat'])]\n",
    "gdf = gpd.GeoDataFrame(df, geometry = c)\n",
    "\n",
    "gdf.crs = {'init': 'epsg:4326'}\n",
    "gdf_utm = gdf.to_crs(epsg = 32632)\n",
    "\n",
    "# frasorter efterskoler (behold privat- og friskoler for at undgå for stort fald i antal observationer)\n",
    "gdf_utm = gdf_utm[gdf_utm['institutionstype2'] == 'Grundskoler']"
   ]
  },
  {
   "cell_type": "code",
   "execution_count": 34,
   "metadata": {},
   "outputs": [],
   "source": [
    "# Læs valgdistrikter og tilføj centroid\n",
    "valg_distrikt = gpd.read_file(cwd+'\\scrape_geodata\\geodata\\dagi_10m_nohist_l1.afstemningsomraade\\\\afstemningsomraade.shp', driver = 'ESRI Shapefile')\n",
    "valg_distrikt['centroid']=valg_distrikt['geometry'].centroid"
   ]
  },
  {
   "cell_type": "code",
   "execution_count": 35,
   "metadata": {},
   "outputs": [],
   "source": [
    "valg_geo = valg_distrikt.set_geometry('centroid')\n",
    "schools_geo = gdf_utm.geometry.unary_union"
   ]
  },
  {
   "cell_type": "code",
   "execution_count": 36,
   "metadata": {},
   "outputs": [],
   "source": [
    "# Find for hver centroid den nærmeste skole\n",
    "# For valg_distrikt['c½entroid'] find nærmeste gdf_utm['geometry'] ogtilføj tilhørende 'institutionsnummer'\n",
    "pts3 = gdf_utm.geometry.unary_union\n",
    "def near(point, pts = pts3):\n",
    "    nearest = gdf_utm.geometry == nearest_points(point, pts)[1]\n",
    "    return gdf_utm[nearest]['institutionsnummer'].values[0]\n",
    "    \n",
    "valg_geo['institutionsnummer'] = valg_geo.apply(lambda row: near(row.geometry), axis = 1)"
   ]
  },
  {
   "cell_type": "code",
   "execution_count": 26,
   "metadata": {
    "tags": []
   },
   "outputs": [
    {
     "output_type": "execute_result",
     "data": {
      "text/plain": "\"test_valg = valg_geo.iloc[0].centroid\\n\\nnearest = nearest_points(test_valg, schools_geo)[1]\\nprint(test_valg)\\nprint(nearest)\\ngdf_utm[gdf_utm['geometry'] == nearest]\""
     },
     "metadata": {},
     "execution_count": 26
    }
   ],
   "source": [
    "\"\"\"test_valg = valg_geo.iloc[0].centroid\n",
    "\n",
    "nearest = nearest_points(test_valg, schools_geo)[1]\n",
    "print(test_valg)\n",
    "print(nearest)\n",
    "gdf_utm[gdf_utm['geometry'] == nearest]\"\"\""
   ]
  },
  {
   "cell_type": "code",
   "execution_count": 37,
   "metadata": {},
   "outputs": [
    {
     "output_type": "execute_result",
     "data": {
      "text/plain": "Index(['objectid', 'id_lokalid', 'id_namespa', 'status', 'geometrist',\n       'virkningfr', 'virkningti', 'virkningsa', 'forretning', 'registreri',\n       'registre00', 'registre01', 'forretni00', 'forretni01', 'dagiid',\n       'navn_x', 'redigering', 'dataspecif', 'landekode', 'skala',\n       'afstemning', 'afstemni00', 'afstemni01', 'kommunekod', 'kommunelok',\n       'opstilling', 'opstilli00', 'udtraeksda', 'gmlid', 'geometry_x',\n       'centroid', 'institutionsnummer', 'karakter', 'soc_ref',\n       'beliggenhedskommunenr', 'lat', 'lon', 'postnr', 'navn_y',\n       'institutionstype2', 'institutionstype3', 'coordinates', 'year',\n       'salgspris', 'geometry_y'],\n      dtype='object')"
     },
     "metadata": {},
     "execution_count": 37
    }
   ],
   "source": [
    "# merge election to school in 'intitutionsnummer\n",
    "merge1 = pd.merge(left=valg_geo, right = gdf_utm, on = 'institutionsnummer')\n",
    "merge1.columns"
   ]
  },
  {
   "cell_type": "code",
   "execution_count": 38,
   "metadata": {},
   "outputs": [],
   "source": [
    "# merge merge1 to mapping on 'objectid'\n",
    "mapping = pd.read_csv(cwd+'/scrape_geodata/mapping_geodata_v3.csv', sep =';')\n",
    "mapping.objectid = mapping.objectid.astype(str)\n",
    "merge2 = pd.merge(left = merge1, right = mapping[['objectid', 'refs']], on = 'objectid')"
   ]
  },
  {
   "cell_type": "code",
   "execution_count": 39,
   "metadata": {},
   "outputs": [],
   "source": [
    "# merge to election results\n",
    "election_result = pd.read_csv(cwd+'/scrape_geodata/data2019.csv')\n",
    "\n",
    "merge3 = pd.merge(left = merge2, right = election_result, on = 'refs')\n",
    "merge3.kommunekod = merge3.kommunekod.astype(int).astype(str)"
   ]
  },
  {
   "cell_type": "code",
   "execution_count": 40,
   "metadata": {},
   "outputs": [],
   "source": [
    "# merge to background vars on kommune level\n",
    "background = pd.read_csv('kom_background_vars2019.csv', index_col = 0)\n",
    "\n",
    "background.KOMKODE = background.KOMKODE.astype(str)\n",
    "background\n",
    "\n",
    "all_2019 = pd.merge(left = merge3, right = background, left_on = 'kommunekod', right_on = 'KOMKODE')\n",
    "\n",
    "# Not necessary, and the file is very big, but can be used as checkpoint\n",
    "# all_2019.to_csv('all_2019.csv')\n"
   ]
  },
  {
   "cell_type": "code",
   "execution_count": 42,
   "metadata": {},
   "outputs": [],
   "source": [
    "# all_2019 = pd.read_csv('all_2019.csv)\n",
    "all_2019.columns = all_2019.columns.str.lower()\n",
    "\n",
    "col_vars = ['objectid','navn_x', 'afstemni00','kommunekod', 'institutionsnummer', 'karakter', 'soc_ref', 'postnr', 'navn_y', 'institutionstype2', 'institutionstype3', 'year_x', 'salgspris', 'party', 'votes', 'eligible_count', 'blank', 'invalid', 'total_valid', 'total_casted', 'time_stamp', 'names', 'constituency', 'voting_area', 'municipality', 'disindk', 'kriminelitet', 'lavindk', 'skilsmisser', 'andel_indv', 'geometry_x']\n",
    "\n",
    "#all_2019[all_2019['refs'] == 'F809746006.htm'][['party', 'votes']]"
   ]
  },
  {
   "cell_type": "code",
   "execution_count": 43,
   "metadata": {},
   "outputs": [],
   "source": [
    "temp_2019 = all_2019[col_vars]"
   ]
  },
  {
   "cell_type": "code",
   "execution_count": 47,
   "metadata": {},
   "outputs": [],
   "source": [
    "left_parties = ['Socialdemokratiet', 'Radikale Venstre', 'SF - Socialistisk Folkeparti', 'Enhedslisten - De Rød-Grønne', 'Alternativet']\n",
    "right_parties = ['Det Konservative Folkeparti', 'Nye Borgerlige', 'Klaus Riskær Pedersen', 'Liberal Alliance', 'Kristendemokraterne', 'Dansk Folkeparti', 'Stram Kurs', 'Venstre, Danmarks Liberale Parti']\n",
    "\n",
    "left_dummy = [int(party in left_parties) for party in temp_2019['party']]\n",
    "right_dummy = [int(party in right_parties) for party in temp_2019['party']]\n",
    "independent_dummy = [int(party not in left_parties+right_parties) for party in temp_2019['party']]\n",
    "\n",
    "temp_2019['left_dummy'], temp_2019['right_dummy'], temp_2019['independent_dummy'] = left_dummy, right_dummy, independent_dummy\n",
    "\n",
    "temp_2019['left_votes'], temp_2019['right_votes'], temp_2019['independent_votes'] = left_dummy*temp_2019['votes'], right_dummy*temp_2019['votes'], independent_dummy*temp_2019['votes']\n",
    "\n",
    "votes_df = temp_2019[['objectid', 'votes', 'left_votes', 'right_votes', 'independent_votes']].groupby(by = 'objectid').sum()"
   ]
  },
  {
   "cell_type": "code",
   "execution_count": 49,
   "metadata": {},
   "outputs": [],
   "source": [
    "pre_merge = temp_2019.drop(['votes','left_votes', 'right_votes', 'independent_votes', 'left_dummy', 'right_dummy', 'independent_dummy', 'party'], axis = 1)\n",
    "finalish_df = pd.merge(left = pre_merge, right = votes_df, on = 'objectid')\\\n",
    "            .drop_duplicates(subset = 'objectid')\\\n",
    "            .reset_index(drop = True)"
   ]
  },
  {
   "cell_type": "code",
   "execution_count": 52,
   "metadata": {},
   "outputs": [],
   "source": [
    "finalish_df['left_share'] = finalish_df['left_votes']/finalish_df['total_valid']\n",
    "finalish_df['right_share'] = finalish_df['right_votes']/finalish_df['total_valid']\n",
    "finalish_df['independent_share'] = finalish_df['independent_votes']/finalish_df['total_valid']"
   ]
  },
  {
   "cell_type": "code",
   "execution_count": 56,
   "metadata": {},
   "outputs": [],
   "source": [
    "final_df = finalish_df[['objectid', 'afstemni00','navn_x', 'kommunekod', 'municipality', 'constituency','postnr', 'time_stamp', 'votes', 'left_votes', 'right_votes', 'independent_votes', 'blank', 'invalid', 'left_share', 'right_share', 'independent_share', 'institutionsnummer', 'navn_y', 'institutionstype2', 'institutionstype3', 'karakter', 'soc_ref', 'salgspris', 'disindk', 'kriminelitet', 'lavindk','skilsmisser', 'andel_indv', 'geometry_x']]"
   ]
  },
  {
   "cell_type": "code",
   "execution_count": 57,
   "metadata": {},
   "outputs": [],
   "source": [
    "final_df = final_df.rename(columns = {'navn_x': 'afstem_navn2', 'afstemni00': 'afstem_navn1', 'soc_ref': 'karakter_soc_ref', 'navn_y': 'skole_navn', 'blank': 'blank_votes', 'invalid': 'invalid_votes', 'votes': 'votes', 'municipality': 'kommunenavn', 'constituency': 'opst_kreds', 'geometry_x':'geometry'})\n",
    "final_df.to_csv('final_data2019.csv', encoding = 'utf-8-sig')"
   ]
  }
 ]
}