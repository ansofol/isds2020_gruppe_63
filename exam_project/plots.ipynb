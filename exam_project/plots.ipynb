{
 "cells": [
  {
   "cell_type": "code",
   "execution_count": 2,
   "metadata": {},
   "outputs": [],
   "source": [
    "import pandas as pd\n",
    "import geopandas as gpd\n",
    "import matplotlib.pyplot as plt\n",
    "from mpl_toolkits.axes_grid1 import AxesGrid\n",
    "\n",
    "%matplotlib inline"
   ]
  },
  {
   "cell_type": "code",
   "execution_count": 11,
   "metadata": {},
   "outputs": [],
   "source": [
    "years = [2015, 2019]\n",
    "varnames = ['karakter','karakter_soc_ref', 'left_share', 'salgspris', 'disindk', 'kriminelitet', 'lavindk', 'skilsmisser', 'andel_indv', 'pop_density']\n",
    "\n",
    "\n",
    "# Generates individual plots\n",
    "\n",
    "for year in years:\n",
    "    df = pd.read_csv(f'final_data{year}.csv', index_col = 0).reset_index()\n",
    "    geometry = gpd.read_file(f'geometry{year}.shp', index_col = 0).reset_index()\n",
    "    gdf = gpd.GeoDataFrame(pd.merge(left = df, right = geometry, on = 'index'))\\\n",
    "            .set_geometry('geometry_y')\n",
    "\n",
    "    gdf_dk = gdf[gdf['kommunekod'] != 400]\n",
    "    gdf_bornholm = gdf[gdf['kommunekod'] == 400]\n",
    "\n",
    "    for var in varnames:\n",
    "        vmin = gdf[var].min()\n",
    "        vmax = gdf[var].max()\n",
    "\n",
    "        fig, ax = plt.subplots(figsize = (10,8))\n",
    "        gdf_dk.plot( column = var, legend = True, vmin = vmin, vmax = vmax, ax = ax)\n",
    "        ax.set_axis_off()\n",
    "\n",
    "        ax2 = plt.axes([0.63, 0.74, 0.12, 0.1])\n",
    "        gdf_bornholm.plot( column = var, vmin = vmin, vmax = vmax, ax = ax2)\n",
    "        ax2.xaxis.set_visible(False)\n",
    "        ax2.yaxis.set_visible(False)\n",
    "        plt.savefig(f'plots/{var}{year}.png')\n",
    "\n",
    "        plt.close()\n"
   ]
  },
  {
   "cell_type": "code",
   "execution_count": 4,
   "metadata": {},
   "outputs": [],
   "source": [
    "df2015 = pd.read_csv('final_data2015.csv', index_col = 0).reset_index()\n",
    "df2019 = pd.read_csv('final_data2019.csv', index_col = 0).reset_index()\n",
    "\n",
    "geometry2015 = gpd.read_file(f'geometry2015.shp', index_col = 0).reset_index() \n",
    "geometry2019 = gpd.read_file(f'geometry2019.shp', index_col = 0).reset_index()\n",
    "\n",
    "gdf2015 = gpd.GeoDataFrame(pd.merge(left = df2015, right = geometry2015, on = 'index'))\\\n",
    "        .set_geometry('geometry_y')\n",
    "gdf2019 = gpd.GeoDataFrame(pd.merge(left = df2019, right = geometry2019, on = 'index'))\\\n",
    "        .set_geometry('geometry_y')\n",
    "\n",
    "gdf2015_dk = gdf2015[gdf2015['kommunekod'] != 400]\n",
    "gdf2019_dk = gdf2019[gdf2019['kommunekod'] != 400]\n",
    "\n",
    "gdf2015_bornholm = gdf2015[gdf2015['kommunekod'] == 400]\n",
    "gdf2019_bornholm = gdf2019[gdf2019['kommunekod'] == 400]"
   ]
  },
  {
   "cell_type": "code",
   "execution_count": 12,
   "metadata": {},
   "outputs": [],
   "source": [
    "# compare between years\n",
    "varnames = ['karakter','karakter_soc_ref', 'left_share', 'salgspris', 'disindk', 'kriminelitet', 'lavindk', 'skilsmisser', 'andel_indv', 'pop_density']\n",
    "\n",
    "\n",
    "for varname in varnames: \n",
    "    gdf = pd.concat([gdf2015[varname], gdf2019[varname]])\n",
    "    vmin = gdf.min()\n",
    "    vmax = gdf.max()\n",
    "\n",
    "    fig, (ax1, ax2) = plt.subplots(1,2, figsize = (20,8))\n",
    "\n",
    "    gdf2015_dk.plot( column = varname, vmin = vmin, vmax = vmax, ax = ax1)\n",
    "    ax1.set_axis_off()\n",
    "    ax1.set_title('2015')\n",
    "\n",
    "    ax11 = plt.axes([0.315, 0.74, 0.12, 0.1])\n",
    "    gdf2015_bornholm.plot( column = varname, vmin = vmin, vmax = vmax, ax = ax11)\n",
    "    ax11.xaxis.set_visible(False)\n",
    "    ax11.yaxis.set_visible(False)\n",
    "\n",
    "\n",
    "    gdf2019_dk.plot( column = varname, legend = True, vmin = vmin, vmax = vmax, ax = ax2)\n",
    "    ax2.set_axis_off()\n",
    "    if varname in ['kriminelitet', 'skilsmisser']:\n",
    "        ax2.set_title('2018')\n",
    "    elif varname == 'lavindk':\n",
    "        ax2.set_title('2017')\n",
    "    else:\n",
    "        ax2.set_title('2019')\n",
    "\n",
    "    ax21 = plt.axes([0.74, 0.74, 0.12, 0.1])\n",
    "    gdf2019_bornholm.plot( column = varname, vmin = vmin, vmax = vmax, ax = ax21)\n",
    "    ax21.xaxis.set_visible(False)\n",
    "    ax21.yaxis.set_visible(False)\n",
    "\n",
    "    plt.savefig(f'plots/{varname}_compare.png')\n",
    "    plt.close()\n",
    "\n",
    "\n",
    "\n"
   ]
  },
  {
   "cell_type": "code",
   "execution_count": 5,
   "metadata": {},
   "outputs": [],
   "source": [
    "vmax = max([gdf2015['karakter_soc_ref'].max(), gdf2015['karakter'].max(), gdf2019['karakter_soc_ref'].max(), gdf2019['karakter'].max()])\n",
    "vmin = min([gdf2015['karakter_soc_ref'].min(), gdf2015['karakter'].min(), gdf2019['karakter_soc_ref'].min(), gdf2019['karakter'].min()])"
   ]
  },
  {
   "cell_type": "code",
   "execution_count": 3,
   "metadata": {},
   "outputs": [
    {
     "output_type": "error",
     "ename": "NameError",
     "evalue": "name 'gdf2019_dk' is not defined",
     "traceback": [
      "\u001b[1;31m---------------------------------------------------------------------------\u001b[0m",
      "\u001b[1;31mNameError\u001b[0m                                 Traceback (most recent call last)",
      "\u001b[1;32m<ipython-input-3-bcf70d8c396f>\u001b[0m in \u001b[0;36m<module>\u001b[1;34m\u001b[0m\n\u001b[0;32m      7\u001b[0m \u001b[0max\u001b[0m\u001b[1;33m[\u001b[0m\u001b[1;36m1\u001b[0m\u001b[1;33m]\u001b[0m\u001b[1;33m[\u001b[0m\u001b[1;36m0\u001b[0m\u001b[1;33m]\u001b[0m\u001b[1;33m.\u001b[0m\u001b[0mset_ylabel\u001b[0m\u001b[1;33m(\u001b[0m\u001b[1;34m'2015'\u001b[0m\u001b[1;33m,\u001b[0m \u001b[0msize\u001b[0m \u001b[1;33m=\u001b[0m \u001b[1;36m15\u001b[0m\u001b[1;33m)\u001b[0m\u001b[1;33m\u001b[0m\u001b[1;33m\u001b[0m\u001b[0m\n\u001b[0;32m      8\u001b[0m \"\"\"\n\u001b[1;32m----> 9\u001b[1;33m \u001b[0mgdf2019_dk\u001b[0m\u001b[1;33m.\u001b[0m\u001b[0mplot\u001b[0m\u001b[1;33m(\u001b[0m\u001b[0mcolumn\u001b[0m \u001b[1;33m=\u001b[0m \u001b[1;34m'karakter'\u001b[0m\u001b[1;33m,\u001b[0m \u001b[0max\u001b[0m \u001b[1;33m=\u001b[0m \u001b[0max\u001b[0m\u001b[1;33m[\u001b[0m\u001b[1;36m0\u001b[0m\u001b[1;33m]\u001b[0m\u001b[1;33m[\u001b[0m\u001b[1;36m0\u001b[0m\u001b[1;33m]\u001b[0m\u001b[1;33m,\u001b[0m \u001b[0mvmin\u001b[0m \u001b[1;33m=\u001b[0m \u001b[0mvmin\u001b[0m\u001b[1;33m,\u001b[0m \u001b[0mvmax\u001b[0m \u001b[1;33m=\u001b[0m \u001b[0mvmax\u001b[0m\u001b[1;33m)\u001b[0m\u001b[1;33m\u001b[0m\u001b[1;33m\u001b[0m\u001b[0m\n\u001b[0m\u001b[0;32m     10\u001b[0m \u001b[1;33m\u001b[0m\u001b[0m\n\u001b[0;32m     11\u001b[0m \u001b[0max001\u001b[0m \u001b[1;33m=\u001b[0m \u001b[0mplt\u001b[0m\u001b[1;33m.\u001b[0m\u001b[0maxes\u001b[0m\u001b[1;33m(\u001b[0m\u001b[1;33m[\u001b[0m\u001b[1;36m0.355\u001b[0m\u001b[1;33m,\u001b[0m \u001b[1;36m0.8\u001b[0m\u001b[1;33m,\u001b[0m \u001b[1;36m0.06\u001b[0m\u001b[1;33m,\u001b[0m \u001b[1;36m0.05\u001b[0m\u001b[1;33m]\u001b[0m\u001b[1;33m)\u001b[0m\u001b[1;33m\u001b[0m\u001b[1;33m\u001b[0m\u001b[0m\n",
      "\u001b[1;31mNameError\u001b[0m: name 'gdf2019_dk' is not defined"
     ]
    }
   ],
   "source": [
    "# særligt for karakterer\n",
    "fig, ax = plt.subplots(2,2, figsize = (40,40))\n",
    "\"\"\"\n",
    "ax[0][0].set_title('Grade Point Average', size = 15)\n",
    "ax[0][1].set_title('Social Reference', size = 15)\n",
    "ax[0][0].set_ylabel('2019', size = 15)\n",
    "ax[1][0].set_ylabel('2015', size = 15)\n",
    "\"\"\"\n",
    "gdf2019_dk.plot(column = 'karakter', ax = ax[0][0], vmin = vmin, vmax = vmax)\n",
    "\n",
    "ax001 = plt.axes([0.355, 0.8, 0.06, 0.05])\n",
    "gdf2019_bornholm.plot(column = 'karakter', ax = ax001, vmin = vmin, vmax = vmax)\n",
    "\n",
    "\n",
    "gdf2019_dk.plot(column = 'karakter_soc_ref', ax = ax[0][1], vmin = vmin, vmax = vmax)\n",
    "\n",
    "ax011 = plt.axes([0.78, 0.8, 0.06, 0.05])\n",
    "gdf2019_bornholm.plot(column = 'karakter_soc_ref', ax = ax011, vmin = vmin, vmax = vmax)\n",
    "\n",
    "\n",
    "gdf2015_dk.plot(column = 'karakter', ax = ax[1][0], vmin = vmin, vmax = vmax, legend = True)\n",
    "ax[1][0].legend.set_visible(False)\n",
    "\n",
    "ax101 = plt.axes([0.355, 0.383, 0.06, 0.05])\n",
    "gdf2015_bornholm.plot(column = 'karakter', ax = ax101, vmin = vmin, vmax = vmax)\n",
    "\n",
    "\n",
    "gdf2015_dk.plot(column = 'karakter_soc_ref', ax = ax[1][1], vmin = vmin, vmax = vmax, legend =True)\n",
    "\n",
    "ax111 = plt.axes([0.78, 0.383, 0.06, 0.05])\n",
    "gdf2015_bornholm.plot(column = 'karakter_soc_ref', ax = ax111, vmin = vmin, vmax = vmax)\n",
    "\n",
    "cbar_ax = fig.add_axes([0.85, 0.15, 0.05, 0.7])\n",
    "fig.colorbar({'vmin':vmin, 'vmax': vmax}, cbar_ax)\n",
    "\n",
    "plt.savefig('grades.png')"
   ]
  }
 ],
 "metadata": {
  "kernelspec": {
   "display_name": "Python 3",
   "language": "python",
   "name": "python3"
  },
  "language_info": {
   "codemirror_mode": {
    "name": "ipython",
    "version": 3
   },
   "file_extension": ".py",
   "mimetype": "text/x-python",
   "name": "python",
   "nbconvert_exporter": "python",
   "pygments_lexer": "ipython3",
   "version": "3.7.7-final"
  }
 },
 "nbformat": 4,
 "nbformat_minor": 2
}